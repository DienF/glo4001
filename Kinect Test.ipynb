{
 "cells": [
  {
   "cell_type": "code",
   "execution_count": 2,
   "metadata": {
    "collapsed": false
   },
   "outputs": [],
   "source": [
    "# Importation des modules\n",
    "\n",
    "%load_ext autoreload\n",
    "%autoreload 2\n",
    "%matplotlib inline\n",
    "\n",
    "import numpy as np\n",
    "import matplotlib.pyplot as plt\n",
    "import time\n",
    "from robmob.robot import Robot\n",
    "from websocket import WebSocketConnectionClosedException\n",
    "from robmob.sensors import KinectRGBSensor\n",
    "from IPython.display import clear_output"
   ]
  },
  {
   "cell_type": "code",
   "execution_count": 3,
   "metadata": {
    "collapsed": false
   },
   "outputs": [
    {
     "name": "stdout",
     "output_type": "stream",
     "text": [
      "1\n"
     ]
    }
   ],
   "source": [
    "robot = Robot('192.168.0.100')\n",
    "robot.connect()\n",
    "time.sleep(1)\n",
    "kinect = KinectRGBSensor()\n",
    "robot.add_sensor(kinect)\n",
    "time.sleep(1)\n",
    "print(len(kinect.buffer))"
   ]
  },
  {
   "cell_type": "code",
   "execution_count": 8,
   "metadata": {
    "collapsed": false
   },
   "outputs": [
    {
     "name": "stdout",
     "output_type": "stream",
     "text": [
      "30\n"
     ]
    }
   ],
   "source": [
    "print(len(kinect.buffer))"
   ]
  },
  {
   "cell_type": "code",
   "execution_count": null,
   "metadata": {
    "collapsed": false
   },
   "outputs": [
    {
     "name": "stdout",
     "output_type": "stream",
     "text": [
      "Testing ip 192.168.0.104: Buffer has length 13\n",
      "n\n"
     ]
    }
   ],
   "source": [
    "ip_list = [('192.168.0.1%02d' % x) for x in range(15)]\n",
    "\n",
    "for ip in ip_list:\n",
    "    try:\n",
    "        robot = Robot(ip)\n",
    "        robot.connect()\n",
    "        time.sleep(0.4) #wait connection\n",
    "        \n",
    "        kinect = KinectRGBSensor()\n",
    "        robot.add_sensor(kinect)\n",
    "        time.sleep(3) #let buffer fill with data\n",
    "        \n",
    "        \n",
    "        key_in = ''\n",
    "        \n",
    "        while key_in not in ['n', 'q']:\n",
    "            clear_output()\n",
    "            print(\"Testing ip %s: Buffer has length %d\" % (ip, len(kinect.buffer)))\n",
    "            key_in = input()\n",
    "            \n",
    "        if key_in == 'q':\n",
    "            robot.disconnect()\n",
    "            break\n",
    "        robot.disconnect()\n",
    "            \n",
    "    except (WebSocketConnectionClosedException, IndexError):\n",
    "        clear_output()\n",
    "        print('ip %s is not reachable' % ip)\n",
    "        key = input()\n",
    "        if key == 'q':\n",
    "            break\n",
    "        "
   ]
  },
  {
   "cell_type": "code",
   "execution_count": null,
   "metadata": {
    "collapsed": false
   },
   "outputs": [],
   "source": [
    "print(len(kinect.buffer))"
   ]
  },
  {
   "cell_type": "code",
   "execution_count": null,
   "metadata": {
    "collapsed": true
   },
   "outputs": [],
   "source": []
  }
 ],
 "metadata": {
  "kernelspec": {
   "display_name": "Python 3",
   "language": "python",
   "name": "python3"
  },
  "language_info": {
   "codemirror_mode": {
    "name": "ipython",
    "version": 3
   },
   "file_extension": ".py",
   "mimetype": "text/x-python",
   "name": "python",
   "nbconvert_exporter": "python",
   "pygments_lexer": "ipython3",
   "version": "3.4.3"
  },
  "widgets": {
   "state": {},
   "version": "1.1.2"
  }
 },
 "nbformat": 4,
 "nbformat_minor": 0
}
