{
 "cells": [
  {
   "cell_type": "code",
   "execution_count": null,
   "metadata": {
    "collapsed": false
   },
   "outputs": [],
   "source": [
    "%load_ext autoreload\n",
    "%autoreload 2\n",
    "%matplotlib nbagg\n",
    "\n",
    "from robmob import robot, sensors\n",
    "from robmob.point_cloud import PointCloud\n",
    "from time import sleep\n",
    "import math\n",
    "\n",
    "import numpy as np\n",
    "import scipy\n",
    "import scipy.ndimage\n",
    "\n",
    "import matplotlib as mpl\n",
    "import matplotlib.pyplot as plt\n",
    "mpl.use('nbagg')\n",
    "from matplotlib import cm\n",
    "\n",
    "robot_ip = '192.168.0.112'\n",
    "robot = robot.Robot(robot_ip)\n",
    "robot.connect()"
   ]
  },
  {
   "cell_type": "code",
   "execution_count": null,
   "metadata": {
    "collapsed": false
   },
   "outputs": [],
   "source": [
    "depth_image = scipy.ndimage.imread(\"./img/depth_g.png\") / 100.0 #Assume that depth_image contains distances in mm\n",
    "height, width = depth_image.shape\n",
    "# Intrinsic parameters:\n",
    "# field of view\n",
    "fov_x, fov_y = (365.456, 365.456)\n",
    "# principal point\n",
    "center_x, center_y = (254.878, 205.395)"
   ]
  },
  {
   "cell_type": "code",
   "execution_count": null,
   "metadata": {
    "collapsed": false
   },
   "outputs": [],
   "source": [
    "\n",
    "def to_points(depth_image):\n",
    "    height, width = depth_image.shape\n",
    "\n",
    "    theta_x = np.arctan((np.arange(width) - center_x) / fov_x)\n",
    "    theta_y = np.arctan((np.arange(height) - center_y) / fov_y)\n",
    "    theta_x = np.expand_dims(theta_x, axis=0) # Row matrix\n",
    "    theta_y = np.expand_dims(theta_y, axis=1) # Column matrix\n",
    "\n",
    "    dx = depth_image * np.cos(theta_x)\n",
    "    dy = depth_image * np.cos(theta_y)\n",
    "\n",
    "    x = dx * np.sin(theta_x)\n",
    "    y = dy * np.sin(theta_y)\n",
    "    z = depth_image\n",
    "\n",
    "    x_column = np.reshape(x, (-1, 1))\n",
    "    y_column = np.reshape(y, (-1, 1))\n",
    "    z_column = np.reshape(z, (-1, 1))\n",
    "\n",
    "    points = np.hstack((x_column, y_column, z_column))\n",
    "    return points"
   ]
  },
  {
   "cell_type": "markdown",
   "metadata": {
    "collapsed": true
   },
   "source": [
    "### To view the point cloud\n",
    "\n",
    "[link](point_cloud/viewer.html)"
   ]
  },
  {
   "cell_type": "code",
   "execution_count": null,
   "metadata": {
    "collapsed": false
   },
   "outputs": [],
   "source": [
    "depth_sensor = sensors.KinectDepthSensor()\n",
    "rgb_sensor = sensors.KinectRGBSensor()\n",
    "robot.add_sensor(depth_sensor)\n",
    "robot.add_sensor(rgb_sensor)"
   ]
  },
  {
   "cell_type": "code",
   "execution_count": null,
   "metadata": {
    "collapsed": false,
    "scrolled": false
   },
   "outputs": [],
   "source": [
    "buffer_depth = depth_sensor.read_data()\n",
    "buffer_rgb = rgb_sensor.read_data()\n",
    "fig, (ax1, ax2) = plt.subplots(2, 1)\n",
    "\n",
    "im1 = ax1.imshow(buffer_depth, aspect='equal')\n",
    "im2 = ax2.imshow(buffer_rgb, aspect='equal')\n",
    "\n",
    "cbar_ax = fig.add_axes([0.85, 0.15, 0.05, 0.7])\n",
    "fig.colorbar(im1, cax=cbar_ax)\n",
    "\n",
    "plt.show()"
   ]
  },
  {
   "cell_type": "code",
   "execution_count": null,
   "metadata": {
    "collapsed": false,
    "scrolled": true
   },
   "outputs": [],
   "source": [
    "p = to_points(buffer_depth)\n",
    "colors = np.asarray(buffer_rgb).reshape((-1, 3))"
   ]
  },
  {
   "cell_type": "code",
   "execution_count": null,
   "metadata": {
    "collapsed": false
   },
   "outputs": [],
   "source": [
    "PointCloud(p, colors).save()"
   ]
  },
  {
   "cell_type": "code",
   "execution_count": null,
   "metadata": {
    "collapsed": false
   },
   "outputs": [],
   "source": []
  },
  {
   "cell_type": "code",
   "execution_count": null,
   "metadata": {
    "collapsed": true
   },
   "outputs": [],
   "source": []
  }
 ],
 "metadata": {
  "kernelspec": {
   "display_name": "Python 3",
   "language": "python",
   "name": "python3"
  },
  "language_info": {
   "codemirror_mode": {
    "name": "ipython",
    "version": 3
   },
   "file_extension": ".py",
   "mimetype": "text/x-python",
   "name": "python",
   "nbconvert_exporter": "python",
   "pygments_lexer": "ipython3",
   "version": "3.5.2"
  }
 },
 "nbformat": 4,
 "nbformat_minor": 1
}
