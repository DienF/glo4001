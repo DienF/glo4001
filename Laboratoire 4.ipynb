{
 "cells": [
  {
   "cell_type": "markdown",
   "metadata": {},
   "source": [
    "# Laboratoire 4 - Odométrie\n",
    "\n",
    "> **ATTENTION!** Ne pas faire rouler le robot sur les tables\n",
    "\n",
    "\n",
    "> **ATTENTION!** Il est *strictement interdit* de s'approcher des commandes qui font avancer le robot si il y a le moindre risque que le robot ne tombe par terre. Les équipes qui ont un accidents de robot devront chanter *[cette chanson](https://www.youtube.com/watch?v=dQw4w9WgXcQ)* devant toute la classe.\n",
    "\n",
    "\n",
    "> **PROTIP** En cas de problème, soulever le robot l'empêche d'avancer\n",
    "\n",
    "\n",
    "> **ATTENTION!** Ne pas faire rouler le robot sur les tables\n",
    "\n",
    "Au cours de ce laboratoire nous allons étudier la façon dont le robot se déplace. Comme vous le constaterez, le sujet est plus complexe qu'il n'y paraît! Connectons-nous d'abord au robot.\n"
   ]
  },
  {
   "cell_type": "code",
   "execution_count": null,
   "metadata": {
    "tags": []
   },
   "outputs": [],
   "source": [
    "%matplotlib inline\n",
    "\n",
    "from robmob import robot, sensors\n",
    "from robmob.sensors import SimulatorSensor, IN_SIMULATION\n",
    "from time import sleep\n",
    "import math\n",
    "from math import pi as PI\n",
    "\n",
    "import numpy as np\n",
    "import matplotlib.pyplot as plt\n",
    "\n",
    "robot_ip = 'localhost' # Remplacez cette ip par l'ip de votre robot ou par localhost en simulation\n",
    "robot = robot.Robot(robot_ip)\n",
    "robot.connect()"
   ]
  },
  {
   "cell_type": "markdown",
   "metadata": {},
   "source": [
    "## Partie 1 - Le problème du contrôle\n",
    "\n",
    "Pour cette première expérience, utilisez les fonctions de la librairie `robmob` pour ordonner au robot d'avancer d'un mètre.\n",
    "\n",
    "En simulation, ajuster le temps par un facteur `1 / real_time_factor`."
   ]
  },
  {
   "cell_type": "code",
   "execution_count": null,
   "metadata": {},
   "outputs": [],
   "source": [
    "simulator = SimulatorSensor()\n",
    "robot.add_sensor(simulator)"
   ]
  },
  {
   "cell_type": "code",
   "execution_count": null,
   "metadata": {},
   "outputs": [],
   "source": [
    "if IN_SIMULATION:\n",
    "    simulator_data = simulator.peek_data()\n",
    "    real_time_factor = simulator_data['real_time_factor']\n",
    "else:\n",
    "    real_time_factor = 1\n",
    "print(real_time_factor)"
   ]
  },
  {
   "cell_type": "code",
   "execution_count": null,
   "metadata": {},
   "outputs": [],
   "source": [
    "robot.linear_movement(0.2, 5 / real_time_factor)  # Ordonne au robot d'avancer à 0.2 m/s pendant 5 s"
   ]
  },
  {
   "cell_type": "markdown",
   "metadata": {},
   "source": [
    "Vous constaterez que les kobukis se déplacent de beaucoup moins qu'un mètre avec l'exécution de cette commande. Qu'est-ce qui se passe? Pour le comprendre, il faut d'abord se demander comment le robot exécute notre demande.\n",
    "\n",
    "Nous envoyons une commande de vitesse au robot. Le robot active ses moteurs, puis après un certain $\\Delta t$ le robot consulte les encodeurs de ses roues pour valider sa vitesse. La différence entre la vitesse demandée et la vitesse réelle constitue une erreur. Cette erreur est fournie à une fonction appelée un [correcteur PID](https://fr.wikipedia.org/wiki/R%C3%A9gulateur_PID) qui traduit l'erreur en une nouvelle consigne. Cette nouvelle consigne tente de corriger l'erreur sur la vitesse du robot, pour exécuter aussi bien que possible la commande qu'on lui a demandé.\n",
    "\n",
    "Malheureusement, il est difficile de créer un correcteur parfait. Dans le cas qui nous concerne, le correcteur semble avoir de la difficulté à atteindre la vitesse demandée, surtout au début de la trajectoire. Voici un graphique de la vitesse instantanée d'un robot kobuki par rapport au temps. La vitesse demandée est en rouge. L'apparence de ce graphique explique pourquoi les distances parcourues par le robot sont plus courtes que les distances demandées.\n",
    "\n",
    "![Vitesse de la kobuki par rapport au temps](img/vitesse_kobuki.png)\n",
    "\n"
   ]
  },
  {
   "cell_type": "markdown",
   "metadata": {},
   "source": [
    "## Partie 2 - Rotation\n",
    "\n",
    "Dans cette section nous effectuerons des rotations et nous validerons comment le robot peut déduire son état à l'aide de ses différents senseurs.\n",
    "\n",
    "\n",
    "En premier lieu, fixez une règle sur le robot et placez une feuille de papier de façon à pouvoir facilement calculer des angles, comme sur l'image.\n",
    "\n",
    "![Montage rotation](img/montage_rotation.png)\n",
    "\n",
    "Maintenant demandons au robot de faire une rotation de $\\pi$ radians. "
   ]
  },
  {
   "cell_type": "code",
   "execution_count": null,
   "metadata": {},
   "outputs": [],
   "source": [
    "robot.angular_movement(PI / 4, 4 / real_time_factor) # Demande au robot de tourner à PI/4 radians/seconde pendant 4 secondes."
   ]
  },
  {
   "cell_type": "markdown",
   "metadata": {},
   "source": [
    "Mesurez la rotation que le robot a effectué. Vous constaterez que la rotation résultante est beaucoup plus faible que la rotation demandée.  Mais le robot en est-il conscient?\n",
    "\n",
    "### Odométrie\n",
    "\n",
    "Nous allons utiliser l'odomètre du robot pour estimer sa rotation réelle. Pour ce faire nous pouvons ajouter un `OdometerTicksSensor` à notre objet `robot`."
   ]
  },
  {
   "cell_type": "code",
   "execution_count": null,
   "metadata": {},
   "outputs": [],
   "source": [
    "odometer = sensors.OdometerTicksSensor()\n",
    "robot.add_sensor(odometer)\n",
    "sleep(1)\n",
    "odometer.peek_data()"
   ]
  },
  {
   "cell_type": "markdown",
   "metadata": {},
   "source": [
    "L'odomètre nous renvoie trois valeurs: le *timestamp* du message, le nombre de ticks enregistrés pour la roue gauche, et le nombre de ticks enregistrés par la roue droite. Il est possible de convertir ces ticks en distance parcourue! Sachant que la variable `odometer.TICK_TO_METER` indique le déplacement d'une roue lorsqu'elle effectue un tick, le déplacement de la roue gauche depuis que le robot est activé est comme suit."
   ]
  },
  {
   "cell_type": "code",
   "execution_count": null,
   "metadata": {},
   "outputs": [],
   "source": [
    "message = odometer.peek_data()\n",
    "displacement = message[1] * odometer.TICK_TO_METER\n",
    "print(displacement)"
   ]
  },
  {
   "cell_type": "markdown",
   "metadata": {},
   "source": [
    "Le code suivant demande au robot de faire une rotation de $\\pi$ radians, et enregistre le status de l'odomètre avant et après le déplacement. Sachant cela, calculez le déplacement subi par la roue gauche et la roue droite."
   ]
  },
  {
   "cell_type": "code",
   "execution_count": null,
   "metadata": {},
   "outputs": [],
   "source": [
    "odometer_before = odometer.peek_data()\n",
    "robot.angular_movement(PI / 4, 4 / real_time_factor)\n",
    "sleep(1)\n",
    "odometer_after = odometer.peek_data()"
   ]
  },
  {
   "cell_type": "code",
   "execution_count": null,
   "metadata": {},
   "outputs": [],
   "source": [
    "displacement_right = (odometer_after[2] - odometer_before[2]) * odometer.TICK_TO_METER\n",
    "displacement_left = (odometer_after[1] - odometer_before[1]) * odometer.TICK_TO_METER\n",
    "\n",
    "print('Left (m): {}, Right (m): {}'.format(displacement_left, displacement_right))"
   ]
  },
  {
   "cell_type": "markdown",
   "metadata": {},
   "source": [
    "**Exercice**\n",
    "\n",
    "À l'aide de ces déplacements, calculez la rotation que le robot a effectué, du point de vue de l'odomètre. La valeur `robot.DISTANCE_CENTER_TO_WHEEL` pourrait vous être utile."
   ]
  },
  {
   "cell_type": "code",
   "execution_count": null,
   "metadata": {},
   "outputs": [],
   "source": [
    "rotation = 0.0 #TODO\n",
    "\n",
    "print('Rotation (rad): {}, Rotation (deg): {}'.format(rotation, rotation / (2*PI) * 360))"
   ]
  },
  {
   "cell_type": "markdown",
   "metadata": {},
   "source": [
    "### Gyroscope\n",
    "\n",
    "Vous êtes déjà à l'aise avec le gyroscope. Nous allons intégrer ses mesures pour faire un nouvel estimé de la rotation. Mais d'abord, trouvons rapidement un biais. Pour ce faire, laissez le robot immobile pendant que vous exécutez le code suivant."
   ]
  },
  {
   "cell_type": "code",
   "execution_count": null,
   "metadata": {
    "tags": []
   },
   "outputs": [],
   "source": [
    "gyro = sensors.GyroSensor(int(6 * sensors.GyroSensor.SAMPLE_RATE / real_time_factor)) # Le buffer a une durée de 6 secondes.\n",
    "robot.add_sensor(gyro)"
   ]
  },
  {
   "cell_type": "code",
   "execution_count": null,
   "metadata": {},
   "outputs": [],
   "source": [
    "sleep(10)\n",
    "\n",
    "gyro_data = gyro.read_buffer() # La commande read_buffer capture tout le contenu du buffer. Le buffer est vide après.\n",
    "gyro_data = np.array([x[2] for x in gyro_data]) # On a seulement besoin de la vitesse angulaire autour de l'axe z.\n",
    "bias = np.mean(gyro_data)\n",
    "\n",
    "print('Bias (deg/s): {}'.format(bias))"
   ]
  },
  {
   "cell_type": "markdown",
   "metadata": {},
   "source": [
    "Avec un peu de chance, le routeur va bien se comporter et vous recevez les mesures du gyro en temps réel. Si c'est le cas, exécutez du code de façon à intégrer le déplacement angulaire du robot alors qu'il exécute la même commande."
   ]
  },
  {
   "cell_type": "code",
   "execution_count": null,
   "metadata": {},
   "outputs": [],
   "source": [
    "gyro.buffer.clear()\n",
    "sleep(1)\n",
    "robot.angular_movement(PI/4, 4 / real_time_factor)\n",
    "sleep(1)\n",
    "\n",
    "gyro_data = gyro.read_buffer()  # Le buffer contient seulement les 6 dernières secondes.\n",
    "gyro_data = [x[2] for x in gyro_data]\n",
    "\n",
    "rotation = 0.0\n",
    "for reading in gyro_data:\n",
    "    rotation += (reading - bias) * (1.0 / gyro.SAMPLE_RATE)\n",
    "    \n",
    "print('Rotation (rad): {}, Rotation (deg): {}'.format(rotation * 2 * PI / 360, rotation))"
   ]
  },
  {
   "cell_type": "markdown",
   "metadata": {},
   "source": [
    "## Partie 3 - Variance sur le déplacement\n",
    "\n",
    "Codez une boucle qui demande au robot de faire une grande quantité (autour de 20) de petites rotations. À chaque rotation, calculez le déplacement angulaire du point de vue de l'odomètre. Finalement, calculez l'écart type de la distribution ainsi calculée. La fonction `np.var` calcule la variance d'une liste."
   ]
  },
  {
   "cell_type": "code",
   "execution_count": null,
   "metadata": {},
   "outputs": [],
   "source": [
    "def angle_from_odom_values(before, after):\n",
    "    displacement_left = (after[1] - before[1]) * odometer.TICK_TO_METER\n",
    "    displacement_right = (after[2] - before[2]) * odometer.TICK_TO_METER\n",
    "    \n",
    "    return (displacement_right - displacement_left) / (2 * robot.DISTANCE_CENTER_TO_WHEEL)\n",
    "\n",
    "odom_measurements = []\n",
    "\n",
    "for _ in range(20):\n",
    "    pass  #TODO - replacez le pass par votre code\n",
    "    #1. Prendre une mesure initiale\n",
    "    \n",
    "    #2. Faire une commande et attendre l'exécutier\n",
    "    \n",
    "    #3. Prendre une nouvelle mesure\n",
    "    \n",
    "    #4. Calculer l'angle et l'ajouter à la liste odom_measurements\n",
    "    "
   ]
  },
  {
   "cell_type": "code",
   "execution_count": null,
   "metadata": {},
   "outputs": [],
   "source": [
    "odom_measurements = np.array(odom_measurements)\n",
    "print('Measurements: ' + str(odom_measurements))\n",
    "print('Standard deviation (rad): {}'.format(np.sqrt(np.var(odom_measurements))))"
   ]
  },
  {
   "cell_type": "markdown",
   "metadata": {},
   "source": [
    "## Intermède - Les listes et numpy\n",
    "\n",
    "Pour bien comprendre la partie 4, il faut comprendre que `numpy` (de façon similaire à matlab) permet de faire facilement des opérations sur des listes. Prenez bien le temps de comprendre les sorties suivantes avant de continuer."
   ]
  },
  {
   "cell_type": "code",
   "execution_count": null,
   "metadata": {},
   "outputs": [],
   "source": [
    "a = np.array([1, 2, 3, 4, 5])\n",
    "b = np.array([5, 4, 3, 2, 1])\n",
    "\n",
    "print(a+b)\n",
    "print(a*b)\n",
    "print(a + 3)\n",
    "print(a * 2)"
   ]
  },
  {
   "cell_type": "markdown",
   "metadata": {},
   "source": [
    "## Partie 4 - Intégration\n",
    "\n",
    "Vous avez maintenant tous les outils qu'il vous faut pour estimer la position du robot dans un repère global à travers le temps. Pour ce faire il suffit d'intégrer la vitesse du robot à travers le temps. \n",
    "\n",
    "Commençons par collecter des données. Débutez l'exécution du code suivant. Il s'assure que le buffer de l'odométrie a une durée d'une minute. Ensuite, utilisez le fichier [Controller.ipynb](Controller.ipynb) (ou `roslaunch turtlebot3_teleop turtlebot3_teleop_key.launch` en simulation) pour conduire le robot sur une trajectoire de votre choix. Déplacez le robot pendant un peu moins d'une minute, de sorte que toutes les données nécessaires se trouveront dans le buffer. Après `duration_of_data_collection` secondes les données du buffer seront capturées et vous pourrez les analyser.\n",
    "\n",
    "> N'hésitez pas à utiliser la commande `plt.plot()` sur n'importe quelle liste dans votre code pour aider le debugging."
   ]
  },
  {
   "cell_type": "code",
   "execution_count": null,
   "metadata": {},
   "outputs": [],
   "source": [
    "duration_of_data_collection = int(30 / real_time_factor)\n",
    "\n",
    "odometer = sensors.OdometerTicksSensor(sensors.OdometerTicksSensor.SAMPLE_RATE * duration_of_data_collection)\n",
    "\n",
    "robot.add_sensor(odometer)\n",
    "\n",
    "sleep(duration_of_data_collection)\n",
    "\n",
    "odometry_data = odometer.read_buffer()"
   ]
  },
  {
   "cell_type": "markdown",
   "metadata": {},
   "source": [
    "À partir de `odometry_data`, on doit créer quatre listes. Une liste doit contenir le temps écoulé depuis le début de la collecte de données. Une liste doit contenir le temps écoulé entre les mesures successives d'odométrie. Une autre liste doit contenir le nombre de ticks d'odomètre qui ont eu lieu pendant ce temps pour la roue gauche. Le dernier vecteur doit contenir la même chose, mais pour la roue droite. La fonction `np.diff()` vous sera très utile ici."
   ]
  },
  {
   "cell_type": "code",
   "execution_count": null,
   "metadata": {
    "tags": []
   },
   "outputs": [],
   "source": [
    "t = odometry_data[:,0] - odometry_data[0,0]\n",
    "delta_t = np.diff(t)\n",
    "displacement_left = np.diff(odometry_data[:,1]) * odometer.TICK_TO_METER\n",
    "displacement_right = np.diff(odometry_data[:,2]) * odometer.TICK_TO_METER"
   ]
  },
  {
   "cell_type": "markdown",
   "metadata": {},
   "source": [
    "On peut déduire la vitesse de chaque roue à travers le temps de la façon suivante."
   ]
  },
  {
   "cell_type": "code",
   "execution_count": null,
   "metadata": {},
   "outputs": [],
   "source": [
    "right_wheel_speed = displacement_right / delta_t\n",
    "left_wheel_speed = displacement_left / delta_t"
   ]
  },
  {
   "cell_type": "markdown",
   "metadata": {},
   "source": [
    "En utilisant les équations de conduite différentielle vues en classe, on peut convertir les vitesses des roues en des vitesses linéaires et angulaires du robot, pour chaque temps $t$."
   ]
  },
  {
   "cell_type": "code",
   "execution_count": null,
   "metadata": {},
   "outputs": [],
   "source": [
    "linear_speed = (right_wheel_speed + left_wheel_speed) / 2\n",
    "angular_speed = (right_wheel_speed - left_wheel_speed) / (2 * robot.DISTANCE_CENTER_TO_WHEEL)"
   ]
  },
  {
   "cell_type": "markdown",
   "metadata": {},
   "source": [
    "Finalement, convertissons ces vitesses en une position $\\vec{x}(t)$ et une orientation $\\vec{\\theta}(t)$. Vous devrez *intégrer* les vitesses pour y arriver. \n",
    "\n",
    "> **PROTIP** Il faut d'abord intégrez l'orientation! Vous en avez besoin pour calculer la position x y..."
   ]
  },
  {
   "cell_type": "code",
   "execution_count": null,
   "metadata": {},
   "outputs": [],
   "source": [
    "theta_of_t = np.cumsum(angular_speed * delta_t)\n",
    "x_of_t = np.cumsum(linear_speed * np.cos(theta_of_t) * delta_t)\n",
    "y_of_t = np.cumsum(linear_speed * np.sin(theta_of_t) * delta_t)"
   ]
  },
  {
   "cell_type": "markdown",
   "metadata": {},
   "source": [
    "Affichez la trajectoire calculée avec les commandes suivante.\n",
    "\n",
    "> **NOTE** La trajectoire affichée commence en foncé et fini en pâle."
   ]
  },
  {
   "cell_type": "code",
   "execution_count": null,
   "metadata": {
    "scrolled": true
   },
   "outputs": [],
   "source": [
    "n_of_colors = math.floor(x_of_t.shape[0] / 100)\n",
    "\n",
    "colors = np.linspace(0, 1, n_of_colors)**2\n",
    "\n",
    "for color, xs, ys in zip(colors, np.array_split(x_of_t, n_of_colors), np.array_split(y_of_t, n_of_colors)):\n",
    "    plt.plot(xs, ys, color=(0.2, color, color))\n",
    "\n",
    "plt.axis('equal') # On s'assure que l'échelle est la même sur les deux axes\n",
    "\n",
    "plt.show()"
   ]
  },
  {
   "cell_type": "markdown",
   "metadata": {},
   "source": [
    "Il serait intéressant de répéter la partie 4 avec une trajectoire qui *revient à son points d'origine*. Ainsi, vous pourrez constater que l'odométrie aussi souffre de dérive, comme le gyroscope.\n",
    "\n",
    "La kobuki est dotée d'un logiciel qui intègre les données de l'odomètre pour nous. On peut comparer notre propre version de l'intégration avec cette dernière. Refaites une trajectoire avec le code suivant. Il enregistre à la fois l'odométrie intégrée de la kobuki et les tours de roue."
   ]
  },
  {
   "cell_type": "code",
   "execution_count": null,
   "metadata": {
    "tags": []
   },
   "outputs": [],
   "source": [
    "duration_of_data_collection = int(30 / real_time_factor)\n",
    "\n",
    "odometer = sensors.OdometerTicksSensor(sensors.OdometerTicksSensor.SAMPLE_RATE*duration_of_data_collection)\n",
    "best_odom = sensors.FullOdomSensor(sensors.FullOdomSensor.SAMPLE_RATE*duration_of_data_collection)\n",
    "\n",
    "robot.add_sensor(odometer)\n",
    "robot.add_sensor(best_odom)\n",
    "\n",
    "sleep(duration_of_data_collection)\n",
    "\n",
    "odometry_data = odometer.read_buffer()\n",
    "full_odom_data = best_odom.read_buffer()"
   ]
  },
  {
   "cell_type": "code",
   "execution_count": null,
   "metadata": {
    "tags": []
   },
   "outputs": [],
   "source": [
    "t = odometry_data[:,0] - odometry_data[0,0]\n",
    "delta_t = np.diff(t)\n",
    "displacement_left = np.diff(odometry_data[:,1]) * odometer.TICK_TO_METER\n",
    "displacement_right = np.diff(odometry_data[:,2]) * odometer.TICK_TO_METER\n",
    "\n",
    "right_wheel_speed = displacement_right / delta_t\n",
    "left_wheel_speed = displacement_left / delta_t\n",
    "\n",
    "linear_speed = (right_wheel_speed + left_wheel_speed) / 2\n",
    "angular_speed = (right_wheel_speed - left_wheel_speed) / (2 * robot.DISTANCE_CENTER_TO_WHEEL)\n",
    "\n",
    "theta_of_t = np.cumsum(angular_speed * delta_t)\n",
    "x_of_t = np.cumsum(linear_speed * np.cos(theta_of_t) * delta_t)\n",
    "y_of_t = np.cumsum(linear_speed * np.sin(theta_of_t) * delta_t)"
   ]
  },
  {
   "cell_type": "code",
   "execution_count": null,
   "metadata": {},
   "outputs": [],
   "source": [
    "plt.plot(-full_odom_data[:,1] + full_odom_data[0,1], full_odom_data[:,0] - full_odom_data[0,0])\n",
    "plt.plot(x_of_t, y_of_t)\n",
    "plt.show()"
   ]
  }
 ],
 "metadata": {
  "kernelspec": {
   "display_name": "Python 3",
   "language": "python",
   "name": "python3"
  },
  "language_info": {
   "codemirror_mode": {
    "name": "ipython",
    "version": 3
   },
   "file_extension": ".py",
   "mimetype": "text/x-python",
   "name": "python",
   "nbconvert_exporter": "python",
   "pygments_lexer": "ipython3",
   "version": "3.8.10"
  }
 },
 "nbformat": 4,
 "nbformat_minor": 4
}
