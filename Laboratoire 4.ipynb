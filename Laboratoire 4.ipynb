{
 "cells": [
  {
   "cell_type": "markdown",
   "metadata": {},
   "source": [
    "# Laboratoire 4 - Odométrie\n",
    "\n",
    "> **Attention!** Il est *strictement interdit* de s'approcher des commandes qui font avancer le robot si il y a le moindre risque que le robot ne tombe par terre. Les équipes qui ont un accidents de robot devront chanter *Never Gonna Give You Up* devant toute la classe.\n",
    "\n",
    "Au cours de ce laboratoire nous allons étudier la façon dont le robot se déplace. Comme vous le constaterez, le sujet est plus complexe qu'il n'y paraît! Connectons-nous d'abord au robot.\n"
   ]
  },
  {
   "cell_type": "code",
   "execution_count": 1,
   "metadata": {
    "collapsed": true
   },
   "outputs": [],
   "source": [
    "%matplotlib inline\n",
    "\n",
    "from robmob import robot, sensors\n",
    "from time import sleep\n",
    "from math import pi as PI\n",
    "\n",
    "import numpy as np\n",
    "import matplotlib.pyplot as plt\n",
    "\n",
    "robot_ip = '192.168.0.108'\n",
    "robot = robot.Robot(robot_ip)\n",
    "robot.connect()"
   ]
  },
  {
   "cell_type": "markdown",
   "metadata": {},
   "source": [
    "## Partie 1 - Le problème du contrôle\n",
    "\n",
    "Pour cette première expérience, utilisez les fonctions de la librairie `robmob` pour ordonner au robot d'avancer de un mètre."
   ]
  },
  {
   "cell_type": "code",
   "execution_count": null,
   "metadata": {
    "collapsed": false
   },
   "outputs": [],
   "source": [
    "robot.linear_movement(0.2, 5)  # Ordonne au robot d'avancer à 0.2 m/s pendant 5 s"
   ]
  },
  {
   "cell_type": "markdown",
   "metadata": {},
   "source": [
    "Vous constaterez que les kobukis se déplacent de beaucoup moins qu'un mètre avec l'exécution de cette command. Qu'est-ce qui se passe? Pour le comprendre, il faut d'abord se demander comment le robot exécute notre demande.\n",
    "\n",
    "Nous envoyons une commande de vitesse au robot. Le robot active ses moteurs, puis après un certain $\\Delta t$ le robot consulte les encodeurs de ses roues pour valider sa vitesse. La différence entre la vitesse demandée et la vitesse réelle constitue une erreur. Cette erreur est fournie à une fonction appelée un [correcteur PID](https://fr.wikipedia.org/wiki/R%C3%A9gulateur_PID) qui traduit l'erreur en une nouvelle consigne. Cette nouvelle consigne tente de corriger l'erreur sur la vitesse du robot, pour exécuter aussi bien que possible la commande qu'on lui a demandé.\n",
    "\n",
    "Malheureusement, il est difficile de créer un correcteur parfait. Dans le cas qui nous concerne, le correcteur semble avoir de la difficulté à atteindre la vitesse demandée, surtout au début de la trajectoire. Voici un graphique de la vitesse instantanée d'un robot kobuki par rapport au temps. La vitesse demandée est en rouge. L'apparence de ce graphique explique pourquoi les distances parcourues par le robot sont plus courtes que les distances demandées.\n",
    "\n",
    "![Vitesse de la kobuki par rapport au temps](img/vitesse_kobuki.png)\n",
    "\n"
   ]
  },
  {
   "cell_type": "markdown",
   "metadata": {},
   "source": [
    "## Partie 2 - Rotation\n",
    "\n",
    "Dans cette section nous effectuerons des rotations et nous validerons comment le robot peut déduire son état à l'aide de ses différents senseurs.\n",
    "\n",
    "\n",
    "En premier lieu, fixez une règle sur le robot et placez une feuille de papier de façon à pouvoir facilement calculer des angles, comme sur l'image.\n",
    "\n",
    "![Montage rotation](img/montage_rotation.png)\n",
    "\n",
    "Maintenant demandons au robot de faire une rotation de $\\pi$ radians. "
   ]
  },
  {
   "cell_type": "code",
   "execution_count": null,
   "metadata": {
    "collapsed": false
   },
   "outputs": [],
   "source": [
    "robot.angular_movement(PI / 4, 4) # Demande au robot de tourner à PI/4 radians/seconde pendant 4 secondes."
   ]
  },
  {
   "cell_type": "markdown",
   "metadata": {},
   "source": [
    "Mesurez la rotation que le robot a effectué. Vous constaterez que la rotation résultante est beaucoup plus faible que la rotation demandée.  Mais le robot en est-il conscient?\n",
    "\n",
    "### Odométrie\n",
    "\n",
    "Nous allons utiliser l'odomètre du robot pour estimer sa rotation réelle. Pour ce faire nous pouvons ajouter un `OdometerTicksSensor` à notre objet `robot`."
   ]
  },
  {
   "cell_type": "code",
   "execution_count": null,
   "metadata": {
    "collapsed": false
   },
   "outputs": [],
   "source": [
    "odometer = sensors.OdometerTicksSensor()\n",
    "robot.add_sensor(odometer)\n",
    "sleep(1)\n",
    "odometer.peek_data()"
   ]
  },
  {
   "cell_type": "markdown",
   "metadata": {},
   "source": [
    "L'odomètre nous renvoie trois valeurs: le *timestamp* du message, le nombre de ticks enregistrés pour la roue gauche, et le nombre de ticks enregistrés par la roue droite. Il est possible de convertir ces ticks en distance parcourue! Sachant que la variable `odometer.TICK_TO_METER` indique le déplacement d'une roue lorsqu'elle effectue un tick, le déplacement de la roue gauche depuis que le robot est activé est comme suit."
   ]
  },
  {
   "cell_type": "code",
   "execution_count": null,
   "metadata": {
    "collapsed": false
   },
   "outputs": [],
   "source": [
    "message = odometer.peek_data()\n",
    "displacement = message[1] * odometer.TICK_TO_METER"
   ]
  },
  {
   "cell_type": "markdown",
   "metadata": {},
   "source": [
    "Le code suivant demande au robot de faire une rotation de $\\pi$ radians, et enregistre le status de l'odomètre avant et après le déplacement. Sachant cela, calculez le déplacement subi par la roue gauche et la roue droite."
   ]
  },
  {
   "cell_type": "code",
   "execution_count": null,
   "metadata": {
    "collapsed": false
   },
   "outputs": [],
   "source": [
    "odometer_before = odometer.peek_data()\n",
    "robot.angular_movement(PI / 4, 4)\n",
    "sleep(1)\n",
    "odometer_after = odometer.peek_data()"
   ]
  },
  {
   "cell_type": "code",
   "execution_count": null,
   "metadata": {
    "collapsed": false
   },
   "outputs": [],
   "source": [
    "displacement_right = (odometer_after[2] - odometer_before[2]) * odometer.TICK_TO_METER\n",
    "displacement_left = (odometer_after[1] - odometer_before[1]) * odometer.TICK_TO_METER\n",
    "\n",
    "print('Left (m): {}, Right (m): {}'.format(displacement_left, displacement_right))"
   ]
  },
  {
   "cell_type": "markdown",
   "metadata": {},
   "source": [
    "À l'aide de ces déplacements, calculez la rotation que le robot a effectué, du point de vue de l'odomètre. La valeur `robot.DISTANCE_CENTER_TO_WHEEL` pourrait vous être utile."
   ]
  },
  {
   "cell_type": "code",
   "execution_count": null,
   "metadata": {
    "collapsed": false
   },
   "outputs": [],
   "source": [
    "rotation = (displacement_right - displacement_left) / (2*robot.DISTANCE_CENTER_TO_WHEEL)\n",
    "\n",
    "print('Rotation (rad): {}, Rotation (deg): {}'.format(rotation, rotation / (2*PI) * 360))"
   ]
  },
  {
   "cell_type": "markdown",
   "metadata": {},
   "source": [
    "### Gyroscope\n",
    "\n",
    "Vous êtes déjà à l'aise avec le gyroscope. Nous allons intégrer ses mesures pour faire un nouvel estimé de la rotation. Mais d'abord, trouvons rapidement un biais. Pour ce faire, laissez le robot immobile pendant que vous exécutez le code suivant."
   ]
  },
  {
   "cell_type": "code",
   "execution_count": null,
   "metadata": {
    "collapsed": false
   },
   "outputs": [],
   "source": [
    "gyro = sensors.GyroSensor(6 * sensors.GyroSensor.SAMPLE_RATE) # Le buffer a une durée de 6 secondes.\n",
    "robot.add_sensor(gyro)\n",
    "\n",
    "sleep(7)\n",
    "\n",
    "gyro_data = gyro.read_buffer() # La commande read_buffer capture tout le contenu du buffer. Le buffer est vide après.\n",
    "gyro_data = np.array([x[2] for x in data]) # On a seulement besoin de la vitesse angulaire autour de l'axe z.\n",
    "bias = np.mean(gyro_data)\n",
    "\n",
    "print('Bias (deg/s): {}'.format(bias))"
   ]
  },
  {
   "cell_type": "markdown",
   "metadata": {},
   "source": [
    "Avec un peu de chance, le routeur va bien se comporter et vous recevez les mesures du gyro en temps réel. Si c'est le cas, exécutez du code de façon à intégrer le déplacement angulaire du robot alors qu'il exécute la même commande."
   ]
  },
  {
   "cell_type": "code",
   "execution_count": null,
   "metadata": {
    "collapsed": false
   },
   "outputs": [],
   "source": [
    "robot.angular_movement(PI/4, 4)\n",
    "sleep(1)\n",
    "\n",
    "gyro_data = gyro.read_buffer()  # Le buffer contient seulement les 6 dernières secondes.\n",
    "gyro_data = [x[2] for x in gyro_data]\n",
    "\n",
    "rotation = 0.0\n",
    "for reading in gyro_data:\n",
    "    rotation += (reading - bias) * (1.0 / gyro.SAMPLE_RATE)\n",
    "    \n",
    "print('Rotation (rad): {}, Rotation (deg): {}'.format(rotation * 2 * PI / 360, rotation))"
   ]
  },
  {
   "cell_type": "markdown",
   "metadata": {},
   "source": [
    "## Partie 3 - Variance sur le déplacement\n",
    "\n",
    "Une autre conséquence de ces contrôleurs imparfaits, c'est que le déplacement du robot ne sera pas tout à fait constant pour une commande donnée. Il est habituel de modéliser ce phénomène avec une distribution gaussienne. On ne s'attend jamais à ce que le robot se déplace de $x$ radians, on s'attend plutôt qu'il se déplace en moyenne de $x$ radians avec une certaine variance.\n",
    "\n",
    "Codez une boucle qui demande au robot de faire une grande quantité (autour de 20) de petites rotations. À chaque rotation, calculez le déplacement angulaire du point de vue de l'odomètre. Finalement, calculez l'écart type de la distribution ainsi calculée. La fonction `np.var` calcule la variance d'une liste."
   ]
  },
  {
   "cell_type": "code",
   "execution_count": null,
   "metadata": {
    "collapsed": false
   },
   "outputs": [],
   "source": [
    "def angle_from_odom_values(before, after):\n",
    "    displacement_left = (after[1] - before[1]) * odometer.TICK_TO_METER\n",
    "    displacement_right = (after[2] - before[2]) * odometer.TICK_TO_METER\n",
    "    \n",
    "    return (displacement_right - displacement_left) / (2 * robot.DISTANCE_CENTER_TO_WHEEL)\n",
    "\n",
    "odom_measurements = []\n",
    "\n",
    "for _ in range(20):\n",
    "    odom_before = odometer.peek_data()\n",
    "    robot.angular_movement(PI / 1.5, 0.8)\n",
    "    sleep(1)\n",
    "    odom_after = odometer.peek_data()\n",
    "    odom_measurements.append(angle_from_odom_values(odom_before, odom_after))"
   ]
  },
  {
   "cell_type": "code",
   "execution_count": null,
   "metadata": {
    "collapsed": false
   },
   "outputs": [],
   "source": [
    "odom_measurements = np.array(odom_measurements)\n",
    "print('Measurements: ' + str(odom_measurements))\n",
    "print('Standard deviation (rad): {}'.format(np.sqrt(np.var(odom_measurements))))"
   ]
  },
  {
   "cell_type": "markdown",
   "metadata": {
    "collapsed": true
   },
   "source": [
    "## Partie 4 - Intégration\n",
    "\n",
    "Vous avez maintenant tous les outils qu'il vous faut pour estimer la position du robot dans un repère global à travers le temps. Pour ce faire il suffit d'intégrer la vitesse du robot à travers le temps. \n",
    "\n",
    "Commençons par collecter des données. Débutez l'exécution du code suivant. Il s'assure que le buffer de l'odométrie a une durée d'une minute. Ensuite, utilisez le fichier [Controller.ipynb](Controller.ipynb) pour conduire le robot sur une trajectoire de votre choix. Déplacez le robot pendant un peu moins d'une minute, de sorte que toutes les donnez nécessaires se trouveront dans le buffer. Après 60 secondes les données du buffer seront capturées et vous pourrez les analyser."
   ]
  },
  {
   "cell_type": "code",
   "execution_count": null,
   "metadata": {
    "collapsed": false
   },
   "outputs": [],
   "source": [
    "duration_of_data_collection = 20\n",
    "\n",
    "odometer = sensors.OdometerTicksSensor(sensors.OdometerTicksSensor.SAMPLE_RATE*duration_of_data_collection)\n",
    "robot.add_sensor(odometer)\n",
    "\n",
    "sleep(duration_of_data_collection)\n",
    "\n",
    "odometry_data = odometer.read_buffer()"
   ]
  },
  {
   "cell_type": "code",
   "execution_count": null,
   "metadata": {
    "collapsed": false
   },
   "outputs": [],
   "source": [
    "displacement_left = odometry_data[:, 1] * odometer.TICK_TO_METER\n",
    "displacement_right = odometry_data[:, 2] * odometer.TICK_TO_METER\n",
    "\n",
    "orientation = (displacement_right - displacement_left) / (2 * robot.DISTANCE_CENTER_TO_WHEEL)\n",
    "orientation -= orientation[0]\n",
    "orientation = orientation % (2*PI)"
   ]
  },
  {
   "cell_type": "code",
   "execution_count": null,
   "metadata": {
    "collapsed": false
   },
   "outputs": [],
   "source": [
    "plt.plot(orientation)"
   ]
  },
  {
   "cell_type": "code",
   "execution_count": null,
   "metadata": {
    "collapsed": true
   },
   "outputs": [],
   "source": [
    "u_x = ((displacement_left + displacement_right) / 2) * np.cos(orientation)\n",
    "u_x -= u_x[0]\n",
    "\n",
    "u_y = ((displacement_left + displacement_right) / 2) * np.sin(orientation)\n",
    "u_y -= u_y[0]"
   ]
  },
  {
   "cell_type": "code",
   "execution_count": null,
   "metadata": {
    "collapsed": false
   },
   "outputs": [],
   "source": [
    "plt.plot(u_x)"
   ]
  },
  {
   "cell_type": "code",
   "execution_count": null,
   "metadata": {
    "collapsed": false
   },
   "outputs": [],
   "source": [
    "position_of_time"
   ]
  },
  {
   "cell_type": "code",
   "execution_count": null,
   "metadata": {
    "collapsed": true
   },
   "outputs": [],
   "source": []
  }
 ],
 "metadata": {
  "kernelspec": {
   "display_name": "Python 3",
   "language": "python",
   "name": "python3"
  },
  "language_info": {
   "codemirror_mode": {
    "name": "ipython",
    "version": 3
   },
   "file_extension": ".py",
   "mimetype": "text/x-python",
   "name": "python",
   "nbconvert_exporter": "python",
   "pygments_lexer": "ipython3",
   "version": "3.4.3"
  },
  "widgets": {
   "state": {},
   "version": "1.1.2"
  }
 },
 "nbformat": 4,
 "nbformat_minor": 0
}
