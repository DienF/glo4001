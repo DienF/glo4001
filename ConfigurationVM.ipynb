{
 "cells": [
  {
   "cell_type": "markdown",
   "metadata": {
    "pycharm": {
     "name": "#%% md\n"
    }
   },
   "source": [
    "# Installation des machines virtuelles\n",
    "\n",
    "Voici la suite des étapes suivies pour mettre en place les machines virtuelles du cours.\n",
    "\n",
    "## Création d'un machine virtuelle Ubuntu 20.04\n",
    "\n",
    "Commencez par créer une machine virtuelle dans VirtualBox pour Ubuntu 20.04 avec les caractéristiques suivantes:\n",
    "\n",
    "- Au moins 30G de stockage\n",
    "- Au moins 4G de RAM\n",
    "- Plus de 1 processeur (4 recommandés si vous avez une machine à 8 cœurs)\n",
    "- **NE PAS ACTIVER L'ACCÉLÉRATION MATÉRIELLE**\n",
    "\n",
    "Avant de lancer la VM, ajoutez un port forwarding dans `Network -> Advanced -> Port Forwarding`. Ensuite, ajoutez une règle pour forwarder le port `9090` de la machine hôte au port `9090` de la machine invitée.\n",
    "\n",
    "![port_forwarding](doc/port_forwarding.png)\n",
    "\n",
    "![port_forwarding_rule](doc/port_forwarding_rule.png)\n",
    "\n",
    "Ensuite, lancez la machine virtuelle et installez Ubuntu 20.04. Choisir une installation de type minimale.\n",
    "\n",
    "Une fois installée, exécutez les commandes suivantes:\n",
    "\n",
    "```bash\n",
    "sudo apt install gcc make perl\n",
    "```\n",
    "\n",
    "Dans le menu de la machine virtuelle, `Devices -> Insert Guest Additions CD Image` et installer l'intégration VirtualBox. Ceci va vour permettre de faire `View -> Auto-resize Guest Display`.\n",
    "\n",
    "## Installer ROS-noetic\n",
    "\n",
    "Suivre les étapes détaillées sur le [wiki ROS.org](https://wiki.ros.org/noetic/Installation/Ubuntu).\n",
    "\n",
    "## Installation des packages turtlebot\n",
    "\n",
    "```bash\n",
    "sudo apt install -y ros-noetic-joy ros-noetic-teleop-twist-joy ros-noetic-teleop-twist-keyboard ros-noetic-laser-proc ros-noetic-rgbd-launch ros-noetic-depthimage-to-laserscan ros-noetic-rosserial-arduino ros-noetic-rosserial-python ros-noetic-rosserial-server ros-noetic-rosserial-client ros-noetic-rosserial-msgs ros-noetic-amcl ros-noetic-map-server ros-noetic-move-base ros-noetic-urdf ros-noetic-xacro ros-noetic-compressed-image-transport ros-noetic-rqt* ros-noetic-gmapping ros-noetic-navigation ros-noetic-interactive-markers ros-noetic-gazebo-ros-pkgs\n",
    "sudo apt install -y ros-noetic-dynamixel-sdk\n",
    "sudo apt install -y ros-noetic-openni2-*\n",
    "sudo apt install -y ros-noetic-turtlebot3-msgs ros-noetic-turtlebot3\n",
    "sudo apt install -y ros-noetic-rosbridge-suite\n",
    "```\n",
    "\n",
    "## Clone du workspace catkin\n",
    "\n",
    "```bash\n",
    "git clone https://github.com/willGuimont/glo4001-catkin_ws ~/catkin_ws\n",
    "\n",
    "echo \"source ~/catkin_ws/devel/setup.bash\" >> ~/.bashrc\n",
    "echo \"export TURTLEBOT3_MODEL=burger\" >> ~/.bashrc\n",
    "source ~/.bashrc\n",
    "```\n"
   ]
  }
 ],
 "metadata": {
  "kernelspec": {
   "display_name": "Python 3",
   "language": "python",
   "name": "python3"
  },
  "language_info": {
   "codemirror_mode": {
    "name": "ipython",
    "version": 3
   },
   "file_extension": ".py",
   "mimetype": "text/x-python",
   "name": "python",
   "nbconvert_exporter": "python",
   "pygments_lexer": "ipython3",
   "version": "3.8.10"
  }
 },
 "nbformat": 4,
 "nbformat_minor": 4
}