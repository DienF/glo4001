{
 "cells": [
  {
   "cell_type": "markdown",
   "metadata": {
    "pycharm": {
     "name": "#%% md\n"
    }
   },
   "source": [
    "# Installation des machines virtuelles\n",
    "\n",
    "Voici la suite des étapes suivies pour mettre en place les machines virtuelles du cours.\n",
    "\n",
    "## Création d'un machine virtuelle Ubuntu 20.04\n",
    "\n",
    "Commencez par créer une machine virtuelle dans VirtualBox pour Ubuntu 20.04 avec les caractéristiques suivantes:\n",
    "\n",
    "- Au moins 30G de stockage\n",
    "- Au moins 4G de RAM\n",
    "- Plus de 1 processeur (4 recommandés si vous avez une machine à 8 cœurs)\n",
    "- **NE PAS ACTIVER L'ACCÉLÉRATION MATÉRIELLE**\n",
    "\n",
    "Avant de lancer la VM, ajoutez un port forwarding dans `Network -> Advanced -> Port Forwarding`. Ensuite, ajoutez une règle pour forwarder le port `9090` de la machine hôte au port `9090` de la machine invitée.\n",
    "\n",
    "![port_forwarding](doc/port_forwarding.png)\n",
    "\n",
    "![port_forwarding_rule](doc/port_forwarding_rule.png)\n",
    "\n",
    "Ensuite, lancez la machine virtuelle et installez Ubuntu 20.04. Choisir une installation de type minimale.\n",
    "\n",
    "Une fois installée, exécutez les commandes suivantes:\n",
    "\n",
    "```bash\n",
    "sudo apt install gcc make perl\n",
    "```\n",
    "\n",
    "Dans le menu de la machine virtuelle, `Devices -> Insert Guest Additions CD Image` et installer l'intégration VirtualBox. Ceci va vour permettre de faire `View -> Auto-resize Guest Display`.\n",
    "\n",
    "## En cas d'erreur...\n",
    "\n",
    "En cas de problème, vous pouvez utiliser l'image suivante: [image v2](http://www2.ift.ulaval.ca/~pgiguere/download/glo4001-v2.zip).\n",
    "\n",
    "Si la machine virtuelle ne fonctionne pas, il peut être nécessaire de réaliser les étapes suivantes :\n",
    "\n",
    "1. Ouvrir une session TTY avec `CTRL-ALT-F3`\n",
    "2. Se connecter avec nom d'utilisateur `student` et mot de passe `student`\n",
    "3. Exécuter les commandes suivantes\n",
    "```bash\n",
    "mv ~/.config ~/.config.old\n",
    "mv ~/.local ~/.local.old\n",
    "mv ~/.cache ~/.cache.old\n",
    "```\n",
    "4. Redémarrer la machine avec\n",
    "```bash\n",
    "sudo reboot now\n",
    "```\n",
    "\n",
    "Si cela ne fonctionne toujours pas, il faudrait créer une nouvelle machine virtuelle vierge et y installer les dépendances. Les étapes d'installations sont détaillées dans le notebook `ConfigurationVM.ipynb`.\n",
    "\n",
    "## Installer ROS-noetic\n",
    "\n",
    "Suivre les étapes détaillées sur le [wiki ROS.org](https://wiki.ros.org/noetic/Installation/Ubuntu).\n",
    "\n",
    "## Installation des packages turtlebot\n",
    "\n",
    "```bash\n",
    "sudo apt install -y ros-noetic-joy ros-noetic-teleop-twist-joy ros-noetic-teleop-twist-keyboard ros-noetic-laser-proc ros-noetic-rgbd-launch ros-noetic-depthimage-to-laserscan ros-noetic-rosserial-arduino ros-noetic-rosserial-python ros-noetic-rosserial-server ros-noetic-rosserial-client ros-noetic-rosserial-msgs ros-noetic-amcl ros-noetic-map-server ros-noetic-move-base ros-noetic-urdf ros-noetic-xacro ros-noetic-compressed-image-transport ros-noetic-rqt* ros-noetic-gmapping ros-noetic-navigation ros-noetic-interactive-markers ros-noetic-gazebo-ros-pkgs\n",
    "sudo apt install -y ros-noetic-dynamixel-sdk\n",
    "sudo apt install -y ros-noetic-openni2-*\n",
    "sudo apt install -y ros-noetic-turtlebot3-msgs ros-noetic-turtlebot3\n",
    "sudo apt install -y ros-noetic-rosbridge-suite\n",
    "```\n",
    "\n",
    "## Clone du workspace catkin\n",
    "\n",
    "```bash\n",
    "git clone https://github.com/willGuimont/glo4001-catkin_ws ~/catkin_ws\n",
    "\n",
    "echo \"source ~/catkin_ws/devel/setup.bash\" >> ~/.bashrc\n",
    "echo \"export TURTLEBOT3_MODEL=burger\" >> ~/.bashrc\n",
    "source ~/.bashrc\n",
    "```\n"
   ]
  }
 ],
 "metadata": {
  "kernelspec": {
   "display_name": "Python 3",
   "language": "python",
   "name": "python3"
  },
  "language_info": {
   "codemirror_mode": {
    "name": "ipython",
    "version": 3
   },
   "file_extension": ".py",
   "mimetype": "text/x-python",
   "name": "python",
   "nbconvert_exporter": "python",
   "pygments_lexer": "ipython3",
   "version": "3.8.10"
  }
 },
 "nbformat": 4,
 "nbformat_minor": 4
}