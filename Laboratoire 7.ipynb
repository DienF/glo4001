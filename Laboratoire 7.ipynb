{
 "cells": [
  {
   "cell_type": "markdown",
   "metadata": {},
   "source": [
    "# Laboratoire 7\n",
    "## Lidar, ICP et mapping\n",
    "\n",
    "Ce laboratoire consiste à vous familiariser avec l'utilisation et le comportement de l'algorithme *Iterative Closest Point*. L'idée est d'aligner des scans lasers consécutifs de façon à construire une carte 2D de l'environnement. Notez qu'il ne s'agit pas ici de faire du SLAM, mais bien de simplement aligner des scans consécutifs sans faire de vérification ou ajustement par la suite.\n",
    "\n",
    "![Le lidar Hokuyo](img/hokuyo.jpg)\n",
    "\n",
    "Le scanner Hokuyo URG-04LX-UG01 possède un champ de vision horizontal de 270 degrés et une portée de 0.02 à 5.6 m. Placez les obstacles à l'intérieur de cette zone pendant la création de votre carte!\n",
    "\n",
    "### Partie 1 - Afficher un scan\n",
    "\n",
    "D'abord la poutine préliminaire habituelle."
   ]
  },
  {
   "cell_type": "code",
   "execution_count": null,
   "metadata": {
    "collapsed": false
   },
   "outputs": [],
   "source": [
    "%load_ext autoreload\n",
    "%autoreload 2\n",
    "\n",
    "%matplotlib nbagg\n",
    "\n",
    "import time\n",
    "import numpy as np\n",
    "import matplotlib.pyplot as plt\n",
    "\n",
    "from robmob.icp import icp\n",
    "from robmob.icp_orig import icp as icp_orig\n",
    "from robmob.robot import Robot\n",
    "from robmob.sensors import HokuyoSensor, FullOdomSensor"
   ]
  },
  {
   "cell_type": "code",
   "execution_count": null,
   "metadata": {
    "collapsed": false
   },
   "outputs": [],
   "source": [
    "robot = Robot('192.168.0.108')\n",
    "robot.connect()"
   ]
  },
  {
   "cell_type": "code",
   "execution_count": null,
   "metadata": {
    "collapsed": true
   },
   "outputs": [],
   "source": [
    "hokuyo = HokuyoSensor()\n",
    "robot.add_sensor(hokuyo)"
   ]
  },
  {
   "cell_type": "markdown",
   "metadata": {},
   "source": [
    "La fonction `hokuyo_to_3d_homogeneous_matrix` accepte un scan du Hokuyo et le transforme en une matrice Nx4 de points 3D (en coordonnées homogènes). Elle fait simplement la conversion de coordonnées polaires à cartésiennes. Comme le Hokuyo est un scanneur 2D, la fonction fixe simplement la coordonnée en $z$ comme étant égale à 0."
   ]
  },
  {
   "cell_type": "code",
   "execution_count": null,
   "metadata": {
    "collapsed": true
   },
   "outputs": [],
   "source": [
    "def hokuyo_to_3d_homogeneous_matrix(hokuyo_data):\n",
    "    ranges = np.array(hokuyo_data['ranges'])\n",
    "    thetas = np.arange(hokuyo_data['angle_min'], hokuyo_data['angle_max']+hokuyo_data['angle_increment'], hokuyo_data['angle_increment'])\n",
    "    xs = ranges * np.cos(thetas)\n",
    "    ys = ranges * np.sin(thetas)\n",
    "    \n",
    "    pts = np.vstack((xs, ys, np.zeros(xs.shape), np.ones(xs.shape))).T\n",
    "    \n",
    "    # Remove the points that are at the origin.\n",
    "    pts = pts[np.nonzero(np.logical_or(pts[:,0] != 0., pts[:,1] != 0.))]\n",
    "    \n",
    "    return pts"
   ]
  },
  {
   "cell_type": "code",
   "execution_count": null,
   "metadata": {
    "collapsed": false
   },
   "outputs": [],
   "source": [
    "pointcloud = hokuyo_to_3d_homogeneous_matrix(hokuyo.peek_data())\n",
    "pointcloud"
   ]
  },
  {
   "cell_type": "markdown",
   "metadata": {},
   "source": [
    "La fonction `plot_point_clouds` accepte *une liste* de ces matrices et les trace sur un graphique. Le graphique est dans le repère de coordonnées du lidar, ce qui veux dire que les $x$ positifs pointent vers l'arrière du robot."
   ]
  },
  {
   "cell_type": "code",
   "execution_count": null,
   "metadata": {
    "collapsed": true
   },
   "outputs": [],
   "source": [
    "def plot_point_clouds(pcls):\n",
    "    STYLES = ['r+', 'bx', 'g*', 'md', 'y_']\n",
    "    \n",
    "    for i, pcl in enumerate(pcls):\n",
    "        plt.plot(pcl[:,0], pcl[:,1], STYLES[i], label='Nuage {}'.format(i))\n",
    "        plt.plot([0.0], [0.0], 'ko')\n",
    "        \n",
    "    plt.axis('equal')\n",
    "    plt.legend()\n",
    "    plt.show()"
   ]
  },
  {
   "cell_type": "code",
   "execution_count": null,
   "metadata": {
    "collapsed": false
   },
   "outputs": [],
   "source": [
    "plot_point_clouds([pointcloud])"
   ]
  },
  {
   "cell_type": "markdown",
   "metadata": {},
   "source": [
    "### Utiliser ICP\n",
    "\n",
    "Nous avons une implémentation (un peu primitive) de l'algorithme ICP dans la librairie `robmob`. Pour l'utiliser, il faut appeler la fonction `icp`. Elle prend deux nuages de points en arguments et retourne une transformation homogène `H` qui exprime la position du premier nuage de point dans le repère de coordonnées du second. \n",
    "\n",
    "`icp` retourne aussi `err`, un vecteur qui donne la distance entre chaque paire de points associés. Ce vecteur est utile pour savoir si l'algorithme `icp` a bien convergé ou bien si le résultat laisse à désirer.\n",
    "\n",
    "Pour tester l'algorithme, capturez un scan, déplacez le robot et capturez un autre scan.\n",
    "\n",
    "> **PROTIP** Utilisez le fichier [Controller.ipynb](Controller.ipynb) pour déplacer le robot."
   ]
  },
  {
   "cell_type": "code",
   "execution_count": null,
   "metadata": {
    "collapsed": true
   },
   "outputs": [],
   "source": [
    "pcl1 = hokuyo_to_3d_homogeneous_matrix(hokuyo.peek_data())"
   ]
  },
  {
   "cell_type": "code",
   "execution_count": null,
   "metadata": {
    "collapsed": true
   },
   "outputs": [],
   "source": [
    "pcl2 = hokuyo_to_3d_homogeneous_matrix(hokuyo.peek_data())"
   ]
  },
  {
   "cell_type": "code",
   "execution_count": null,
   "metadata": {
    "collapsed": false
   },
   "outputs": [],
   "source": [
    "H, err = icp(pcl1, pcl2)"
   ]
  },
  {
   "cell_type": "code",
   "execution_count": null,
   "metadata": {
    "collapsed": false
   },
   "outputs": [],
   "source": [
    "H"
   ]
  },
  {
   "cell_type": "code",
   "execution_count": null,
   "metadata": {
    "collapsed": false
   },
   "outputs": [],
   "source": [
    "print('La distance moyenne entre les points associés est de {} m'.format(np.average(err)))"
   ]
  },
  {
   "cell_type": "markdown",
   "metadata": {},
   "source": [
    "Avec la matrice H en main, il est possible de déplacer le nuage `pcl1` de sorte qu'il soit dans le repère de coordonnées de `pcl2`. Complétez la fonction `apply_transformation_to_pcl`. "
   ]
  },
  {
   "cell_type": "code",
   "execution_count": null,
   "metadata": {
    "collapsed": true
   },
   "outputs": [],
   "source": [
    "def pcl_with_transformation_applied(H, pcl):\n",
    "    '''\n",
    "    Apply an homogeneous transformation to a pointcloud.\n",
    "    Input\n",
    "        H: A 4x4 matrix describing an homogeneous geometric transformation.\n",
    "        pcl: A Nx4 matrix containing the points to be displaced.\n",
    "    Output\n",
    "        transformed_pcl: A Nx4 matrix contaning the displaced points.\n",
    "    '''\n",
    "    return (H.dot(pcl1.T)).T"
   ]
  },
  {
   "cell_type": "markdown",
   "metadata": {},
   "source": [
    "L'appel suivant va tracer les deux nuages de points originaux, ainsi que le nuage de points déplacé. Les nuages de points originaux ont la même couleur que dans la section plus haut. Le nuage de points déplacé est vert.\n",
    "\n",
    "> **PROTIP** Les graphiques de ce TP sont difficiles à lire. Souvenez-vous, l'objectif est de partir de `pcl1` et de venir le coller vers `pcl2`. Par exemple, dans le cas présent, Nuage 0 est le nuage d'origine et Nuage 2 sa version déplacée. Donc Nuage 2 devrait être identique à Nuage 0, mais collé sur Nuage 1."
   ]
  },
  {
   "cell_type": "code",
   "execution_count": null,
   "metadata": {
    "collapsed": false
   },
   "outputs": [],
   "source": [
    "plot_point_clouds([pcl1, pcl2, pcl_with_transformation_applied(H, pcl1)])"
   ]
  },
  {
   "cell_type": "markdown",
   "metadata": {},
   "source": [
    "### Estimé initial\n",
    "\n",
    "L'ICP est efficace pour trouver de petites transformations. Si on essaie de couvrir de trop grandes distances d'un scan à l'autre, l'ICP risque de tomber dans un minimum local. Pour cette raison c'est une bonne pratique de faire un estimé initial de la transformation $H$ que l'on cherche avant de lancer l'ICP. On pourrait se servir de l'odométrie, par exemple. La fonction suivante applique un estimé initial à un des nuages de points avant d'appeler ICP."
   ]
  },
  {
   "cell_type": "code",
   "execution_count": null,
   "metadata": {
    "collapsed": true
   },
   "outputs": [],
   "source": [
    "def icp_with_initial_estimate(pcl1, pcl2, estimate):\n",
    "    '''\n",
    "    Do ICP with an initial estimate.\n",
    "    Input\n",
    "        pcl1, pcl2: The point clouds to be matched. Nx4 matrices.\n",
    "        estimate: A 4x4 homogeneous transformation that represents our estimate of the robot displacement.\n",
    "    Output\n",
    "        H: A 4x4 homogeneous transformation that represents the ICP-adjusted displacement between the two PCLs.\n",
    "        err: A vector containing the distance between the matched points.\n",
    "    '''\n",
    "    pcl1_with_estimation = pcl_with_transformation_applied(estimate, pcl1)\n",
    "    H, err = icp(pcl1_with_estimation, pcl2)\n",
    "    \n",
    "    return H.dot(estimate), err"
   ]
  },
  {
   "cell_type": "code",
   "execution_count": null,
   "metadata": {
    "collapsed": true
   },
   "outputs": [],
   "source": [
    "pcl1 = hokuyo_to_3d_homogeneous_matrix(hokuyo.peek_data())"
   ]
  },
  {
   "cell_type": "markdown",
   "metadata": {},
   "source": [
    "Avant de capturer le prochain scan, avancez le robot de 0.5 m dans la direction $x$ du lidar."
   ]
  },
  {
   "cell_type": "code",
   "execution_count": null,
   "metadata": {
    "collapsed": true
   },
   "outputs": [],
   "source": [
    "pcl2 = hokuyo_to_3d_homogeneous_matrix(hokuyo.peek_data())"
   ]
  },
  {
   "cell_type": "code",
   "execution_count": null,
   "metadata": {
    "collapsed": false
   },
   "outputs": [],
   "source": [
    "# On estime que le robot a avancé de 0.5m vers l'avant *du lidar*.\n",
    "estimate = np.array([[1.0, 0.0, 0.0, 0.05],\n",
    "                     [0.0, 1.0, 0.0, 0.0],\n",
    "                     [0.0, 0.0, 1.0, 0.0],\n",
    "                     [0.0, 0.0, 0.0, 0.0]])\n",
    "\n",
    "H, err = icp_with_initial_estimate(pcl1, pcl2, estimate)\n",
    "print(H)\n",
    "print('La distance moyenne entre les points associés est de {} m'.format(np.average(err)))"
   ]
  },
  {
   "cell_type": "markdown",
   "metadata": {},
   "source": [
    "Une fois de plus, ce graphique est difficile à lire. L'objectif est de coller Nuage 0 sur Nuage 1. Nuage 2 est une version de Nuage 1 qui est déplacé selon notre estimé initial. Nuage 2 n'a donc jamais passé par l'ICP. Nuage 3 est une version de nuage 0 qui a été déplacée selon le résultat de l'ICP."
   ]
  },
  {
   "cell_type": "code",
   "execution_count": null,
   "metadata": {
    "collapsed": false
   },
   "outputs": [],
   "source": [
    "pcl1_with_estimate = pcl_with_transformation_applied(estimate, pcl1)\n",
    "pcl1_after_icp = pcl_with_transformation_applied(H, pcl1)\n",
    "\n",
    "plot_point_clouds([pcl1, pcl2, pcl1_with_estimate, pcl1_after_icp])"
   ]
  },
  {
   "cell_type": "markdown",
   "metadata": {},
   "source": [
    "### Estimé initial grâce à l'odométrie"
   ]
  },
  {
   "cell_type": "markdown",
   "metadata": {},
   "source": [
    "Il serait plus astucieux de se servir de l'odométrie pour faire un estimé initial, plutôt que de demander à un humain de le faire. La fonction `homogeneous_transformation_of_two_poses` trouve la matrice 4x4 de transformation homogène qui passe d'une position à l'autre."
   ]
  },
  {
   "cell_type": "code",
   "execution_count": null,
   "metadata": {
    "collapsed": true
   },
   "outputs": [],
   "source": [
    "def homogeneous_transformation_of_two_poses(pose1, pose2):\n",
    "    dx = pose2[0] - pose1[0]\n",
    "    dy = pose2[1] - pose1[1]\n",
    "    dtheta = pose2[2] - pose1[2]\n",
    "    \n",
    "    return np.array([[np.cos(dtheta), -1*np.sin(dtheta), 0.0, dx],\n",
    "                       [np.sin(dtheta), np.cos(dtheta), 0.0, dy],\n",
    "                       [0.0, 0.0, 1.0, 0.0],\n",
    "                       [0.0, 0.0, 0.0, 1.0]])"
   ]
  },
  {
   "cell_type": "markdown",
   "metadata": {},
   "source": [
    "Le bloc suivant nous abonne aux données d'odométrie. Ensuite on peut collecter l'estimé d'odométrie en même temps que l'on connecte des scans lidar."
   ]
  },
  {
   "cell_type": "code",
   "execution_count": null,
   "metadata": {
    "collapsed": true
   },
   "outputs": [],
   "source": [
    "odom_sensor = FullOdomSensor()\n",
    "robot.add_sensor(odom_sensor)"
   ]
  },
  {
   "cell_type": "code",
   "execution_count": null,
   "metadata": {
    "collapsed": true
   },
   "outputs": [],
   "source": [
    "pose1 = odom_sensor.peek_data()\n",
    "pcl1 = hokuyo_to_3d_homogeneous_matrix(hokuyo.peek_data())"
   ]
  },
  {
   "cell_type": "code",
   "execution_count": null,
   "metadata": {
    "collapsed": true
   },
   "outputs": [],
   "source": [
    "pose2 = odom_sensor.peek_data()\n",
    "pcl2 = hokuyo_to_3d_homogeneous_matrix(hokuyo.peek_data())"
   ]
  },
  {
   "cell_type": "code",
   "execution_count": null,
   "metadata": {
    "collapsed": false
   },
   "outputs": [],
   "source": [
    "odom_estimate = homogeneous_transformation_of_two_poses(pose1, pose2)\n",
    "odom_estimate"
   ]
  },
  {
   "cell_type": "code",
   "execution_count": null,
   "metadata": {
    "collapsed": false
   },
   "outputs": [],
   "source": [
    "# ICP sans estimé d'odométrie.\n",
    "H_without_estimate, err = icp(pcl1, pcl2)\n",
    "H_without_estimate"
   ]
  },
  {
   "cell_type": "code",
   "execution_count": null,
   "metadata": {
    "collapsed": false
   },
   "outputs": [],
   "source": [
    "# ICP avec estimé d'odométrie.\n",
    "H, err = icp_with_initial_estimate(pcl1, pcl2, odom_estimate)\n",
    "H"
   ]
  },
  {
   "cell_type": "markdown",
   "metadata": {},
   "source": [
    "Le graphique suivant est encore plus difficile à lire, donc allez-y pas à pas. Nuage 0 est le nuage original, et Nuage 1 notre objectif. Nuage 2 est une version de nuage 0 déplacée selon notre estimé d'odométrie. Nuage 3 est une version de Nuage 0 déplacée selon l'icp avec estimé initial. Nuage 4 est une version de nuage 0 déplacé selon l'icp sans estimé initial."
   ]
  },
  {
   "cell_type": "code",
   "execution_count": null,
   "metadata": {
    "collapsed": false
   },
   "outputs": [],
   "source": [
    "pcl1_with_estimate = pcl_with_transformation_applied(odom_estimate, pcl1)\n",
    "pcl1_after_icp = pcl_with_transformation_applied(H, pcl1)\n",
    "pcl1_after_lesser_icp = pcl_with_transformation_applied(H_without_estimate, pcl1)\n",
    "\n",
    "plot_point_clouds([pcl1, pcl2, pcl1_with_estimate, pcl1_after_icp, pcl1_after_lesser_icp])"
   ]
  },
  {
   "cell_type": "markdown",
   "metadata": {},
   "source": [
    "### Construction d'une carte\n",
    "\n",
    "Pour construire une carte de l'environnement avec le lidar, il faut intégrer tous les outils utilisés jusqu'à présent. La boucle suivante additionne les transformations successives détectées par l'ICP. On peut donc suivre le déplacement du robot dans l'environnement. \n",
    "\n",
    "Malheureusement l'algorithme d'ICP dont on dispose ne permet pas de faire l'ICP d'un scan lidar contre toute la carte construite. Il faut donc additionner les transformations du premier scan vers le deuxième, du deuxième vers le troisième, etc. La conséquence de cela est qu'un ICP de mauvaise qualité va affecter toutes les positions estimées successives. C'est un peu comme faire de la navigation à l'aveugle avec l'odométrie."
   ]
  },
  {
   "cell_type": "code",
   "execution_count": null,
   "metadata": {
    "collapsed": false,
    "scrolled": false
   },
   "outputs": [],
   "source": [
    "# Le premier scan sert de base à notre carte.\n",
    "built_map = hokuyo_to_3d_homogeneous_matrix(hokuyo.peek_data())\n",
    "previous_reading = built_map\n",
    "\n",
    "# Cette matrice contiendra la position estimée du robot à chaque scan.\n",
    "robot_positions = np.array([0.0, 0.0, 0.0, 1.0])\n",
    "time.sleep(0.3)\n",
    "\n",
    "H_from_global_to_previous = np.eye(4)\n",
    "\n",
    "for i in range(20):\n",
    "    # Prendre une lecture du lidar.\n",
    "    reading = hokuyo_to_3d_homogeneous_matrix(hokuyo.peek_data())\n",
    "    \n",
    "    # Exécuter ICP sur la lecture et la lecture précédente.\n",
    "    H, err = icp(reading, previous_reading)\n",
    "    print('La distance médiane entre les points associés est de {:0.4} m'.format(np.median(err)))\n",
    "    print('Selon l\\'ICP le robot s\\'est déplacé de {:0.4f} m\\n'.format(np.linalg.norm(H[0:1, 3])))\n",
    "    \n",
    "    # On applique la nouvelle transformation à la sommme des transformations accumulées.\n",
    "    H_from_global_to_reading = H.dot(H_from_global_to_previous)\n",
    "    print(H_from_global_to_reading)\n",
    "    \n",
    "    displaced_reading = pcl_with_transformation_applied(H, reading)\n",
    "    built_map = np.concatenate((built_map, displaced_reading), axis=0)\n",
    "    previous_reading = reading\n",
    "    H_from_global_to_previous = H_from_global_to_reading\n",
    "    \n",
    "    displaced_robot = H_from_global_to_reading.dot(np.array([0.0, 0.0, 0.0, 1.0]))\n",
    "    robot_positions = np.vstack((robot_positions, displaced_robot))\n",
    "    \n",
    "    time.sleep(0.6)\n",
    "\n",
    "plot_point_clouds([built_map, robot_positions])"
   ]
  },
  {
   "cell_type": "code",
   "execution_count": null,
   "metadata": {
    "collapsed": false
   },
   "outputs": [],
   "source": [
    "built_map"
   ]
  },
  {
   "cell_type": "code",
   "execution_count": null,
   "metadata": {
    "collapsed": false
   },
   "outputs": [],
   "source": [
    "robot_positions"
   ]
  },
  {
   "cell_type": "code",
   "execution_count": null,
   "metadata": {
    "collapsed": true
   },
   "outputs": [],
   "source": []
  }
 ],
 "metadata": {
  "kernelspec": {
   "display_name": "Python 3",
   "language": "python",
   "name": "python3"
  },
  "language_info": {
   "codemirror_mode": {
    "name": "ipython",
    "version": 3
   },
   "file_extension": ".py",
   "mimetype": "text/x-python",
   "name": "python",
   "nbconvert_exporter": "python",
   "pygments_lexer": "ipython3",
   "version": "3.4.3"
  },
  "widgets": {
   "state": {},
   "version": "1.1.2"
  }
 },
 "nbformat": 4,
 "nbformat_minor": 0
}
