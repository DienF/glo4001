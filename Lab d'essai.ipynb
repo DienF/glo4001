{
 "cells": [
  {
   "cell_type": "markdown",
   "metadata": {},
   "source": [
    "# Laboratoire 0 - Exemple\n",
    "\n",
    "Bienvenue dans ce laboratoire d'exemple. L'objectif ici est de vous familiariser avec l'environnement Jupyter, ainsi que les interactions que vous pouvez avoir avec le robot.\n",
    "\n",
    "Jupyter nous sert d'interface pour appeler du code python. Débutons "
   ]
  },
  {
   "cell_type": "code",
   "execution_count": 8,
   "metadata": {
    "collapsed": false
   },
   "outputs": [
    {
     "name": "stdout",
     "output_type": "stream",
     "text": [
      "The autoreload extension is already loaded. To reload it, use:\n",
      "  %reload_ext autoreload\n"
     ]
    }
   ],
   "source": [
    "%load_ext autoreload\n",
    "%autoreload 2\n",
    "%matplotlib inline\n",
    "\n",
    "import time\n",
    "import numpy as np\n",
    "import matplotlib.pyplot as plt\n",
    "import matplotlib as mpl\n",
    "from matplotlib import animation\n",
    "from IPython.display import HTML\n",
    "from websocket_client import Robot, Sensors"
   ]
  },
  {
   "cell_type": "markdown",
   "metadata": {},
   "source": [
    "Modifiez la valeur de `ip_robot` selon le robot qui vous a été assigné."
   ]
  },
  {
   "cell_type": "code",
   "execution_count": 9,
   "metadata": {
    "collapsed": false
   },
   "outputs": [],
   "source": [
    "ip_robot = '10.248.0.32'\n",
    "robot = Robot(ip_robot)"
   ]
  },
  {
   "cell_type": "code",
   "execution_count": 10,
   "metadata": {
    "collapsed": false
   },
   "outputs": [],
   "source": [
    "robot.connect()"
   ]
  },
  {
   "cell_type": "code",
   "execution_count": 11,
   "metadata": {
    "collapsed": false
   },
   "outputs": [],
   "source": [
    "robot.listen_to(Sensors.hokuyo)"
   ]
  },
  {
   "cell_type": "code",
   "execution_count": 12,
   "metadata": {
    "collapsed": false
   },
   "outputs": [
    {
     "data": {
      "image/png": "[encoded data removed]",
      "text/plain": [
       "<matplotlib.figure.Figure at 0x7fc1687b94a8>"
      ]
     },
     "metadata": {},
     "output_type": "display_data"
    }
   ],
   "source": [
    "fig, ax = plt.subplots(1,1, subplot_kw=dict(projection='polar'))\n",
    "\n",
    "ax.grid(True)\n",
    "ax.set_rmax(3.0)\n",
    "ax.set_rmin(0.0)\n",
    "\n",
    "last_data = robot.read_sensor_data(Sensors.hokuyo)['msg']\n",
    "ranges = np.array(last_data['ranges'])\n",
    "angles = np.arange(last_data['angle_min'], last_data['angle_max'] + last_data['angle_increment'], \n",
    "                   last_data['angle_increment'])\n",
    "\n",
    "ranges = ranges.astype('float32')\n",
    "\n",
    "\n",
    "scatter_plot = ax.scatter(angles, ranges, color='b', s=2, animated=True)\n",
    "\n",
    "plt.show()"
   ]
  },
  {
   "cell_type": "code",
   "execution_count": 13,
   "metadata": {
    "collapsed": false
   },
   "outputs": [],
   "source": [
    "def init_frame():\n",
    "    scatter_plot.set_array([])\n",
    "    return (scatter_plot,)\n",
    "\n",
    "def animate(_):\n",
    "    last_data = robot.read_sensor_data(Sensors.hokuyo)['msg']\n",
    "    ranges = np.array(last_data['ranges'])\n",
    "    angles = np.arange(last_data['angle_min'], last_data['angle_max'] + last_data['angle_increment'], \n",
    "                       last_data['angle_increment'])\n",
    "    \n",
    "    scatter_plot.set_array(ranges)\n",
    "    \n",
    "    return scatter_plot,\n",
    "    \n",
    "time.sleep(15)\n",
    "anim = animation.FuncAnimation(fig, animate,frames=100, interval=20, blit=True)"
   ]
  },
  {
   "cell_type": "code",
   "execution_count": 14,
   "metadata": {
    "collapsed": false
   },
   "outputs": [
    {
     "name": "stderr",
     "output_type": "stream",
     "text": [
      "/home/dlandry/environments/glo7021/lib/python3.5/site-packages/matplotlib/colors.py:581: RuntimeWarning: invalid value encountered in less\n",
      "  cbook._putmask(xa, xa < 0.0, -1)\n"
     ]
    },
    {
     "data": {
      "text/html": [
       "<video width=\"432.0\" height=\"288.0\" controls autoplay loop>\n",
       "  <source type=\"video/mp4\" src=\"data:video/mp4;base64,AAAAHGZ0eXBNNFYgAAACAGlzb21pc28yYXZjMQAAAAhmcmVlAAAsx21kYXQAAAKuBgX//6rcRem9\n",
       "5tlIt5Ys2CDZI+7veDI2NCAtIGNvcmUgMTQ4IHIyNjQzIDVjNjU3MDQgLSBILjI2NC9NUEVHLTQg\n",
       "QVZDIGNvZGVjIC0gQ29weWxlZnQgMjAwMy0yMDE1IC0gaHR0cDovL3d3dy52aWRlb2xhbi5vcmcv\n",
       "eDI2NC5odG1sIC0gb3B0aW9uczogY2FiYWM9MSByZWY9MyBkZWJsb2NrPTE6MDowIGFuYWx5c2U9\n",
       "MHgzOjB4MTEzIG1lPWhleCBzdWJtZT03IHBzeT0xIHBzeV9yZD0xLjAwOjAuMDAgbWl4ZWRfcmVm\n",
       "PTEgbWVfcmFuZ2U9MTYgY2hyb21hX21lPTEgdHJlbGxpcz0xIDh4OGRjdD0xIGNxbT0wIGRlYWR6\n",
       "b25lPTIxLDExIGZhc3RfcHNraXA9MSBjaHJvbWFfcXBfb2Zmc2V0PS0yIHRocmVhZHM9OSBsb29r\n",
       "YWhlYWRfdGhyZWFkcz0xIHNsaWNlZF90aHJlYWRzPTAgbnI9MCBkZWNpbWF0ZT0xIGludGVybGFj\n",
       "ZWQ9MCBibHVyYXlfY29tcGF0PTAgY29uc3RyYWluZWRfaW50cmE9MCBiZnJhbWVzPTMgYl9weXJh\n",
       "bWlkPTIgYl9hZGFwdD0xIGJfYmlhcz0wIGRpcmVjdD0xIHdlaWdodGI9MSBvcGVuX2dvcD0wIHdl\n",
       "aWdodHA9MiBrZXlpbnQ9MjUwIGtleWludF9taW49MjUgc2NlbmVjdXQ9NDAgaW50cmFfcmVmcmVz\n",
       "aD0wIHJjX2xvb2thaGVhZD00MCByYz1jcmYgbWJ0cmVlPTEgY3JmPTIzLjAgcWNvbXA9MC42MCBx\n",
       "cG1pbj0wIHFwbWF4PTY5IHFwc3RlcD00IGlwX3JhdGlvPTEuNDAgYXE9MToxLjAwAIAAACIeZYiE\n",
       "ADP//vbsvgU1/Z/QlxEsxdpKcD4qpICAhbPg4DSYgGn3R/Txil6GO9tr10D7zJX/lMh0TFMvx8Ri\n",
       "aGUqw+qUWCO2SgcWdFAJTAjR983fYo8zwrajKgIDai2Auq4MQaX2tj8eAAK/wQJvG2FnPmKzVsg4\n",
       "CNCpM6X/H6Q2Fcp2VFWhRMgQnGOLRVlleGAupKWc0BUnxnJwq7pdq0WAyilvv/eZPa5Rcu+QpoO8\n",
       "Wo7KkkC0Z4TWpeRpuVOpnvRFSbqusWh2xaqBQcH8SbB1gb9RFT7+rGAPEuO0i9u4klaC67Sb+BJ7\n",
       "hi0l50zQFPI5v7EVvw+/1nf63+u3O+C5/upmdA1itaSGcPPzUFNUQAiwWHijKJ5AyrHW0/1wY/uf\n",
       "/c0LKRPzRVKfB/0NdOdZGveprlURaG3yGXpiVtvD4ObdvqfRICS/z0OJ1iMXN2RsoUKpDIhas/p9\n",
       "20tMLGSFPAs8TxjaI/cpRoKd+r4zt/NQdqXDtJp7duT2MXI5PIHzh3AFpGdJ5g6n21i4VE6h8LP1\n",
       "sqBbVpvx5TSf6+2dSlCo/ACEY3Cryv+HPFOSXsmYMhcoG6oWEd5VlXaLOvgB3UoYkNeLVHvd8KDq\n",
       "VP6NUDaEADUacR3vWXV4DEaNH5VTvTW3T8h4nlJImE7Z5exzIOTbg5YKpdSr7lW0UrAp0OlJ7hHV\n",
       "0B4lXdd9nBzAI3Tl6Vb/083WC0PlNiYjeW1OSZ2RoJN0VQ0+zZhx3v+bPePlywJjrPwzv6OL3XOh\n",
       "rCKmT/1DMLZ/mpqsjxFA0ACTRFloIvTuAtTqM+2wrYFnc+3M/gBxtNdA4hAsHR2s5Xk666EZKSgA\n",
       "k2dEFiJW4+e84FYdMjredoDq9Eal4RMrh0ams0+dMzEJCSWWmlIezFeMsSw8PWdX6gjh46Oj1M+O\n",
       "o9czk5KLyOfGNX1UZJ53Oumnrre6zlE/8IHsSVpmN9ctR+0sXXOpf83yJKsztpXDANaqHh3Uyaxt\n",
       "xqug65RmGWS8YxJI8IsHkaCIitHpfERahyQQ5iym77M7xdwdkXpJ0sM4ZOQXKhyXy//V+zNEEm4w\n",
       "iWlr4rcTvINcfb78SbepsPHJ+uoVhBjiSyU6/FNWv7kAViMzJY5LJvAYWLhkensklohpU9/nEG0u\n",
       "beFpZeXTqf6ekHeAnDoHjunHa4x2rxAQ4mnK8JlLJXSed6HYcEEi7SGRE088ztbqTreiUp8F9BWU\n",
       "1wUt7IMW72w/bOW8xW97EYgdXszHTOc+5LRYYb0jkbCPVxt1oUbRi2yataWHC+F6AITvhMSX4KvH\n",
       "KUJ1fg4mwVZrXxCizQ71v1Ljgh48ZMnn3I34AkF2UgYseSbcw6FO+B1pYj8UBagVAQ4qWUbMm+tj\n",
       "vJBG6o1VIHzXRgAOmduUtvGr6VXo6RLjpd+7jsxsYz0CUq7QWToPYVDw8NqJpXfp38WP6GHSTNTF\n",
       "SXE5pFWSpr3F6CzRdImmkAgvJh9lZVklIFKYqfWU6zKT8nraKWzxM2ruy2o3G3HrPoa0KRGvrq6T\n",
       "8UmUTYQSe0hixCebsz05Y0rTe9uZYhD+wW5fhmbAZDvdHRmvUSroikuqNuYvT/q0fPkvVFtmSzBd\n",
       "aKDcmP99RmddNJpxFX2oCP8DLGa9ED3r0CK7ft7tt2OcnKG4rUa7S0CKu2LnqD3IgdHZQwBaGCAx\n",
       "Qvwxto0SFbQLPDbX7VBT12Zzk21kMnAANLpbAgN4/dAtEd7smXeOkFSP1j6lMam44fdli/BRA5at\n",
       "079pNk5DB5JY7f9V3afRyoAxh05fx18U51vIpxkN0UYdAfWuIGlIpy6wGLEJLJf2IV8JZYtGEL65\n",
       "goPzig5lmtmrJ0RVWvpT0LpRY6+C2R+Kl9k6n3wtwFLZf+u9bLNc1N9g5XlHdFG7M0ISeAnNeuOg\n",
       "m6NTNnxklfF+55QkZo/HQ0Yah1Nca8CkjAn2OiDZNps+ijEsu/7MznIYWUqJdf6xqckQOMRPu/CV\n",
       "50Jd1QFI7gF1vVZ/r/fnxuy3yPXLjXKSzBr0145RAp7BMH68PAGIe3gFvC3feWmSxluafpQvkeGk\n",
       "2rAE/Z1iBigJLB6ppHiSNhUqXyFYiT1GTEAt6dkEXYVZtA3SMIf55DHtxgQGz6m6+PxP/7J0rt0t\n",
       "49VWhUjvLWOuGxMII1podNXw6bHZ/JRbZX8dfyaPd5UWOl08qS6QsJ+/WnwoydeEpv4k86ckZgMg\n",
       "cmob2Js0m7I15brlakMO7TECJUAgLXo7CRCgZpX9vXIkmeb5fAIRs0aEP2QEXIjwlKjMRHia4aqX\n",
       "a6/UawPjshYaRx9mcRhFU5V0qF/zSE1C5/nub12+G4q5ZJHI0V5x4Z+N7R07Sg3rSU6bV5syM7rx\n",
       "lV1WO829k+SuJw+PFu8z82OnaXChUdkwrLg3R1DCBSRnYCLo/umhf+pL5hXfQHwaqYWoYmpwu6SE\n",
       "4bfz1MeZ2GU033Lsx8uStdNfeUTruJVYlGF/cZShSe03X+FlLzp+gCAV9lDp96YUVOagEJD31r1K\n",
       "89G3HrZXlKN4G5DwAcy9sXDO8Mbf0rC1onHl3yPTUqmW6zoLFyGDiNB3OX0mU43pjIOVNQXE7XPC\n",
       "WDizMNqdRyr0CjYEwlTbe6jlk2ePdi5Ot3cKDl6PfgGndsCEk2Jmpxnac3BvQ1cVihZopndiIK55\n",
       "UySr8Q2z45jLmAOp+EEMvgPgjXjXyr9sxjqqub2wfwnTrkY7B9uDhVPNvsaAEQk36rknmYaBldlz\n",
       "rpgV17/JFGHMSI/+b7PvfHvihFnLJ+o+NIQIgjmZwGWnw1ZcXmveEMWRDMvwa2M/ldkOSRm+OxqQ\n",
       "gy8iljg6O48EvFRRi4QLVk1WuxxOBNujRnIAZfjqZJEkhrP8RUA/QFKUdTdlqKU1gUgXmPs0//zQ\n",
       "kB9SpJARZmDmWabe+pYu7M33Jg1B/QCAVpWjSQP9yTqYT9w/OYQTXVtlYZf22lEjrcF0CLydINN4\n",
       "kMG0yGK4XzXzqHEv8N70/oje1dUy1+VPt7HQG+hFqWWorqi56umbf1x62RXSEtP8BSwRk5nWPPZN\n",
       "2dE0mJhbAjHpjn45k+2jEaoudj+/GHzRTdS0zW9Y7y4t+K1pxUeZAIZJvLkJy2KwgWMOIP4egGX0\n",
       "8qiGtUi5PpbnylSwwfDkX+kB+sQ2+bwjwcfocr7sfnCR/1MVRRfHEzLE5RWOe3mKGkzWKZeVUzER\n",
       "MRqrDE6RZJfHNT+R/LYrLgOIOBTmNk2MBitBoPQAl2y2vu88otbWbd+pXqc2uBdO0KT+zI4pCqha\n",
       "ay9rJDN8eQvXXNx6DVos+XtXTq6ReWK4kfcmG3MmGTcSBYp3NBpNaVfEmyQwcIopJi/JKTe7h2IC\n",
       "7Kr7JSkrl5sCmcD7PGAMsJXufZGcP+VSXQjkHhabr+vobvJ/xiUKDoB3842Mv+Px09LgL83rQmBc\n",
       "URuKtZhi0KuCjZisIU0a/C4WjDo0utYJZbz56AgC6oJsW1K1PPwjQUUPqhzROzJTKVzFPOMtPpbn\n",
       "93AFhLe3v9RrP5I2QlY9//K7jwbXcff1fxQNZZp8wEKJkVL1SyX9gvNZ7zjUsNZHL/WHoKy3EZA9\n",
       "srU2lbZz/L6d4ZHwSCG+8zh7Cn6RjP9xFM+h0aTgzFg4yvMP5iAXwfur7jlrL3kqE2VYCbO36FEQ\n",
       "Oyj/SiNvKP2Gf72VQkwhivbzV49msT2cKSdoGwpR2M0V8g8dmpSz52SxBAD6Csyv/TN5wxsJ6U5F\n",
       "7Hj2Vw+INDyTStUk4kYwfNkVG3nTceAfk407UTqjHF2TQ4MccpGb99rp5Y/qb7k1u9JGbJTx90Hx\n",
       "HI5EQ0wCHmIfqqzduh49jmj88tLnb7HswQWfBU6dOEkdkaTsUXLc5d8D3kim9RHwn5v6LInEhkyv\n",
       "CPuFq1D+hk/L2i+5nca4p8kQb3pExCwb9pbhqyS/57XN014fbwKtOLTNA2PbHnM8BNZX8xCfp5Pp\n",
       "OQKX/mn2dYu0AV+dNKrjDg02UfmGYsw+efRg9+YcYC85Ca6NXZ++ooJ8UAFlNXMSpkqz+0uvdDCR\n",
       "ics72Tq7pgt6dHifJ6bICkmCfM+DW5TQrkw36Rp1ANbmGX7r6JXBsEWnpirWhx5DlfwaKLiGAdq9\n",
       "DSR9y5XPX8PBh10zylND5Em59f5Xdtrtjx3g92zI8QlwyjWw7+5bxgzrrf+FWyh46pPAM9znOriI\n",
       "LBmVYQrApvFvHpp1bDP4+dAMkVk/tk44rAyZgzPgvBQAPXYuOpVuAJ08fc0/A3JGlZD7BOHg3pfx\n",
       "gKQKsjXh0UqsJH4Rj1bF+ycUI/O/Dof8yz6ZTvTA6PPbwVFDz0L8waV7LsEOZFufUSYe1creF50s\n",
       "kKQVcwHBDfKSMGEsQ2rJsCVbNjHwyBbu5GxpUPrI53ycUk7Fu4Qah4AHxv2t9KcS8jhhygS2ChJf\n",
       "vWH0WA3NohOVqXieAPp1HKndczjfS1z2rjLRWrcHoE25zuykRHJtOfelfMk4gBpcsLXubqlFzWgm\n",
       "LFpOq/j4qYunuOJ/gDoSisUfDk6qeoiafs/u561fBXVquxiSbCwP7QF3hhdkYgPPkenRWb7Na41m\n",
       "P1ngCSlcxSKfkwqAIzI/zfmqxiNFsZXRNx6uxeVJY+9kF6sm1c+cgwZjynidGrROTCQQncDypuTl\n",
       "DrFzgsIx3QytMgBr46740AisJGKVM51yBBcku00E7CgdRe59ctKbuCV7eOaAPqHaEXVXmcu1puRj\n",
       "EMHssZ8DJcFPBF01E63M8sq4sURpBaY4pCu+1kJPQaCHfinPQ9KOk0zM37EkmCIK5EGDKF4PYZbF\n",
       "jnGu2YSk7GCkUy6ow7NLGtWULkX+cE8w6P1NCF7T4TgyIRco6A6sgG32Vtxb8cNuP+o0ijZUeZbk\n",
       "cB7LGoQMVyb8PumMHMGDgUegpxTg/10gf1/3+EYUJlM/Gl5GxtymnRFHSGE0d6ECMAo6UaPSEZas\n",
       "p6/4/cxeXKtisEhXNCkMwQIm80m7Q3lu6ZqhdkjuVByae7D+UKiGG1h8h98Et7BQLdKKz1YQOyrw\n",
       "qG3CLUYg0fI7WQKLUa3frylCuBZy9+5YGyrM46y5GzbkCr8VqMaZaYSbL/KRZR1sJJP3LnKhV5zd\n",
       "FE6Ya0+xPpJstQAjmUyy4fekDbjayT7hfFhwxkell0CrKR7At3BU914dxbRMbC8jYwH99rL4gN+Y\n",
       "IsFCljsMQKxTKSzSi+/hbk7yYYMBRLu6mb04vgaABNVo10eO9e9wQNpr/cHWFmJr7s69IXxM4z7m\n",
       "OP/8NUxrOhV23oCGAsBP9ARnDpqhovxUGIBkC210kCv/N0pECBtOy+G1MKq4vKqncISs0cfUT94G\n",
       "jNXTTlJSEnqrht4/aPoTfJ7NB9w4K7cnb+B0o0EiSxLsaZuTt6gzvjREIPg8kqSR9BWG4DWCXZJL\n",
       "zmUjPj0EJbYst51FIN2zk0i9g8Gm2qjZ7plRdtdzp2VNtgLwEHA2lkW6gAx2//dsAwZsm8yhFIg0\n",
       "imsX6tKgBGSPXiufCODppeWTZ/5ej99l1SnqGebK2BuvY52DKtOWrsFh27jDQ0dKQ2MBTjShU+jm\n",
       "Rosb49W3AwQzdjzEClDTx+RkPtKnNdPmQOp5X/ZgxfM+2cHaUtm5bWqMywoorf6LKULWqldUuTdJ\n",
       "EqyJVSSUnaPLmzzTQO7Ju2KBV+tb/PgnfGN8pt46I23olqixWU37ybuG8woY5q1PBmBRhHpGtPd2\n",
       "kZ4A9JhzArMEOVapJpgXctLo8WBB5rXMmf6l6d6g/HWJLGNPST6lyIZn3YU9lkpsMb4pAzHuEhTe\n",
       "FCrRpHXU0u1k80qzselrzUPXVSp0feaDL6Er/+Gbwwn8m2l+hq76D/a1KNh4tMSEL0oH//8Hmlt5\n",
       "a0Cyt1V/vlvmnLaVH6FcnETBpkvQakeChLW9a3U/Bubx449KRL9yGpVyfZaJVC1/OxCq2gRr3JIE\n",
       "0tmJqJV8+/ujSraJbYjXdXUNcu8G/9OZ4h08230NAKcwUshhnciUWbtLNM07r1In9IVGSf5MiP7t\n",
       "eoYVg1OcBuNVF6hCwbyPu+77s4/kXts1L+37v5pYSYYT3+HZbEtJ8ql6NJZSohMwtjZAxd92IBGs\n",
       "j9cB6/F4DoX/mW98dGqC7z2enuQ+VMAYcYQ64RZ439r5//Dyj0v39BltW4qj013BBwLFOoEiiOHz\n",
       "iqQ2FtSnQ7syZ+WcxYXcHurasWU7+4NiOFUiJg6eOtVzpcvxZtG+E7wd9FM/CkujcQNe5UmSkRFU\n",
       "P80PItfAwlyKrJzz4R/cl1zKTryQ0+5oGn409bYYkoZjdr9ifmugJn9cbYFGeESBx5ZBuPUvpUg9\n",
       "Lp+l8ccjIEBe7ubVp2zM44VRrZ4sF9C0xk+lIzVeF44gsvvpbF6V+7gxUYRAQg7AktC5B0IdtA20\n",
       "N5TF2Y/H2OeelsBuNWN5mveBit+kT3JdRqFmRCCGqBoRa9ZWTYdVPfyD9NhJbAYNIjowQ2EhtS8B\n",
       "ALinc3I9V2yU0TtUOwsRm/vHlJM7Hnysm+iojGNojzAEtTKWH67THXkFNxB5qRYa7bIfIR6La1+c\n",
       "AUrVVBf1HG7LjtvqIW+yEfl858AQN2CCoblI4Mb14qjLvkwSnXfnzHqlNtpB7D4e+4K95SIQPdZK\n",
       "QNxL55jSEMDeHHpw9mInFHzyfHH5hnPYPG/vZ+Nfkb8AOvguphhwoc7whifbq1+NkB2C9zz5FrOD\n",
       "QojInw2VsQpX8jo36r2NTltqIflV2r3OeslgZsO9j/pXIiQu7vWNfmXxnWidgWVb0AjLXAMSlk+N\n",
       "uIe+Iu9JKlZ7n/YlhPX7HHOIaQ9MHLB9L9Krm0+pQ9/e2sIuShH/1sea6OhEwg3wTH4ol0ZWMc1m\n",
       "JUvyxsjYnJt18nSZU9ggtvfhVjq1T+T9/ieIWXgoQlFpoRXdYg9Bqz44MRSkc5dSXj0cl8ss4zaj\n",
       "K+5VcjCCaKpCCujcs2y+V6MqPWtY4aMuGa1fGar8L6TKvSOmohqFsZe+PnhQRSy+MF3S+xSyt8bH\n",
       "3rX78QnpfdswDtcUECrvDZK+HlRTpny17d98v1gnJ5PpJFFsyHu64yxUA0FtAguD3YSHBpAjC89E\n",
       "dloyEsQMgIxR6EsaPcrf7zGjdxB7QCl2QgSujkzepsvQ2MI7g+95bhsmVsySKhnpB7MlINxvSprg\n",
       "fayijbQ4esn5vJjsSYCtloHE5bXPqSKVbkdeP7p4wsc/5QCh2fZ70DYsHPPHIglLJxrdxeVmIOII\n",
       "JbgCPlubXdjAQen+lQSzAry/uiQaeMHUZDna3tMSRq9n2XPP6ggFiGq6l6Z0dqcl6YK7gfjoNN9n\n",
       "IemJPM688E2lgXSUkOR+XxPuSF1qZ1Uf//HHM/4ABuoPGpHhmN5Ktk6m+0Nn6YOhokUfxlVdSXY3\n",
       "kxfW6m3GMpczJzcLrCt2Kq4YeyAETAPKDApTKredH/pKArjJa5oexboOs2L3qoyDJDzRKvgwBpVz\n",
       "MStXGnI0xrpLNx1GC0aZobJUgcwSgL833LB6+0PUsbSdQMLSxEKapl1QfBYeEoo7iBVlrax98/uU\n",
       "J2LNFMuhXC7dE9O0+YSL5DEADum1KU+MVDi2uIighGGxLdC1ThpKQPucPMpdNJplt4zSZ8vO6IPg\n",
       "8vfGvZa724QRfde/cyUpMYXPWdUGt1fQbuFVQzl3nMdAEssJs8Iz3OhG880UwsrlSmSQgZsBswqi\n",
       "Q8LF+Ez6KilL/9vtScWDBkLaRVdlXdFxz+HwXOU+3kO58Gi77REsbrkB/NtaUYEAaIK0JI4iokF8\n",
       "Jv/QoSr350g1dcFEC8k6jnH0AuDSkGLKoaBJNMNZWiEtmOGJ57SOHmeK1lnckpraibJA1D/mdU5x\n",
       "RSV2//twa/Etm+/3ehh3zXY5jPvqBhSD4Ex0uoshaQGngbzOs9CQwwEfbxixdzvXaHcXmuZbJYlr\n",
       "7rw7rSDWTZtJmfgxN7uatTGkdoQOWn/icJVWmHtKXaL6i8BL6qPIkFSeNg136jiPTQ8QQyQWNZWV\n",
       "x2JKnS1eA4bQNjHjy1548dA/O72GgAWCq87FzobIlVfImt5un0FklI6zE5injfu86suCMtQNQBac\n",
       "7Jemdw816M0K2f9FLBIifT88RblKBBrOYEuQQARbNwmv8yKSZzGn3iTQAb9m9sFndVfWTURyMKIT\n",
       "3JZPGHFH/yaI+fqCJtW35B7rOEHZLwnnz7vraRB1MGxjkH8C+xv22E7jZRnIbZQ89lzIWKcsoDlu\n",
       "JzAjRXZKOC4a4Dz7OP/2tY5RljsfwjbdLPNa+Er5J9W+y7Wkwf5/gl1+04rePSMXwt3h9Uv0fKs7\n",
       "VWhW/bMr3SgyIAKaCYQ7lc+Ss0qF+C0zIAIZvjf8xonyqvX669SOR9EIiqVJ2mh34Z+AFer1B3Xm\n",
       "urGg1DrEf34tLXyIbyx/br5hLHr84G+xvoZmL8SgKNU7tNxCJ5J/l/N6Q48QASyGASP9j91EopM+\n",
       "sh9WbiS4M4TJZ+YxXppSIlKRLNYPHKJuBuDrMXr45WinVL4PUaKfL6+X2LiNk0fq9/+RhlrYm7qQ\n",
       "uRqPq71NEo2aOlVvH9iIQyxX0RxZcELkN2eLA01Z9+khuZF3uLhbWCWR5euw87pbQAtVi1QC0itV\n",
       "E71xkvlcZHhWDTq3aJh/C9DLi6c5D98Dm9ZYYflHdZjQeMcYILm3H1gHqOyUGdtbAZzOV4HyaDCw\n",
       "G4xRmhklJ9JdC8AsKrbpd9mLvcFB/ftC5i6v2qpKgWPsxUsUltROOg95RhaSC35TqxNHMOGf9cbn\n",
       "U1ZU4AbEe9yK5t+jXNEUeIM+47UPK+0BEVZakTKNgvZcqJogn/+2XSAngg8ywXF3ZDeF49YUsxcQ\n",
       "gzCGfLqIvWOAAOz+fmU9PzxumqWAzu22ky/Chm6iAtIgidFENjbU6wICAa2kNNVM4fm8u145fxYa\n",
       "sRBsz2fqJTrFuv71Z/JdQy8BCLtufVZPZ7gY9i0SCv/p2BpVA/xEpgWvLqhW9Ohx9aMdFuMMrYHm\n",
       "I04c1tPgJFNKFUhSFjn3rUI8JctYFBOHR/a50WEcY5S0hiMPcCUQ6hNCYmMp0e05HrK0P7EQiktW\n",
       "BDPQUMM7hrdDKgVLGYK++YKqQ6Juk9/pwPGX9db2qtStXxhHsxTer5uFPiMYeIzo41McyoQkWkdk\n",
       "thqDUfSFR+5/akca85RAjYygbIUeHtMYuC77uvDCxr6NfSzf1D2JIKMhj7Ff6EJ7lZgTinJHjlgu\n",
       "MvkBg2pmEYtqpai6P8ytzwVaVWI4Sc2s8U8p5KDU67rIrBh/Bg+6dfDwTl3dMg3OoyWgwMEH5ysj\n",
       "lqqdd2DXSD9a9Rr6yhhNf1YXlpUxC7+1SgddUx6eICUXIqG4fzn+kLRYCXol0viCi1fp1xWanHff\n",
       "U67+F4Ss4ohDkEafs2eM5kGDCfVkIgNddsE/iFO9ZJsrxQtu5rAaq4nXth3HsUoP58TJgzwVaTN1\n",
       "0+cO7HE1P1j57vQrwlkw37VBrnbFzbKPcbSu1XDVGfqAAjp4D9jPpXEcZM2zy8RhaXFa6acQ3o2p\n",
       "J4+nskexSNmmPb3t9Zk1/ZGxEwLvM0QPAbsFJhCbrdXO/gdv+wF8u/hYNbeL/HGYVL1pUYg6iU+l\n",
       "Wzt3eFWPglfqWle1yax2y2UtA3Tpiw9SVdlzM9gnB0dGEUEvI0B1rwtfzOpIOnc6tJ+y7AX2YTDH\n",
       "Pen/xocILntrIsQTZNdY/ZnCmiouJ1j2hmcIDpCxGuRK1SQvX9WzCjppwn6RFgggjm7hbVe+YrsH\n",
       "isuJy1nakL3x033SKSHlOwI/mtxgOu7AO3BiJHhGUW7sj9EQXpLkXz1TR+nLZrfgW+08MbQJD5n2\n",
       "tYCIdK7gMELrx9MrJMbtvV8yvv6B4XPwHEzdN6ZWGTKgZckMdQr3SmJEFcuQKXWvVIb2qYalyFcz\n",
       "tc5+d2PMbETIqwQOAxy4CtNS/ec02PUf+/8yIokPybuecaAiczbqqP2Bec8x+e0klN4lMmFCmiZy\n",
       "QMobo9dAJBvOeRqt0MFsuX7mYrY3pXjeVTfp4EhJGS4SMZSb1ioSh7fyZl1iuZSLObxf3kcqCMZr\n",
       "F1bwIoqaP4zX1X3DTMwyQ+lOCnKfoTA0SHpwB0MMr/+O7q32To9cJuYWRMynY4X3twWU5yJ3T0Az\n",
       "mbwxjBAlfBWKYcSQ2iO3lRk4+kBlnAK0RXmhbXlS6QSZqSyfxmIjP/5yDlD8UziG0S4twKdxrC5E\n",
       "L+Sf/cHyF2AoWny8YVlWHxa+JlLg8vxcExnlpwkLRvq06PYjaXn0v7BGUyGDi8J8umlPfT9EsCZC\n",
       "hqaYr+cUP3T0U76rk7xyBo5t4hfE5bzzMeyXBFIoKSS3rKXY3Q5bbGq+haxtEEWut5CQvJx8Gmrr\n",
       "ZwOSv3qjqKeAqUk5sd5UZW728P+5cdx7/9utzQCdDc8xBcbapVsB/Rma7KnvZYKzCm7JrmnxjKr/\n",
       "hWVR5gTv4DIuY5MunFPaiaPeT7b9sMjRUt6aulvnzvkVn40yqjc6QY5T8uwk3rPiA2YBk6OD221l\n",
       "08SF1GAaQKvXXTCYQEPOTtVF1DdwONld99J8C2MfNimztx53JorR+7cJ0UA1A2HZamyS2IT9Myj5\n",
       "Y7xmpVRhUXHXEjL7w4p5HgsuHUkBZD0UZg0l0H6bBJcrnANPV92riymHXduZ08qMhkiCUN5dlaCw\n",
       "L0qHdbVjFiLN2WblHN8BLEMwIFUCAA2hBBEN1GMLLGR5pPyn9HEhCu51H6LPhgfJHJ1fLbN9xxfQ\n",
       "/AQJ7CAcJQt2O7w9ZGqnRJS9OjITmjubRgnE/BTYfITDxnI3nM+hveAAN49moJ6uGrKnlC7Vmcfg\n",
       "9I+X/bljZRGCvUgXg3nqZr3d//WmdboJE6sIyfXstzAX+X3MeR6cCd7mg+a3ylCQalh08XmgyfCC\n",
       "w/RDIkiwcNPy42F12VD4UrOvx/sPcP83W9DSMuKGfQ/vI9zYLqcDgSGIjYuD7saKhx/ACkfp7vJZ\n",
       "xAlJfXkMQRq9D+Ci78zU3rjiBDgKyV2x5RZNrhTAwdAS4mVwMr2KFIdHslL0aUoGr4YshmmjaigS\n",
       "J3NDHTKgECqj7OcmLEPSqMbv4Jtd2DQTiV15RB1R54ohhVPoWaB/j5TuYy7ZXzBVbI1uccZ3C10j\n",
       "nkYjDiEFtzQuVnfvNcwJOnLFtIfGKHIWg+aR9QimizZX/6xN3k8sGkIQ/uj64f7TXJPV3C5mpbpH\n",
       "PFPAqdFFhxGjktgRCZDSZo1hP+T+0PVk6p+8/p3NYD0OEZBtxO8/9CS6b0vxM+M89TeoH02YDApJ\n",
       "t93U92ZLmW03JC1DFnE1Z8+C3swzJxus0xlawM7b5ZQozffxjqNwgRqfTUvgMeH/woOfTgomfbYX\n",
       "8SW7XVU/9fw/0hPjEVtukBn3uz3AZFh/y2touuq32QdNiYTjC0gsTkwFnSs1BpiuwvkvzGOKdbrH\n",
       "RJGw9/VwIxNvuzZffiAKkR4M2KUUFGq2vuJ6FL+xjsQVU+glT9X8I8E72t0T0s/X8k6QtZfTrcfJ\n",
       "yz0jj7tR4+rIZ8j4aFu3JVOQciFHku9YzBnp7gyqFD5bW6LJDbnJaO32PuobO2ommQYTXx2ZZAGx\n",
       "1N8WSrmhXgmj0nVRtHK4Tw8WxglbPIwCdX+3s84CUfC/vN3qszQSA0DMBtWR1+ntfdOsx8WZnwTp\n",
       "r7KkTLAEBlIWEQAAALJBmiRsQz/+nhAUvd+6VR/aygXRL1Mxz8ws4I1ehidGkiqF2J0/s/5r+L/q\n",
       "Vop/rl/6+FNX9fXqWlnCBx5zPe5FbF1Q0GrWpPBEnLIB6IlrdCT8YlTj0s4/cwgAvX4umK46pXJ0\n",
       "1IjfrtsRoV+Y0f9t4siXi+e4WyIprICk2+Da6uRPyItbPe7n/uufY3wDKdoQRU17+hM/Boj5b3dU\n",
       "8oQLAse4OPJM0gWL2vIxo7Gkg+UIAAAAHkGeQniEfwMpNDobNjk73v0r63Ys3MC5tpEpA94akQAA\n",
       "ABQBnmF0R/8E8YgNwiQ7g6N7SjxJWwAAAA8BnmNqR/8AEV+QRPEPxYEAAAAZQZpoSahBaJlMCGf/\n",
       "/p4QACKpA2mVLSphYQAAABFBnoZFESwj/wALGFBDFyrQwQAAAA4BnqV0R/8AEVYiIIVeLwAAAAwB\n",
       "nqdqR/8AEV+PFQMAAAATQZqsSahBbJlMCGf//p4QAAAHTAAAAA9BnspFFSwj/wALGFABOWEAAAAM\n",
       "AZ7pdEf/ABFWIBHLAAAADAGe62pH/wARX48VAwAAABNBmvBJqEFsmUwIZ//+nhAAAAdNAAAAD0Gf\n",
       "DkUVLCP/AAsYUAE5YQAAAAwBny10R/8AEVYgEcsAAAAMAZ8vakf/ABFfjxUDAAAAE0GbNEmoQWyZ\n",
       "TAhn//6eEAAAB0wAAAAPQZ9SRRUsI/8ACxhQATlhAAAADAGfcXRH/wARViARywAAAAwBn3NqR/8A\n",
       "EV+PFQMAAAATQZt4SahBbJlMCGf//p4QAAAHTQAAAA9Bn5ZFFSwj/wALGFABOWAAAAAMAZ+1dEf/\n",
       "ABFWIBHLAAAADAGft2pH/wARX48VAwAAABNBm7xJqEFsmUwIZ//+nhAAAAdMAAAAD0Gf2kUVLCP/\n",
       "AAsYUAE5YQAAAAwBn/l0R/8AEVYgEcsAAAAMAZ/7akf/ABFfjxUDAAAAE0Gb4EmoQWyZTAhn//6e\n",
       "EAAAB00AAAAPQZ4eRRUsI/8ACxhQATlgAAAADAGePXRH/wARViARywAAAAwBnj9qR/8AEV+PFQMA\n",
       "AAATQZokSahBbJlMCGf//p4QAAAHTAAAAA9BnkJFFSwj/wALGFABOWEAAAAMAZ5hdEf/ABFWIBHL\n",
       "AAAADAGeY2pH/wARX48VAwAAABNBmmhJqEFsmUwIZ//+nhAAAAdNAAAAD0GehkUVLCP/AAsYUAE5\n",
       "YQAAAAwBnqV0R/8AEVYgEcsAAAAMAZ6nakf/ABFfjxUDAAAAE0GarEmoQWyZTAhn//6eEAAAB0wA\n",
       "AAAPQZ7KRRUsI/8ACxhQATlhAAAADAGe6XRH/wARViARywAAAAwBnutqR/8AEV+PFQMAAAATQZrw\n",
       "SahBbJlMCGf//p4QAAAHTQAAAA9Bnw5FFSwj/wALGFABOWEAAAAMAZ8tdEf/ABFWIBHLAAAADAGf\n",
       "L2pH/wARX48VAwAAABNBmzRJqEFsmUwIZ//+nhAAAAdMAAAAD0GfUkUVLCP/AAsYUAE5YQAAAAwB\n",
       "n3F0R/8AEVYgEcsAAAAMAZ9zakf/ABFfjxUDAAAAE0GbeEmoQWyZTAhn//6eEAAAB00AAAAPQZ+W\n",
       "RRUsI/8ACxhQATlgAAAADAGftXRH/wARViARywAAAAwBn7dqR/8AEV+PFQMAAAATQZu8SahBbJlM\n",
       "CGf//p4QAAAHTAAAAA9Bn9pFFSwj/wALGFABOWEAAAAMAZ/5dEf/ABFWIBHLAAAADAGf+2pH/wAR\n",
       "X48VAwAAABNBm+BJqEFsmUwIZ//+nhAAAAdNAAAAD0GeHkUVLCP/AAsYUAE5YAAAAAwBnj10R/8A\n",
       "EVYgEcsAAAAMAZ4/akf/ABFfjxUDAAAAE0GaJEmoQWyZTAhn//6eEAAAB0wAAAAPQZ5CRRUsI/8A\n",
       "CxhQATlhAAAADAGeYXRH/wARViARywAAAAwBnmNqR/8AEV+PFQMAAAATQZpoSahBbJlMCGf//p4Q\n",
       "AAAHTQAAAA9BnoZFFSwj/wALGFABOWEAAAAMAZ6ldEf/ABFWIBHLAAAADAGep2pH/wARX48VAwAA\n",
       "ABNBmqxJqEFsmUwIZ//+nhAAAAdMAAAAD0GeykUVLCP/AAsYUAE5YQAAAAwBnul0R/8AEVYgEcsA\n",
       "AAAMAZ7rakf/ABFfjxUDAAAAE0Ga8EmoQWyZTAhn//6eEAAAB00AAAAPQZ8ORRUsI/8ACxhQATlh\n",
       "AAAADAGfLXRH/wARViARywAAAAwBny9qR/8AEV+PFQMAAAATQZs0SahBbJlMCF///oywAAAHVAAA\n",
       "AA9Bn1JFFSwj/wALGFABOWEAAAAMAZ9xdEf/ABFWIBHLAAAADAGfc2pH/wARX48VAwAAABNBm3hJ\n",
       "qEFsmUwIX//+jLAAAAdVAAAAD0GflkUVLCP/AAsYUAE5YAAAAAwBn7V0R/8AEVYgEcsAAAAMAZ+3\n",
       "akf/ABFfjxUDAAAAE0GbvEmoQWyZTAhf//6MsAAAB1QAAAAPQZ/aRRUsI/8ACxhQATlhAAAADAGf\n",
       "+XRH/wARViARywAAAAwBn/tqR/8AEV+PFQMAAAATQZvgSahBbJlMCFf//jhAAAAccQAAAA9Bnh5F\n",
       "FSwj/wALGFABOWAAAAAMAZ49dEf/ABFWIBHLAAAADAGeP2pH/wARX48VAwAAABJBmiNJqEFsmUwI\n",
       "//yEAAADAbMAAAANQZ5CQj//ABFj5ARywQAAAA0BnmFpEf8AEWPkBHLAAAAH3m1vb3YAAABsbXZo\n",
       "ZAAAAAAAAAAAAAAAAAAAA+gAAAfQAAEAAAEAAAAAAAAAAAAAAAABAAAAAAAAAAAAAAAAAAAAAQAA\n",
       "AAAAAAAAAAAAAAAAQAAAAAAAAAAAAAAAAAAAAAAAAAAAAAAAAAAAAAAAAAIAAAcIdHJhawAAAFx0\n",
       "a2hkAAAAAwAAAAAAAAAAAAAAAQAAAAAAAAfQAAAAAAAAAAAAAAAAAAAAAAABAAAAAAAAAAAAAAAA\n",
       "AAAAAQAAAAAAAAAAAAAAAAAAQAAAAAGwAAABIAAAAAAAJGVkdHMAAAAcZWxzdAAAAAAAAAABAAAH\n",
       "0AAAAgAAAQAAAAAGgG1kaWEAAAAgbWRoZAAAAAAAAAAAAAAAAAAAMgAAAGQAVcQAAAAAAC1oZGxy\n",
       "AAAAAAAAAAB2aWRlAAAAAAAAAAAAAAAAVmlkZW9IYW5kbGVyAAAABittaW5mAAAAFHZtaGQAAAAB\n",
       "AAAAAAAAAAAAAAAkZGluZgAAABxkcmVmAAAAAAAAAAEAAAAMdXJsIAAAAAEAAAXrc3RibAAAALNz\n",
       "dHNkAAAAAAAAAAEAAACjYXZjMQAAAAAAAAABAAAAAAAAAAAAAAAAAAAAAAGwASAASAAAAEgAAAAA\n",
       "AAAAAQAAAAAAAAAAAAAAAAAAAAAAAAAAAAAAAAAAAAAAAAAAABj//wAAADFhdmNDAWQAHv/hABhn\n",
       "ZAAerNlBsJaEAAADAAQAAAMBkDxYtlgBAAZo6+PLIsAAAAAcdXVpZGtoQPJfJE/FujmlG88DI/MA\n",
       "AAAAAAAAGHN0dHMAAAAAAAAAAQAAAGQAAAEAAAAAFHN0c3MAAAAAAAAAAQAAAAEAAAMwY3R0cwAA\n",
       "AAAAAABkAAAAAQAAAgAAAAABAAAFAAAAAAEAAAIAAAAAAQAAAAAAAAABAAABAAAAAAEAAAUAAAAA\n",
       "AQAAAgAAAAABAAAAAAAAAAEAAAEAAAAAAQAABQAAAAABAAACAAAAAAEAAAAAAAAAAQAAAQAAAAAB\n",
       "AAAFAAAAAAEAAAIAAAAAAQAAAAAAAAABAAABAAAAAAEAAAUAAAAAAQAAAgAAAAABAAAAAAAAAAEA\n",
       "AAEAAAAAAQAABQAAAAABAAACAAAAAAEAAAAAAAAAAQAAAQAAAAABAAAFAAAAAAEAAAIAAAAAAQAA\n",
       "AAAAAAABAAABAAAAAAEAAAUAAAAAAQAAAgAAAAABAAAAAAAAAAEAAAEAAAAAAQAABQAAAAABAAAC\n",
       "AAAAAAEAAAAAAAAAAQAAAQAAAAABAAAFAAAAAAEAAAIAAAAAAQAAAAAAAAABAAABAAAAAAEAAAUA\n",
       "AAAAAQAAAgAAAAABAAAAAAAAAAEAAAEAAAAAAQAABQAAAAABAAACAAAAAAEAAAAAAAAAAQAAAQAA\n",
       "AAABAAAFAAAAAAEAAAIAAAAAAQAAAAAAAAABAAABAAAAAAEAAAUAAAAAAQAAAgAAAAABAAAAAAAA\n",
       "AAEAAAEAAAAAAQAABQAAAAABAAACAAAAAAEAAAAAAAAAAQAAAQAAAAABAAAFAAAAAAEAAAIAAAAA\n",
       "AQAAAAAAAAABAAABAAAAAAEAAAUAAAAAAQAAAgAAAAABAAAAAAAAAAEAAAEAAAAAAQAABQAAAAAB\n",
       "AAACAAAAAAEAAAAAAAAAAQAAAQAAAAABAAAFAAAAAAEAAAIAAAAAAQAAAAAAAAABAAABAAAAAAEA\n",
       "AAUAAAAAAQAAAgAAAAABAAAAAAAAAAEAAAEAAAAAAQAABQAAAAABAAACAAAAAAEAAAAAAAAAAQAA\n",
       "AQAAAAABAAAFAAAAAAEAAAIAAAAAAQAAAAAAAAABAAABAAAAAAEAAAUAAAAAAQAAAgAAAAABAAAA\n",
       "AAAAAAEAAAEAAAAAAQAABQAAAAABAAACAAAAAAEAAAAAAAAAAQAAAQAAAAABAAAEAAAAAAEAAAIA\n",
       "AAAAAQAAAAAAAAAcc3RzYwAAAAAAAAABAAAAAQAAAGQAAAABAAABpHN0c3oAAAAAAAAAAAAAAGQA\n",
       "ACTUAAAAtgAAACIAAAAYAAAAEwAAAB0AAAAVAAAAEgAAABAAAAAXAAAAEwAAABAAAAAQAAAAFwAA\n",
       "ABMAAAAQAAAAEAAAABcAAAATAAAAEAAAABAAAAAXAAAAEwAAABAAAAAQAAAAFwAAABMAAAAQAAAA\n",
       "EAAAABcAAAATAAAAEAAAABAAAAAXAAAAEwAAABAAAAAQAAAAFwAAABMAAAAQAAAAEAAAABcAAAAT\n",
       "AAAAEAAAABAAAAAXAAAAEwAAABAAAAAQAAAAFwAAABMAAAAQAAAAEAAAABcAAAATAAAAEAAAABAA\n",
       "AAAXAAAAEwAAABAAAAAQAAAAFwAAABMAAAAQAAAAEAAAABcAAAATAAAAEAAAABAAAAAXAAAAEwAA\n",
       "ABAAAAAQAAAAFwAAABMAAAAQAAAAEAAAABcAAAATAAAAEAAAABAAAAAXAAAAEwAAABAAAAAQAAAA\n",
       "FwAAABMAAAAQAAAAEAAAABcAAAATAAAAEAAAABAAAAAXAAAAEwAAABAAAAAQAAAAFgAAABEAAAAR\n",
       "AAAAFHN0Y28AAAAAAAAAAQAAACwAAABidWR0YQAAAFptZXRhAAAAAAAAACFoZGxyAAAAAAAAAABt\n",
       "ZGlyYXBwbAAAAAAAAAAAAAAAAC1pbHN0AAAAJal0b28AAAAdZGF0YQAAAAEAAAAATGF2ZjU2LjQw\n",
       "LjEwMQ==\n",
       "\">\n",
       "  Your browser does not support the video tag.\n",
       "</video>"
      ],
      "text/plain": [
       "<matplotlib.animation.FuncAnimation at 0x7fc13c3cbc18>"
      ]
     },
     "execution_count": 14,
     "metadata": {},
     "output_type": "execute_result"
    }
   ],
   "source": [
    "mpl.rc('animation', html='html5')\n",
    "anim"
   ]
  },
  {
   "cell_type": "code",
   "execution_count": null,
   "metadata": {
    "collapsed": true
   },
   "outputs": [],
   "source": []
  }
 ],
 "metadata": {
  "kernelspec": {
   "display_name": "Python 3",
   "language": "python",
   "name": "python3"
  },
  "language_info": {
   "codemirror_mode": {
    "name": "ipython",
    "version": 3
   },
   "file_extension": ".py",
   "mimetype": "text/x-python",
   "name": "python",
   "nbconvert_exporter": "python",
   "pygments_lexer": "ipython3",
   "version": "3.5.1+"
  }
 },
 "nbformat": 4,
 "nbformat_minor": 0
}
