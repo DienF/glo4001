{
 "cells": [
  {
   "cell_type": "markdown",
   "metadata": {},
   "source": [
    "# Laboratoire 0 - Exemple\n",
    "\n",
    "Bienvenue dans ce laboratoire d'exemple. L'objectif ici est de vous familiariser avec l'environnement Jupyter, ainsi que les interactions que vous pouvez avoir avec le robot.\n",
    "\n",
    "Jupyter nous sert d'interface pour appeler du code python. Débutons "
   ]
  },
  {
   "cell_type": "code",
   "execution_count": null,
   "metadata": {
    "collapsed": false
   },
   "outputs": [],
   "source": [
    "%load_ext autoreload\n",
    "%autoreload 2\n",
    "%matplotlib inline\n",
    "\n",
    "import time\n",
    "import numpy as np\n",
    "\n",
    "import matplotlib.pyplot as plt\n",
    "import matplotlib as mpl\n",
    "from matplotlib import animation\n",
    "mpl.rc('animation', html='html5') #display animated plots inline\n",
    "\n",
    "from websocket_client import Robot, Sensors"
   ]
  },
  {
   "cell_type": "markdown",
   "metadata": {},
   "source": [
    "Modifiez la valeur de `ip_robot` selon le robot qui vous a été assigné."
   ]
  },
  {
   "cell_type": "code",
   "execution_count": null,
   "metadata": {
    "collapsed": false
   },
   "outputs": [],
   "source": [
    "ip_robot = '10.248.0.32'\n",
    "robot = Robot(ip_robot)"
   ]
  },
  {
   "cell_type": "code",
   "execution_count": null,
   "metadata": {
    "collapsed": false
   },
   "outputs": [],
   "source": [
    "robot.connect()"
   ]
  },
  {
   "cell_type": "code",
   "execution_count": null,
   "metadata": {
    "collapsed": false
   },
   "outputs": [],
   "source": [
    "robot.listen_to(Sensors.hokuyo)"
   ]
  },
  {
   "cell_type": "code",
   "execution_count": null,
   "metadata": {
    "collapsed": false
   },
   "outputs": [],
   "source": [
    "fig, ax = plt.subplots(1,1, subplot_kw=dict(projection='polar'))\n",
    "\n",
    "ax.grid(True)\n",
    "ax.set_rmax(3.0)\n",
    "ax.set_rmin(0.0)\n",
    "ax.set_theta_zero_location('N')\n",
    "\n",
    "last_data = robot.read_sensor_data(Sensors.hokuyo)['msg']\n",
    "ranges = np.array(last_data['ranges'])\n",
    "angles = np.arange(last_data['angle_min'], last_data['angle_max'] + last_data['angle_increment'], \n",
    "                   last_data['angle_increment'])\n",
    "\n",
    "ranges = ranges.astype('float32')\n",
    "\n",
    "\n",
    "scatter_plot = ax.scatter(angles, ranges, color='b', s=2, animated=True)\n",
    "\n",
    "plt.show()"
   ]
  },
  {
   "cell_type": "code",
   "execution_count": null,
   "metadata": {
    "collapsed": false
   },
   "outputs": [],
   "source": [
    "def init_frame():\n",
    "    scatter_plot.set_array([])\n",
    "    return (scatter_plot,)\n",
    "\n",
    "def animate(i):\n",
    "    last_data = robot.peek_most_recent_data(Sensors.hokuyo)['msg']\n",
    "    ranges = np.array(last_data['ranges'])\n",
    "    ranges = np.nan_to_num(ranges.astype('float32'))\n",
    "    angles = np.arange(last_data['angle_min'], last_data['angle_max'] + last_data['angle_increment'], \n",
    "                       last_data['angle_increment'])\n",
    "    \n",
    "    table = np.zeros((ranges.shape[0], 2))\n",
    "    table[:, 0] = angles\n",
    "    table[:, 1] = ranges\n",
    "    scatter_plot.set_offsets(table)\n",
    "    \n",
    "    return scatter_plot,\n",
    "\n",
    "anim = animation.FuncAnimation(fig, animate,frames=100, interval=100, blit=True)"
   ]
  },
  {
   "cell_type": "code",
   "execution_count": null,
   "metadata": {
    "collapsed": false
   },
   "outputs": [],
   "source": [
    "anim"
   ]
  },
  {
   "cell_type": "code",
   "execution_count": null,
   "metadata": {
    "collapsed": true
   },
   "outputs": [],
   "source": []
  }
 ],
 "metadata": {
  "kernelspec": {
   "display_name": "Python 3",
   "language": "python",
   "name": "python3"
  },
  "language_info": {
   "codemirror_mode": {
    "name": "ipython",
    "version": 3
   },
   "file_extension": ".py",
   "mimetype": "text/x-python",
   "name": "python",
   "nbconvert_exporter": "python",
   "pygments_lexer": "ipython3",
   "version": "3.5.1"
  }
 },
 "nbformat": 4,
 "nbformat_minor": 0
}
