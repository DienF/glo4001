{
 "cells": [
  {
   "cell_type": "markdown",
   "metadata": {},
   "source": [
    "# Laboratoire 0: Introduction aux outils"
   ]
  },
  {
   "cell_type": "markdown",
   "metadata": {},
   "source": [
    "Bienvenue dans les laboratoires de robotique mobile! Cette séance a pour objectif de vous familiariser avec les outils que nous utiliserons tout au long de la session. Si vous voyez ce message, c'est que vous avez déjà réussi à lancer jupyter. Bien! Voyons maintenant comment les notebooks fonctionnent."
   ]
  },
  {
   "cell_type": "markdown",
   "metadata": {},
   "source": [
    "## Jupyter et IPython\n",
    "\n",
    "[Jupyter](http://jupyter.org/) est une plate-forme interactive qui permet de combiner texte et code dans un notebook, comme celui que vous voyez présentement. Le back-end que nous utiliserons est [IPython](https://ipython.org/), ce qui veut dire que nous pouvons entrer du code python dans une cellule de la présente page."
   ]
  },
  {
   "cell_type": "code",
   "execution_count": 1,
   "metadata": {},
   "outputs": [
    {
     "name": "stdout",
     "output_type": "stream",
     "text": [
      "En sélectionnant cette cellule puis en appuyant sur SHIFT+Enter, vous exécuterez du code python.\n",
      "0\n",
      "1\n",
      "2\n",
      "3\n",
      "4\n",
      "5\n",
      "6\n",
      "7\n",
      "8\n",
      "9\n"
     ]
    }
   ],
   "source": [
    "print('En sélectionnant cette cellule puis en appuyant sur SHIFT+Enter, vous exécuterez du code python.')\n",
    "\n",
    "for i in range(10):\n",
    "    print(i)"
   ]
  },
  {
   "cell_type": "markdown",
   "metadata": {},
   "source": [
    "Notez qu'il est aussi possible d'exécuter une cellule en appuyant sur un bouton de la barre d'outils.\n",
    "\n",
    "Pendant la session, on pourra donc communiquer avec le robot à travers Jupyter. Nous avons déjà écrit une librarie qui permet de communiquer avec le robot. Nous vous fournirons des exemples de code pour établir la communication, puis vous aurez à analyser les données récoltées."
   ]
  },
  {
   "cell_type": "markdown",
   "metadata": {},
   "source": [
    "## Jupyter: trucs et astuces\n",
    "\n",
    "Mais avant de commencer, quelques informations à propos de Jupyter. Vous pouvez arrêter l'exécution d'une cellule en sélectionnant la cellule puis en appuyant sur `i` deux fois (le `i` est pour _interrupt_). Pratique quand on lance une boucle infinie par accident!"
   ]
  },
  {
   "cell_type": "code",
   "execution_count": 3,
   "metadata": {},
   "outputs": [
    {
     "ename": "KeyboardInterrupt",
     "evalue": "",
     "output_type": "error",
     "traceback": [
      "\u001b[0;31m---------------------------------------------------------------------------\u001b[0m",
      "\u001b[0;31mKeyboardInterrupt\u001b[0m                         Traceback (most recent call last)",
      "\u001b[0;32m<ipython-input-3-17de7f297124>\u001b[0m in \u001b[0;36m<module>\u001b[0;34m\u001b[0m\n\u001b[1;32m      2\u001b[0m \u001b[0;34m\u001b[0m\u001b[0m\n\u001b[1;32m      3\u001b[0m \u001b[0;32mwhile\u001b[0m \u001b[0;32mTrue\u001b[0m\u001b[0;34m:\u001b[0m\u001b[0;34m\u001b[0m\u001b[0;34m\u001b[0m\u001b[0m\n\u001b[0;32m----> 4\u001b[0;31m     \u001b[0mi\u001b[0m \u001b[0;34m=\u001b[0m \u001b[0;36m0\u001b[0m\u001b[0;34m\u001b[0m\u001b[0;34m\u001b[0m\u001b[0m\n\u001b[0m",
      "\u001b[0;31mKeyboardInterrupt\u001b[0m: "
     ]
    }
   ],
   "source": [
    "# Lancez l'exécution de cette cellule puis arrêtez-là en utilisant \"i i\".\n",
    "\n",
    "while True:\n",
    "    i = 0"
   ]
  },
  {
   "cell_type": "markdown",
   "metadata": {},
   "source": [
    "Une autre façon d'arrêter l'exécution du code est de sélectionner, dans le menu du haut, `Kernel >> Interrupt`. Remarquez aussi les autres options de ce menu, qui vous seront certainement très utiles. `Kernel >> Restart` relance le back-end python: toutes les variables que vous aviez assigné avant vont disparaître. En cas de problème, c'est toujours une bonne idée de relancer le back-end puis de ré-exécuter les cellules qui nous intéressent avant de paniquer.\n",
    "\n",
    "Finalement, une liste plus complète des raccourcis clavier est disponible [ici](https://sowingseasons.com/blog/reference/2016/01/jupyter-keyboard-shortcuts/23298516)."
   ]
  },
  {
   "cell_type": "markdown",
   "metadata": {},
   "source": [
    "# Introduction au simulateur\n",
    "\n",
    "<mark>TODO réviser ce texte</mark>\n",
    "\n",
    "En robotique, il n'est pas toujours pratique, ou possible, de toujours faire ses tests avec un vrai robot, comme lors d'un cours universitaire en pleine pandémie...\n",
    "\n",
    "Heureusement, il existe plusieurs outils de simulations qui permettent de tester ses algorithmes sans avoir de base robotique.\n",
    "\n",
    "Dans le cours nous allons utiliser Gazebo (<mark>TODO link à leur site web</mark>), un simulateur qui pour la bibliotheque ROS (<mark>TODO link à leur site web</mark>), un library courament utilisée en milieu \n",
    "\n",
    "Pour les intéressés, le cours [GLO-4007](https://www.ulaval.ca/etudes/cours/glo-4007-perception-3d-pour-vehicules-autonomes) et [GLO-7007](https://www.ulaval.ca/etudes/cours/glo-7007-perception-3d-pour-vehicules-autonomes) donne davantage d'information sur l'utilisation de ROS. [Notes de cours](https://github.com/norlab-ulaval/percep3d_lessons)\n",
    "\n",
    "Toutefois, pour ce cours, nous fournissons du code permettant d'intéragir avec le robot, ou le simulateur, sans devoir jouer avec ROS.\n",
    "\n",
    "Pour utiliser le simulateur, lancer l'image disponible sur le site de cours. Les notebooks peuvent s'executer sur votre machine (hors simulateur). Faire ces etapes de setup\n",
    "\n",
    "## Vrai robot vs Simulateur\n",
    "\n",
    "Changer la ligne dans command et sensors <mark>TODO</mark>\n",
    "\n",
    "## Configuration de la machine virtuelle\n",
    "User: student\n",
    "mot de passe student\n",
    "\n",
    "- Télécharger la machine virtuelle disponible sur le site de cours\n",
    "- Utiliser VirtualBox\n",
    "- Activer l'accélération matérielle \n",
    "- Installer guest addtions: Devices -> Insert Guest...\n",
    "- View -> auto resize\n",
    "- Port forwarding (TODO screenshot)\n",
    "- copy past bidirectionnel (optionnel)\n",
    "\n",
    "Voir le notebook <mark>TODO linker</mark> pour voir comment les machines virtuelles ont été configurées \n",
    "\n",
    "## Création d'une carte\n",
    "\n",
    "Pour vous introduire au simulateur, nous allons construire une carte avec un algorithme que vous allez voir plus loin dans le cours: SLAM, simultanous localisation and mapping.\n",
    "\n",
    "<mark>TODO peut-etre faire un script qui lance tout</mark>\n",
    "\n",
    "<mark>TODO Screenshots</mark>\n",
    "\n",
    "Une fois dans la machine virtuelle, lancer un terminal avec CTRL-ALT-T\n",
    "\n",
    "Pour lancer le simulateur.\n",
    "\n",
    "```bash\n",
    "roslaunch turtlebot3_gazebo turtlebot3_world.launch\n",
    "```\n",
    "\n",
    "Devriez voir gazebo s'ouvrir, bouger la caméra avec ...\n",
    "\n",
    "Lancer un autre terminal avec CTRL-SIFT-T\n",
    "\n",
    "Ajuster le pas de la simulation pour avoir Real Time Factor ~ 1, plus le pas est grand, plus le real time factor sera grand. Pas besoin d'etre exactement sur 1, entre 1 et 2 est suffisant. Noter cette valeur\n",
    "\n",
    "```bash\n",
    "gz physics -s 0.001\n",
    "```\n",
    "\n",
    "\n",
    "```bash\n",
    "roslaunch turtlebot3_slam turtlebot3_slam.launch slam_methods:=gmapping\n",
    "```\n",
    "\n",
    "RViz devrait s'ouvrir, un outil pour visualiser l'etat du robot, voir la carte construite par l'algo SLAM\n",
    "\n",
    "Dans un autre terminal\n",
    "\n",
    "```bash\n",
    "roslaunch turtlebot3_teleop turtlebot3_teleop_key.launch\n",
    "```\n",
    "\n",
    "Permet de controller le robot avec wasdx (decrire ce que chaque touche fait)\n",
    "\n",
    "Maintenant deplacer vous dans la carte pour construire la carte\n",
    "\n",
    "Une fois construite, sauvegarder la carte, dans un nouveau terminal\n",
    "\n",
    "```bash\n",
    "rosrun map_server map_saver -f ~/map\n",
    "```\n",
    "\n",
    "Vous pouvez maintenant fermer tous les terminaux.\n",
    "\n",
    "## Planification de chemin\n",
    "\n",
    "```bash\n",
    "roslaunch turtlebot3_gazebo turtlebot3_world.launch\n",
    "```\n",
    "\n",
    "```bash\n",
    "gz physics -s 0.001\n",
    "```\n",
    "\n",
    "```bash\n",
    "roslaunch turtlebot3_navigation turtlebot3_navigation.launch map_file:=$HOME/map.yaml\n",
    "```\n",
    "\n",
    "Cliquer sur 2d Pose estimate, et placer le vecteur pres de la position relle du robot dans le simulateur. (TODO image)\n",
    "\n",
    "La carte en bleu et rouge devrait etre alignée avec la carte.\n",
    "\n",
    "Cliquer sur 2d nav goal, placer un vecteur dans la carte, le robot va s'y rendre avec la bonne orientation"
   ]
  },
  {
   "cell_type": "markdown",
   "metadata": {},
   "source": [
    "## Interagir avec le robot\n",
    "\n",
    "<mark>TODO AJOUTER SHARP SENSOR</mark>\n",
    "\n",
    "<mark>TODO Modifier pour simulateur, ip = localhost</mark>\n",
    "\n",
    "En premier lieu assurez vous que votre ordinateur est connecté au même réseau wifi que les robots. La SSID du réseau est `glo7021_24ghz` ou bien `glo7021_5ghz`. Le mot de passe du réseau est `unchevalblanc`.\n",
    "\n",
    "Il est maintenant temps de nous connecter au robot. La logique de connexion sera expliquée plus en détail cette fois-ci. Dans les prochains laboratoires, nous vous fournirons le code sans explications.\n",
    "\n",
    "Importons d'abord la classe qui nous permet de communiquer avec le robot."
   ]
  },
  {
   "cell_type": "code",
   "execution_count": 5,
   "metadata": {},
   "outputs": [],
   "source": [
    "from robmob.robot import Robot"
   ]
  },
  {
   "cell_type": "markdown",
   "metadata": {},
   "source": [
    "Il faut ensuite fournir l'IP du robot qui vous a été fourni. L'IP est sur une étiquette collée au robot. Avec l'IP, on peut créer une instance de la classe `Robot`."
   ]
  },
  {
   "cell_type": "code",
   "execution_count": 7,
   "metadata": {},
   "outputs": [],
   "source": [
    "robot_ip = 'localhost' # Remplacez cette ip par l'ip de votre robot ou par localhost en simulation\n",
    "robot = Robot(robot_ip)\n",
    "robot.connect()"
   ]
  },
  {
   "cell_type": "markdown",
   "metadata": {},
   "source": [
    "Maintenant que nous sommes connectés au robot, tentons de communiquer avec un de ses senseurs. Débutons avec un capteur infra-rouge. Comme il y a deux capteurs infra-rouge sur le robot, il faut spécifier l'ID du senseur avec lequel on veut communiquer (`0` ou `1`)."
   ]
  },
  {
   "cell_type": "code",
   "execution_count": 3,
   "metadata": {},
   "outputs": [],
   "source": [
    "from robmob.sensors import SharpSensor\n",
    "\n",
    "sensor = SharpSensor(0)"
   ]
  },
  {
   "cell_type": "markdown",
   "metadata": {},
   "source": [
    "Maintenant, la ligne la plus importante. On doit ajouter la variable `sensor` dans la collection des senseurs que notre robot « écoute ». Ça revient à dire au robot de capturer les données du capteur infra-rouge, et de les ranger dans l'instance `sensor` que nous avons créé."
   ]
  },
  {
   "cell_type": "code",
   "execution_count": 4,
   "metadata": {},
   "outputs": [],
   "source": [
    "robot.add_sensor(sensor)"
   ]
  },
  {
   "cell_type": "markdown",
   "metadata": {},
   "source": [
    "Au moment où vous exécutez cette ligne, les données partent du robot vers votre machine. Dans le cas du capteur infra-rouge le flux de données est assez léger, mais quand nous jouerons avec des capteurs plus sophistiqués, le wifi sera mis à l'épreuve. Tentez de garder cela en tête au cours de la session!\n",
    "\n",
    "L'instance de `SharpSensor` contient un buffer qui se fait remplir par `robot`. Jetons-y un coup d'oeil. `SharpSensor.peek_data()` nous retourne la dernière donnée qui nous a été envoyée par le robot. Si vous l'exécutez plusieurs fois vous aurez de valeurs différentes.\n",
    "\n",
    "> **PROTIP** Appuyez sur CTRL-Enter (au lieu de SHIFT-Enter) pour exécuter une même cellule plusieurs fois de suite (sans que la prochaine cellule ne soit sélectionnée)."
   ]
  },
  {
   "cell_type": "code",
   "execution_count": 5,
   "metadata": {},
   "outputs": [
    {
     "data": {
      "text/plain": [
       "0.837890625"
      ]
     },
     "execution_count": 5,
     "metadata": {},
     "output_type": "execute_result"
    }
   ],
   "source": [
    "sensor.peek_data()"
   ]
  },
  {
   "cell_type": "markdown",
   "metadata": {},
   "source": [
    "`sensor.read_buffer()` retourne les `sensor.buffer_size` dernières données."
   ]
  },
  {
   "cell_type": "code",
   "execution_count": 46,
   "metadata": {},
   "outputs": [
    {
     "name": "stdout",
     "output_type": "stream",
     "text": [
      "Voici les 100 dernières données:\n"
     ]
    },
    {
     "data": {
      "text/plain": [
       "array([], dtype=float64)"
      ]
     },
     "execution_count": 46,
     "metadata": {},
     "output_type": "execute_result"
    }
   ],
   "source": [
    "print('Voici les ' + str(sensor.buffer_size) + ' dernières données:')\n",
    "sensor.read_buffer()"
   ]
  },
  {
   "cell_type": "markdown",
   "metadata": {},
   "source": [
    "> **PROTIP** Comme le capteur infra-rouge a une fréquence d'acquitision très rapide, le buffer se remplit rapidement. D'autres capteurs (comme la kinect) ne sont pas aussi rapides, et il se peut que le buffer soit vide si vous exécutez cette fonction plusieurs fois de suite. Il suffira alors de patienter un peu."
   ]
  },
  {
   "cell_type": "markdown",
   "metadata": {},
   "source": [
    "## Graphiques avec pyplot\n",
    "\n",
    "On peut maintenant faire un graphique avec ces données! Importons d'abord un module qui nous permet de faire des graphiques: `matplotlib.pyplot`. Ce module se comporte de façon très similaire à MATLAB. Vous trouverez un tutoriel pour pyplot [ici](http://matplotlib.org/users/pyplot_tutorial.html). Rechercher \"How to ... pyplot\" dans google reste l'outil le plus utile."
   ]
  },
  {
   "cell_type": "code",
   "execution_count": 8,
   "metadata": {},
   "outputs": [],
   "source": [
    "import matplotlib.pyplot as plt"
   ]
  },
  {
   "cell_type": "markdown",
   "metadata": {},
   "source": [
    "Ici on indique à jupyter qu'il devrait afficher les graphiques dans le notebook, au lieu de simplement nous retourner leur adresse mémoire..."
   ]
  },
  {
   "cell_type": "code",
   "execution_count": 9,
   "metadata": {},
   "outputs": [],
   "source": [
    "%matplotlib inline"
   ]
  },
  {
   "cell_type": "markdown",
   "metadata": {},
   "source": [
    "Maintenant, collectons les données, puis affichons-les!"
   ]
  },
  {
   "cell_type": "code",
   "execution_count": 10,
   "metadata": {},
   "outputs": [
    {
     "data": {
      "text/plain": [
       "[<matplotlib.lines.Line2D at 0x7f27f1b2a080>]"
      ]
     },
     "execution_count": 10,
     "metadata": {},
     "output_type": "execute_result"
    },
    {
     "data": {
      "image/png": "[encoded data removed]",
      "text/plain": [
       "<Figure size 432x288 with 1 Axes>"
      ]
     },
     "metadata": {
      "needs_background": "light"
     },
     "output_type": "display_data"
    }
   ],
   "source": [
    "data = sensor.read_buffer()\n",
    "plt.plot(data)"
   ]
  },
  {
   "cell_type": "markdown",
   "metadata": {},
   "source": [
    "Améliorons ce graphique avec un titre et des axes. Ce genre de code vous sera utile tout au long de la session."
   ]
  },
  {
   "cell_type": "code",
   "execution_count": 11,
   "metadata": {},
   "outputs": [
    {
     "data": {
      "text/plain": [
       "Text(0, 0.5, 'Force du signal (V)')"
      ]
     },
     "execution_count": 11,
     "metadata": {},
     "output_type": "execute_result"
    },
    {
     "data": {
      "image/png": "[encoded data removed]",
      "text/plain": [
       "<Figure size 432x288 with 1 Axes>"
      ]
     },
     "metadata": {
      "needs_background": "light"
     },
     "output_type": "display_data"
    }
   ],
   "source": [
    "figure = plt.figure()\n",
    "plt.plot(data)\n",
    "\n",
    "figure.suptitle('Capteur infra-rouge')\n",
    "plt.xlabel('Temps')\n",
    "plt.ylabel('Force du signal (V)')"
   ]
  },
  {
   "cell_type": "markdown",
   "metadata": {},
   "source": [
    "Vous savez maintenant faire des interactions avec votre base robotique! Si il vous reste du temps, vous pouvez explorer d'autres possibilités en ouvrant le notebook `Controller.ipynb`. Bonne session!"
   ]
  }
 ],
 "metadata": {
  "kernelspec": {
   "display_name": "Python 3",
   "language": "python",
   "name": "python3"
  },
  "language_info": {
   "codemirror_mode": {
    "name": "ipython",
    "version": 3
   },
   "file_extension": ".py",
   "mimetype": "text/x-python",
   "name": "python",
   "nbconvert_exporter": "python",
   "pygments_lexer": "ipython3",
   "version": "3.8.10"
  },
  "widgets": {
   "state": {},
   "version": "1.1.2"
  }
 },
 "nbformat": 4,
 "nbformat_minor": 4
}
