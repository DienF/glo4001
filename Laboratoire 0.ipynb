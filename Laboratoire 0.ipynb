{
 "cells": [
  {
   "cell_type": "markdown",
   "metadata": {},
   "source": [
    "# Laboratoire 0: Introduction aux outils"
   ]
  },
  {
   "cell_type": "markdown",
   "metadata": {},
   "source": [
    "Bienvenue dans les laboratoires de robotique mobile! Cette séance a pour objectif de vous familiariser avec les outils que nous utiliserons tout au long de la session. Si vous voyez ce message, c'est que vous avez déjà réussi à lancer jupyter. Bien! Voyons maintenant comment les notebooks fonctionnent."
   ]
  },
  {
   "cell_type": "markdown",
   "metadata": {},
   "source": [
    "## Jupyter et IPython\n",
    "\n",
    "[Jupyter](http://jupyter.org/) est une plate-forme interactive qui permet de combiner texte et code dans un notebook, comme celui que vous voyez présentement. Le back-end que nous utiliserons est [IPython](https://ipython.org/), ce qui veut dire que nous pouvons entrer du code python dans une cellule de la présente page."
   ]
  },
  {
   "cell_type": "code",
   "execution_count": null,
   "metadata": {
    "collapsed": false
   },
   "outputs": [],
   "source": [
    "print('En sélectionnant cette cellule puis en appuyant sur SHIFT+Enter, vous exécuterez du code python.')\n",
    "\n",
    "for i in range(10):\n",
    "    print(i)"
   ]
  },
  {
   "cell_type": "markdown",
   "metadata": {},
   "source": [
    "Notez qu'il est aussi possible d'exécuter une cellule en appuyant sur un bouton de la barre d'outils.\n",
    "\n",
    "Pendant la session, on pourra donc communiquer avec le robot à travers Jupyter. Nous avons déjà écrit une librarie qui permet de communiquer avec le robot. Nous vous fournirons des exemples de code pour établir la communication, puis vous aurez à analyser les données récoltées."
   ]
  },
  {
   "cell_type": "markdown",
   "metadata": {},
   "source": [
    "## Jupyter: trucs et astuces\n",
    "\n",
    "Mais avant de commencer, quelques informations à propos de Jupyter. Vous pouvez arrêter l'exécution d'une cellule en sélectionnant la cellule puis en appuyant sur `i` trois fois (le `i` est pour _interrupt_). Pratique quand on lance une boucle infinie par accident!"
   ]
  },
  {
   "cell_type": "code",
   "execution_count": null,
   "metadata": {
    "collapsed": false
   },
   "outputs": [],
   "source": [
    "# Lancez l'exécution de cette cellule puis arrêtez-là en utilisant \"i i\".\n",
    "\n",
    "while True:\n",
    "    i = 0"
   ]
  },
  {
   "cell_type": "markdown",
   "metadata": {},
   "source": [
    "Une autre façon d'arrêter l'exécution du code est de sélectionner, dans le menu du haut, `Kernel >> Interrupt`. Remarquez aussi les autres options de ce menu, qui vous seront certainement très utiles. `Kernel >> Restart` relance le back-end python: toutes les variables que vous aviez assigné avant vont disparaître. En cas de problème, c'est toujours une bonne idée de relancer le back-end puis de ré-exécuter les cellules qui nous intéressent avant de paniquer.\n",
    "\n",
    "Finalement, une liste plus complète des raccourcis clavier est disponible [ici](https://sowingseasons.com/blog/reference/2016/01/jupyter-keyboard-shortcuts/23298516)."
   ]
  },
  {
   "cell_type": "markdown",
   "metadata": {},
   "source": [
    "## Interagir avec le robot\n",
    "\n",
    "Il est maintenant temps de nous connecter au robot. La logique de connection sera expliquée plus en détail cette fois-ci. Dans les prochains laboratoires, nous vous fournirons le code sans explications.\n",
    "\n",
    "Importons d'abord les modules python qui nous permettent de communiquer avec le robot."
   ]
  },
  {
   "cell_type": "code",
   "execution_count": null,
   "metadata": {
    "collapsed": false
   },
   "outputs": [],
   "source": [
    "from robmob import robot, sensors"
   ]
  },
  {
   "cell_type": "code",
   "execution_count": null,
   "metadata": {
    "collapsed": true
   },
   "outputs": [],
   "source": []
  }
 ],
 "metadata": {
  "kernelspec": {
   "display_name": "Python 3",
   "language": "python",
   "name": "python3"
  },
  "language_info": {
   "codemirror_mode": {
    "name": "ipython",
    "version": 3
   },
   "file_extension": ".py",
   "mimetype": "text/x-python",
   "name": "python",
   "nbconvert_exporter": "python",
   "pygments_lexer": "ipython3",
   "version": "3.4.3"
  }
 },
 "nbformat": 4,
 "nbformat_minor": 0
}
