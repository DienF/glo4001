{
 "cells": [
  {
   "cell_type": "markdown",
   "metadata": {},
   "source": [
    "# Laboratoire 0: Introduction aux outils"
   ]
  },
  {
   "cell_type": "markdown",
   "metadata": {},
   "source": [
    "Bienvenue dans les laboratoires de robotique mobile! Cette séance a pour objectif de vous familiariser avec les outils que nous utiliserons tout au long de la session. Si vous voyez ce message, c'est que vous avez déjà réussi à lancer jupyter. Bien! Voyons maintenant comment les notebooks fonctionnent."
   ]
  },
  {
   "cell_type": "markdown",
   "metadata": {},
   "source": [
    "## Jupyter et IPython\n",
    "\n",
    "[Jupyter](http://jupyter.org/) est une plate-forme interactive qui permet de combiner texte et code dans un notebook, comme celui que vous voyez présentement. Le back-end que nous utiliserons est [IPython](https://ipython.org/), ce qui veut dire que nous pouvons entrer du code python dans une cellule de la présente page."
   ]
  },
  {
   "cell_type": "code",
   "execution_count": null,
   "metadata": {},
   "outputs": [],
   "source": [
    "print('En sélectionnant cette cellule puis en appuyant sur SHIFT+Enter, vous exécuterez du code python.')\n",
    "\n",
    "for i in range(10):\n",
    "    print(i)"
   ]
  },
  {
   "cell_type": "markdown",
   "metadata": {},
   "source": [
    "Notez qu'il est aussi possible d'exécuter une cellule en appuyant sur un bouton de la barre d'outils.\n",
    "\n",
    "Pendant la session, on pourra donc communiquer avec le robot à travers Jupyter. Nous avons déjà écrit une librarie qui permet de communiquer avec le robot. Nous vous fournirons des exemples de code pour établir la communication, puis vous aurez à analyser les données récoltées."
   ]
  },
  {
   "cell_type": "markdown",
   "metadata": {},
   "source": [
    "## Jupyter: trucs et astuces\n",
    "\n",
    "Mais avant de commencer, quelques informations à propos de Jupyter. Vous pouvez arrêter l'exécution d'une cellule en sélectionnant la cellule puis en appuyant sur `i` deux fois (le `i` est pour _interrupt_). Pratique quand on lance une boucle infinie par accident!"
   ]
  },
  {
   "cell_type": "code",
   "execution_count": null,
   "metadata": {},
   "outputs": [],
   "source": [
    "# Lancez l'exécution de cette cellule puis arrêtez-là en utilisant \"i i\".\n",
    "\n",
    "while True:\n",
    "    i = 0"
   ]
  },
  {
   "cell_type": "markdown",
   "metadata": {},
   "source": [
    "Une autre façon d'arrêter l'exécution du code est de sélectionner, dans le menu du haut, `Kernel >> Interrupt`. Remarquez aussi les autres options de ce menu, qui vous seront certainement très utiles. `Kernel >> Restart` relance le back-end python: toutes les variables que vous aviez assigné avant vont disparaître. En cas de problème, c'est toujours une bonne idée de relancer le back-end puis de ré-exécuter les cellules qui nous intéressent avant de paniquer.\n",
    "\n",
    "Finalement, une liste plus complète des raccourcis clavier est disponible [ici](https://sowingseasons.com/blog/reference/2016/01/jupyter-keyboard-shortcuts/23298516)."
   ]
  },
  {
   "cell_type": "markdown",
   "metadata": {},
   "source": [
    "# Introduction au simulateur\n",
    "\n",
    "Pour la version en ligne de ce cours, nous utilisons le simulateur [Gazebo](https://gazebosim.org/) pour permettre les laboratoires, même sans avoir de vrais robots.\n",
    "\n",
    "Un simulateur de robotique est un outil extrêmement pratique pour, entre autres, tester des algorithmes, expérimenter dans différents environments, entraîner des modèles d'apprentissage automatique et valider son code.\n",
    "\n",
    "Gazebo propose une intégration avec [ROS](https://www.ros.org/), un bibliothèque courament utilisée en robotique. Les laboratoires du cours utilisent ROS, mais ces Jupyter Notebooks fournissent une interface qui abstrait les concepts de ROS pour en faciliter l'utilisation.\n",
    "\n",
    "Pour les étudiants voulant en apprendre davantage sur ROS, nous recommandons le cours de François Pomerleau sur la Perception 3D pour véhicules autonomes ([GLO-4007](https://www.ulaval.ca/etudes/cours/glo-4007-perception-3d-pour-vehicules-autonomes) et [GLO-7007](https://www.ulaval.ca/etudes/cours/glo-7007-perception-3d-pour-vehicules-autonomes)). Les notes de cours sont disponibles ici: [Notes de cours](https://github.com/norlab-ulaval/percep3d_lessons).\n",
    "\n",
    "Toutefois, pour ce cours, nous fournissons du code permettant d'intéragir avec le robot, ou le simulateur, sans devoir toucher à ROS. Pour les intéressés, le code est disponible dans le dossier `robmob`.\n",
    "\n",
    "## Vrai robot vs Simulateur\n",
    "\n",
    "Le code des laboratoire est compatible autant avec la base robotique que le simulateur. Pour changer le mode des laboratoires, veuillez changer les variables\n",
    "\n",
    "```python\n",
    "IN_SIMULATION = True\n",
    "```\n",
    "\n",
    "dans `robmob/commands.py` **et** `robmob/sensors.py`.\n",
    "\n",
    "## Configuration de la machine virtuelle\n",
    "\n",
    "La machine virtuelle contenant le simulateur est disponible sur le site de cours. La machine virtuelle est compatible avec [VirtualBox](https://www.virtualbox.org/).\n",
    "\n",
    "Vous pouvez exécuter les notebooks sur votre ordinateur personnel, et exécuter le simulateur dans la machine virtuelle (VM).\n",
    "\n",
    "Lors de l'ouverture du fichier `.ova`, validez:\n",
    "\n",
    "- La machine a au moins 4G de RAM\n",
    "- Si possible, plus d'un CPU\n",
    "\n",
    "Avant de lancer la VM, ajoutez un port forwarding dans `Network -> Advanced -> Port Forwarding`. Ensuite, ajoutez une règle pour forwarder le port `9090` de la machine hôte au port `9090` de la machine invitée.\n",
    "\n",
    "![port_forwarding](doc/port_forwarding.png)\n",
    "\n",
    "![port_forwarding_rule](doc/port_forwarding_rule.png)\n",
    "\n",
    "Validez aussi que l'accélération matérielle **n'est pas activée** (`Settings -> Display -> Enable 3D Acceleration` ne doit pas être coché).\n",
    "\n",
    "Vous pouvez maintenant lancer la machine virtuelle.\n",
    "\n",
    "Voici les informations de connection:\n",
    "\n",
    "```\n",
    "Username: student\n",
    "Password: student\n",
    "```\n",
    "\n",
    "Pour plus d'information sur la mise en place des machines virtuelles, voir le notebook `ConfigurationVM`.\n",
    "\n",
    "## En cas d'erreur...\n",
    "\n",
    "En cas de problème, vous pouvez utiliser l'image suivante: [image v2](https://drive.google.com/drive/folders/1UGvs6hQSkR_d1kWXJ3ZM8BAn3EJS8qDr?usp=sharing).\n",
    "\n",
    "Si la machine virtuelle ne fonctionne pas, il peut être nécessaire de faire les étapes suivantes:\n",
    "\n",
    "1. Ouvrir une session TTY avec `CTRL-ALT-F3`\n",
    "2. Se connecter avec nom d'utilisateur `student` et mot de passe `student`\n",
    "3. Exécuter les commandes suivantes\n",
    "```bash\n",
    "mv ~/.config ~/.config.old\n",
    "mv ~/.local ~/.local.old\n",
    "mv ~/.cache ~/.cache.old\n",
    "```\n",
    "4. Redémarrer la machine avec\n",
    "```bash\n",
    "sudo shutdown now\n",
    "```\n",
    "\n",
    "Si cela ne fonctionne toujours pas, il faudrait créer une nouvelle machine virtuelle et y installer les dépendances. Les étapes d'installations sont détaillées dans le notebook `ConfigurationVM.ipynb`.\n",
    "\n",
    "## Création d'une carte\n",
    "\n",
    "En guise d'introduction au simulateur, nous allons construire une carte avec les données du LiDAR avec un algorithme que vous allez étudier plus tard dans le cours: SLAM [Simultaneous localization and mapping](https://www.wikiwand.com/en/Simultaneous_localization_and_mapping).\n",
    "\n",
    "Dans la machine virtuelle, lancez un terminal avec `CTRL-ALT-T` et entrez-y la commande suivante:\n",
    "\n",
    "```bash\n",
    "roslaunch turtlebot3_gazebo turtlebot3_world.launch\n",
    "```\n",
    "\n",
    "Vous devriez voir Gazebo ouvrir et vous présenter l'interface suivante:\n",
    "\n",
    "![gazebo](doc/gazebo_intro.png)\n",
    "\n",
    "Dans la fenêtre centrale, vous pouvez bouger la caméra avec un click gauche enfoncé, zoomez avec le click droit et faire tourner la caméra avec un click de la molette de la souris.\n",
    "\n",
    "En bas de la fenêtre principale de Gazebo, il y a un compteur affichant le `Real Time Factor`. Ce facteur représente la vitesse relative de la simulation par rapport au temps réel. Ce facteur devrait être près de 1, si ce n'est pas le cas, nous allons ajuster le pas de la simulation.\n",
    "\n",
    "Lancez un autre terminal avec `CTRL-ALT-T` et entrez-y:\n",
    "\n",
    "```bash\n",
    "gz physics -s 0.001\n",
    "```\n",
    "\n",
    "Faites varier la valeur pour avoir un `Real Time Factor` près de 1. Il n'est pas nécessaire d'être exactement à 1, une valeur entre 1 et 2 devrait être suffisante. Notez cette valeur et copiez là dans `/home/student/catkin_ws/src/turtlebot3_simulations/turtlebot3_gazebo/scripts/set_time_step.sh`. Ainsi, vous n'aurez pas à répéter ces étapes à chaque fois que vous ouvrez le simulateur.\n",
    "\n",
    "Maintenant, lançons l'algorithme de SLAM. Dans un nouveau terminal, entrez:\n",
    "\n",
    "```bash\n",
    "roslaunch turtlebot3_slam turtlebot3_slam.launch slam_methods:=gmapping\n",
    "```\n",
    "\n",
    "[RViz](https://wiki.ros.org/rviz), un utilitaire de visualisation, devrait s'ouvrir et afficher l'état de la carte.\n",
    "\n",
    "![RViz](doc/rviz.png)\n",
    "\n",
    "Il ne reste maintenant qu'à controler le robot, pour se faire, dans un nouveau terminal, entrez la commande suivante:\n",
    "\n",
    "```bash\n",
    "roslaunch turtlebot3_teleop turtlebot3_teleop_key.launch\n",
    "```\n",
    "\n",
    "À partir de ce terminal, vous pouvez contrôler le robot avec les touches:\n",
    "\n",
    "- `w`: Avancer\n",
    "- `a`: Tourner à gauche\n",
    "- `d`: Tourner à droite\n",
    "- `x`: Reculer\n",
    "- `s`: Stop\n",
    "\n",
    "Vous pouvez maintenant \n",
    "\n",
    "Maintenant deplacer vous dans la carte pour construire la carte.\n",
    "\n",
    "Une fois que la carte est complète, exécuter la commande suivante dans un nouveau terminal:\n",
    "\n",
    "```bash\n",
    "rosrun map_server map_saver -f ~/map\n",
    "```\n",
    "\n",
    "Cette commande sauvegarde la carte dans `~/map`.\n",
    "\n",
    "Vous pouvez fermer tous les terminaux ouverts.\n",
    "\n",
    "## Planification de chemin\n",
    "\n",
    "Maintenant que la carte est construite, faisons de la planification de chemin.\n",
    "\n",
    "Dans un terminal, lancez le simulateur:\n",
    "\n",
    "```bash\n",
    "roslaunch turtlebot3_gazebo turtlebot3_world.launch\n",
    "```\n",
    "\n",
    "Puis, lancez le module de navigation avec:\n",
    "\n",
    "```bash\n",
    "roslaunch turtlebot3_navigation turtlebot3_navigation.launch map_file:=$HOME/map.yaml\n",
    "```\n",
    "\n",
    "Cette commande va ouvrir RViz. En haut à gauche, cliquez sur `2D Pose Estimate`, ceci vous permet de spécifier une position initiale. Placez le vecteur près de la position réelle du robot dans le simulateur. La heatmap devrait être allignée avec la carte, comme ceci:\n",
    "\n",
    "![mapping](doc/mapping.png)\n",
    "\n",
    "Cliquer sur 2d Pose estimate, et placer le vecteur pres de la position relle du robot dans le simulateur. (TODO image)\n",
    "\n",
    "Vous pouvez maintenant choisir `2D Nav Goal` et placer un vecteur dans la carte, le robot va s'y rendre de façon autonome."
   ]
  },
  {
   "cell_type": "markdown",
   "metadata": {},
   "source": [
    "## Interagir avec le robot\n",
    "\n",
    "En premier lieu assurez vous que votre ordinateur est connecté au même réseau wifi que les robots. La SSID du réseau est `glo7021_24ghz` ou bien `glo7021_5ghz`. Le mot de passe du réseau est `unchevalblanc`.\n",
    "\n",
    "Si vous utilisez le simulateur, il n'est pas nécessaire de se connecter au réseau.\n",
    "\n",
    "Il est maintenant temps de nous connecter au robot. La logique de connexion sera expliquée plus en détail cette fois-ci. Dans les prochains laboratoires, nous vous fournirons le code sans explications.\n",
    "\n",
    "Importons d'abord la classe qui nous permet de communiquer avec le robot.\n",
    "\n",
    "## Installation des dépendances Python\n",
    "\n",
    "Sur votre ordinateur (pas la machine virtuelle), assurez-vous d'avoir installé Python version 3. Des instructions d'installations sont disponibles dans le README à la base du projet: [norlab-ulaval/glo4001](https://github.com/norlab-ulaval/glo4001).\n",
    "\n",
    "Sur votre ordinateur personnel, installer les dépendances python avec\n",
    "\n",
    "```bash\n",
    "pip3 install -r requirements.txt\n",
    "```"
   ]
  },
  {
   "cell_type": "code",
   "execution_count": null,
   "metadata": {},
   "outputs": [],
   "source": [
    "from robmob.robot import Robot"
   ]
  },
  {
   "cell_type": "markdown",
   "metadata": {},
   "source": [
    "Il faut ensuite fournir l'IP du robot qui vous a été fourni. L'IP est sur une étiquette collée au robot. Avec l'IP, on peut créer une instance de la classe `Robot`."
   ]
  },
  {
   "cell_type": "code",
   "execution_count": null,
   "metadata": {},
   "outputs": [],
   "source": [
    "robot_ip = 'localhost' # Remplacez cette ip par l'ip de votre robot ou par localhost en simulation\n",
    "robot = Robot(robot_ip)\n",
    "robot.connect()"
   ]
  },
  {
   "cell_type": "markdown",
   "metadata": {},
   "source": [
    "Maintenant que nous sommes connectés au robot, tentons de communiquer avec un de ses senseurs. Débutons avec un capteur infra-rouge. Comme il y a deux capteurs infra-rouge sur le robot, il faut spécifier l'ID du senseur avec lequel on veut communiquer (`0` ou `1`)."
   ]
  },
  {
   "cell_type": "code",
   "execution_count": null,
   "metadata": {},
   "outputs": [],
   "source": [
    "from robmob.sensors import SharpSensor\n",
    "\n",
    "sensor = SharpSensor(0)"
   ]
  },
  {
   "cell_type": "markdown",
   "metadata": {},
   "source": [
    "Maintenant, la ligne la plus importante. On doit ajouter la variable `sensor` dans la collection des senseurs que notre robot « écoute ». Ça revient à dire au robot de capturer les données du capteur infra-rouge, et de les ranger dans l'instance `sensor` que nous avons créé."
   ]
  },
  {
   "cell_type": "code",
   "execution_count": null,
   "metadata": {},
   "outputs": [],
   "source": [
    "robot.add_sensor(sensor)"
   ]
  },
  {
   "cell_type": "markdown",
   "metadata": {},
   "source": [
    "Au moment où vous exécutez cette ligne, les données partent du robot vers votre machine. Dans le cas du capteur infra-rouge le flux de données est assez léger, mais quand nous jouerons avec des capteurs plus sophistiqués, le wifi sera mis à l'épreuve. Tentez de garder cela en tête au cours de la session!\n",
    "\n",
    "L'instance de `SharpSensor` contient un buffer qui se fait remplir par `robot`. Jetons-y un coup d'oeil. `SharpSensor.peek_data()` nous retourne la dernière donnée qui nous a été envoyée par le robot. Si vous l'exécutez plusieurs fois vous aurez de valeurs différentes.\n",
    "\n",
    "> **PROTIP** Appuyez sur CTRL-Enter (au lieu de SHIFT-Enter) pour exécuter une même cellule plusieurs fois de suite (sans que la prochaine cellule ne soit sélectionnée)."
   ]
  },
  {
   "cell_type": "markdown",
   "metadata": {},
   "source": [
    "Si vous utilisez le simulateur, utilisez `roslaunch turtlebot3_teleop turtlebot3_teleop_key.launch` pour déplacer le robot face à un mur."
   ]
  },
  {
   "cell_type": "code",
   "execution_count": null,
   "metadata": {},
   "outputs": [],
   "source": [
    "sensor.peek_data()"
   ]
  },
  {
   "cell_type": "markdown",
   "metadata": {},
   "source": [
    "`sensor.read_buffer()` retourne les `sensor.buffer_size` dernières données."
   ]
  },
  {
   "cell_type": "code",
   "execution_count": null,
   "metadata": {},
   "outputs": [],
   "source": [
    "print('Voici les ' + str(sensor.buffer_size) + ' dernières données:')\n",
    "sensor.read_buffer()"
   ]
  },
  {
   "cell_type": "markdown",
   "metadata": {},
   "source": [
    "> **PROTIP** Comme le capteur infra-rouge a une fréquence d'acquitision très rapide, le buffer se remplit rapidement. D'autres capteurs (comme la kinect) ne sont pas aussi rapides, et il se peut que le buffer soit vide si vous exécutez cette fonction plusieurs fois de suite. Il suffira alors de patienter un peu."
   ]
  },
  {
   "cell_type": "markdown",
   "metadata": {},
   "source": [
    "## Graphiques avec pyplot\n",
    "\n",
    "On peut maintenant faire un graphique avec ces données! Importons d'abord un module qui nous permet de faire des graphiques: `matplotlib.pyplot`. Ce module se comporte de façon très similaire à MATLAB. Vous trouverez un tutoriel pour pyplot [ici](http://matplotlib.org/users/pyplot_tutorial.html). Rechercher \"How to ... pyplot\" dans google reste l'outil le plus utile."
   ]
  },
  {
   "cell_type": "code",
   "execution_count": null,
   "metadata": {},
   "outputs": [],
   "source": [
    "import matplotlib.pyplot as plt"
   ]
  },
  {
   "cell_type": "markdown",
   "metadata": {},
   "source": [
    "Ici on indique à jupyter qu'il devrait afficher les graphiques dans le notebook, au lieu de simplement nous retourner leur adresse mémoire..."
   ]
  },
  {
   "cell_type": "code",
   "execution_count": null,
   "metadata": {},
   "outputs": [],
   "source": [
    "%matplotlib inline"
   ]
  },
  {
   "cell_type": "markdown",
   "metadata": {},
   "source": [
    "Maintenant, collectons les données, puis affichons-les!"
   ]
  },
  {
   "cell_type": "code",
   "execution_count": null,
   "metadata": {},
   "outputs": [],
   "source": [
    "data = sensor.read_buffer()\n",
    "plt.plot(data)"
   ]
  },
  {
   "cell_type": "markdown",
   "metadata": {},
   "source": [
    "Améliorons ce graphique avec un titre et des axes. Ce genre de code vous sera utile tout au long de la session."
   ]
  },
  {
   "cell_type": "code",
   "execution_count": null,
   "metadata": {},
   "outputs": [],
   "source": [
    "figure = plt.figure()\n",
    "plt.plot(data)\n",
    "\n",
    "figure.suptitle('Capteur infra-rouge')\n",
    "plt.xlabel('Temps')\n",
    "plt.ylabel('Force du signal (V)')"
   ]
  },
  {
   "cell_type": "markdown",
   "metadata": {},
   "source": [
    "Vous savez maintenant faire des interactions avec votre base robotique! Si il vous reste du temps, vous pouvez explorer d'autres possibilités en ouvrant le notebook `Controller.ipynb`. Bonne session!"
   ]
  }
 ],
 "metadata": {
  "kernelspec": {
   "display_name": "Python 3",
   "language": "python",
   "name": "python3"
  },
  "language_info": {
   "codemirror_mode": {
    "name": "ipython",
    "version": 3
   },
   "file_extension": ".py",
   "mimetype": "text/x-python",
   "name": "python",
   "nbconvert_exporter": "python",
   "pygments_lexer": "ipython3",
   "version": "3.8.10"
  },
  "widgets": {
   "state": {},
   "version": "1.1.2"
  }
 },
 "nbformat": 4,
 "nbformat_minor": 4
}