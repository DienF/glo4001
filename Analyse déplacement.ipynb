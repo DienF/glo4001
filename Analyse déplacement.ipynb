{
 "cells": [
  {
   "cell_type": "markdown",
   "metadata": {},
   "source": [
    "# Laboratoire 4 - Modèle de déplacement\n",
    "\n",
    "> **Attention!** Il est *strictement interdit* de s'approcher des commandes qui font avancer le robot si il y a le moindre risque que le robot ne tombe par terre. Les équipes qui ont un accidents de robot devront chanter *Never Gonna Give You Up* devant toute la classe.\n",
    "\n",
    "L'objectif de ce laboratoire est de créer un modèle de déplacement pour la plate-forme Kobuki. Pour ce faire nous allons observer à plusieurs reprises le comportement réel du robot. Nous allons comparer ce comportement aux commandes qu'on lui a donné, et créer un modèle gaussien de déplacement.\n",
    "\n",
    "## Partie 1 - Contrôle du robot\n",
    "\n",
    "La librarie `robmob` contient une série de commandes de déplacement. Testez les ici avant de continuer! Mais d'abord, importons quelques libraries."
   ]
  },
  {
   "cell_type": "code",
   "execution_count": 2,
   "metadata": {
    "collapsed": false
   },
   "outputs": [],
   "source": [
    "import robmob.robot\n",
    "import robmob.sensors as sensors\n",
    "from math import pi as PI\n",
    "from time import sleep\n",
    "\n",
    "robot_ip = 'localhost'\n",
    "robot = robmob.robot.Robot(robot_ip)\n",
    "\n",
    "robot.connect()"
   ]
  },
  {
   "cell_type": "code",
   "execution_count": 3,
   "metadata": {
    "collapsed": false
   },
   "outputs": [
    {
     "ename": "AttributeError",
     "evalue": "'Robot' object has no attribute 'rotate'",
     "output_type": "error",
     "traceback": [
      "\u001B[0;31m---------------------------------------------------------------------------\u001B[0m",
      "\u001B[0;31mAttributeError\u001B[0m                            Traceback (most recent call last)",
      "\u001B[0;32m/tmp/ipykernel_67948/1963830054.py\u001B[0m in \u001B[0;36m<module>\u001B[0;34m\u001B[0m\n\u001B[0;32m----> 1\u001B[0;31m \u001B[0mrobot\u001B[0m\u001B[0;34m.\u001B[0m\u001B[0mrotate\u001B[0m\u001B[0;34m(\u001B[0m\u001B[0;36m2\u001B[0m\u001B[0;34m*\u001B[0m\u001B[0mPI\u001B[0m \u001B[0;34m/\u001B[0m \u001B[0;36m10\u001B[0m\u001B[0;34m,\u001B[0m \u001B[0mtime_of_angular_movement\u001B[0m\u001B[0;34m(\u001B[0m\u001B[0;36m2\u001B[0m\u001B[0;34m*\u001B[0m\u001B[0mPI\u001B[0m\u001B[0;34m/\u001B[0m\u001B[0;36m10\u001B[0m\u001B[0;34m,\u001B[0m \u001B[0mPI\u001B[0m\u001B[0;34m)\u001B[0m\u001B[0;34m)\u001B[0m \u001B[0;31m# Rotation de 360 degrés à 60 degrés/seconde\u001B[0m\u001B[0;34m\u001B[0m\u001B[0;34m\u001B[0m\u001B[0m\n\u001B[0m",
      "\u001B[0;31mAttributeError\u001B[0m: 'Robot' object has no attribute 'rotate'"
     ]
    }
   ],
   "source": [
    "robot.rotate(2*PI / 10, time_of_angular_movement(2*PI/10, PI)) # Rotation de 360 degrés à 60 degrés/seconde"
   ]
  },
  {
   "cell_type": "code",
   "execution_count": 3,
   "metadata": {
    "collapsed": false
   },
   "outputs": [
    {
     "ename": "AttributeError",
     "evalue": "'Robot' object has no attribute 'rotate'",
     "output_type": "error",
     "traceback": [
      "\u001B[0;31m---------------------------------------------------------------------------\u001B[0m",
      "\u001B[0;31mAttributeError\u001B[0m                            Traceback (most recent call last)",
      "\u001B[0;32m/tmp/ipykernel_70314/811464353.py\u001B[0m in \u001B[0;36m<module>\u001B[0;34m\u001B[0m\n\u001B[0;32m----> 1\u001B[0;31m \u001B[0mrobot\u001B[0m\u001B[0;34m.\u001B[0m\u001B[0mrotate\u001B[0m\u001B[0;34m(\u001B[0m\u001B[0;34m-\u001B[0m\u001B[0;36m360\u001B[0m\u001B[0;34m,\u001B[0m \u001B[0;34m-\u001B[0m\u001B[0;36m60.0\u001B[0m\u001B[0;34m)\u001B[0m \u001B[0;31m# Rotation dans le sens contraire\u001B[0m\u001B[0;34m\u001B[0m\u001B[0;34m\u001B[0m\u001B[0m\n\u001B[0m",
      "\u001B[0;31mAttributeError\u001B[0m: 'Robot' object has no attribute 'rotate'"
     ]
    }
   ],
   "source": [
    "robot.rotate(-360, -60.0) # Rotation dans le sens contraire"
   ]
  },
  {
   "cell_type": "code",
   "execution_count": null,
   "metadata": {
    "collapsed": false
   },
   "outputs": [],
   "source": [
    "robot.general_movement_command(0.2, 0, 10)"
   ]
  },
  {
   "cell_type": "code",
   "execution_count": null,
   "metadata": {
    "collapsed": true
   },
   "outputs": [],
   "source": [
    "MAX_LINEAR_ACCELERATION = 0.5\n",
    "MIN_LINEAR_ACCELERATION = -0.5 * 1.2\n",
    "\n",
    "MAX_ANGULAR_ACCELERATION = 3.5\n",
    "MIN_ANGULAR_ACCELERATION = -3.5 * 1.2\n",
    "\n",
    "def time_of_linear_movement(speed, distance):\n",
    "    total_time = 0.\n",
    "    \n",
    "    time_to_top_speed = speed / MAX_LINEAR_ACCELERATION\n",
    "    distance -= time_to_top_speed * speed / 2.\n",
    "    total_time += time_to_top_speed\n",
    "    \n",
    "    time_to_stop = -speed / MIN_LINEAR_ACCELERATION\n",
    "    distance -= time_to_stop * speed / 2.\n",
    "    total_time += time_to_stop\n",
    "    \n",
    "    total_time += distance / speed\n",
    "    \n",
    "    return total_time\n",
    "\n",
    "def time_of_angular_movement(speed, angle):\n",
    "    total_time = 0.\n",
    "    \n",
    "    time_to_top_speed = speed / MAX_ANGULAR_ACCELERATION\n",
    "    angle -= time_to_top_speed * speed / 2.\n",
    "    total_time += time_to_top_speed\n",
    "    \n",
    "    time_to_stop = -speed / MIN_ANGULAR_ACCELERATION\n",
    "    angle -= time_to_stop * speed / 2.\n",
    "    total_time += time_to_stop\n",
    "    \n",
    "    total_time += angle / speed\n",
    "    \n",
    "    return total_time\n",
    "    "
   ]
  },
  {
   "cell_type": "code",
   "execution_count": null,
   "metadata": {
    "collapsed": false
   },
   "outputs": [],
   "source": [
    "time_of_linear_movement(0.2, 1)\n",
    "time_of_angular_movement(3.1416/5, 3.1416)"
   ]
  },
  {
   "cell_type": "code",
   "execution_count": null,
   "metadata": {
    "collapsed": false
   },
   "outputs": [],
   "source": [
    "5/5.3"
   ]
  },
  {
   "cell_type": "markdown",
   "metadata": {},
   "source": [
    "## Grapher les ticks de l'odomètre"
   ]
  },
  {
   "cell_type": "code",
   "execution_count": null,
   "metadata": {
    "collapsed": false
   },
   "outputs": [],
   "source": [
    "odometer = sensors.OdometerTicksSensor(30 * sensors.OdometerTicksSensor.SAMPLE_RATE) # 10 sec buffer size.\n",
    "robot.add_sensor(odometer)"
   ]
  },
  {
   "cell_type": "code",
   "execution_count": null,
   "metadata": {
    "collapsed": false
   },
   "outputs": [],
   "source": [
    "import numpy as np\n",
    "\n",
    "def get_odometry_data():\n",
    "    odometry_data = []\n",
    "    buf_snapshot = odometer.read_buffer()\n",
    "    for data in buf_snapshot:\n",
    "        row = [\n",
    "                data[0]['secs'] * 1e9 + data[0]['nsecs'],\n",
    "                data[1],\n",
    "                data[2]\n",
    "            ]\n",
    "        odometry_data.append(row)\n",
    "\n",
    "    odometry_data = np.array(odometry_data)\n",
    "    odometry_data[:,0] -= odometry_data[0,0]\n",
    "    return odometry_data\n",
    "\n",
    "def average_tps_of_odom_data(odom_data):\n",
    "    time_of_min = 0.0\n",
    "    \n",
    "    i = 0\n",
    "    while odom_data[i,1] == odom_data[0,1]:\n",
    "        i += 1\n",
    "    \n",
    "    time_of_min = odom_data[i,0]\n",
    "    value_of_min = odom_data[i,1]\n",
    "    \n",
    "    while odom_data[i,1] < odom_data[i + 1, 1]:\n",
    "        i += 1\n",
    "    \n",
    "    time_of_max = odom_data[i+1, 0]\n",
    "    value_of_max = odom_data[i+1, 1]\n",
    "    \n",
    "    print('max {}, min {}'.format(value_of_max, value_of_min))\n",
    "    \n",
    "    return (value_of_max - value_of_min) / (time_of_max - time_of_min) * 1e9"
   ]
  },
  {
   "cell_type": "code",
   "execution_count": null,
   "metadata": {
    "collapsed": false
   },
   "outputs": [],
   "source": [
    "import time\n",
    "\n",
    "robot.move(0.2, time_of_linear_movement(0.2, 3))\n",
    "time.sleep(2)\n",
    "odometry_data = get_odometry_data()\n",
    "\n",
    "odometry_data"
   ]
  },
  {
   "cell_type": "code",
   "execution_count": null,
   "metadata": {
    "collapsed": true
   },
   "outputs": [],
   "source": [
    "%matplotlib nbagg\n",
    "import matplotlib.pyplot as plt\n",
    "import time"
   ]
  },
  {
   "cell_type": "code",
   "execution_count": null,
   "metadata": {
    "collapsed": false
   },
   "outputs": [],
   "source": [
    "\n",
    "\n",
    "plt.plot(odometry_data[:, 0], odometry_data[:, 1], 'b')\n",
    "plt.plot(odometry_data[:, 0], odometry_data[:, 2], 'r')\n",
    "plt.show()"
   ]
  },
  {
   "cell_type": "code",
   "execution_count": null,
   "metadata": {
    "collapsed": false
   },
   "outputs": [],
   "source": [
    "deltas = []\n",
    "\n",
    "for i in range(1, odometry_data.shape[0] - 1):\n",
    "    n_ticks = odometry_data[i + 1,1] - odometry_data[i - 1,1]\n",
    "    \n",
    "    if n_ticks < 0:\n",
    "        continue\n",
    "    \n",
    "    delta_t = (odometry_data[i+1, 0] - odometry_data[i - 1,0]) / 1e9\n",
    "    \n",
    "    delta_x = n_ticks / 11724.41658029856624751591\n",
    "    \n",
    "    \n",
    "    deltas.append([odometry_data[i,0], delta_x / delta_t])\n",
    "    \n",
    "deltas = np.array(deltas)\n",
    "\n",
    "plt.axhline(0.2, linestyle='--', color='r')\n",
    "plt.plot(deltas[:,0], deltas[:,1])\n",
    "plt.xlabel('Temps (s)')\n",
    "plt.ylabel('Vitesse (m/s)')\n"
   ]
  },
  {
   "cell_type": "code",
   "execution_count": null,
   "metadata": {
    "collapsed": true
   },
   "outputs": [],
   "source": [
    "import time\n",
    "\n",
    "robot.move(0.2, time_of_linear_movement(0.2, 2))\n",
    "time.sleep(2)\n",
    "odometry_data = get_odometry_data()"
   ]
  },
  {
   "cell_type": "code",
   "execution_count": null,
   "metadata": {
    "collapsed": false
   },
   "outputs": [],
   "source": [
    "average_tps_of_odom_data(odometry_data)"
   ]
  },
  {
   "cell_type": "code",
   "execution_count": null,
   "metadata": {
    "collapsed": false
   },
   "outputs": [],
   "source": []
  },
  {
   "cell_type": "code",
   "execution_count": null,
   "metadata": {
    "collapsed": false
   },
   "outputs": [],
   "source": [
    "calibration_data = []\n",
    "\n",
    "for distance in [0.2, 0.4, 0.6, 0.8, 1.0]:\n",
    "    robot.move(0.2, time_of_linear_movement(0.2, distance))\n",
    "    time.sleep(2)\n",
    "    odometry_data = get_odometry_data()\n",
    "    calibration_data.append([distance, average_tps_of_odom_data(odometry_data)])\n",
    "    \n",
    "calibration_data = np.array(calibration_data)"
   ]
  },
  {
   "cell_type": "code",
   "execution_count": null,
   "metadata": {
    "collapsed": false
   },
   "outputs": [],
   "source": [
    "odometry_data"
   ]
  },
  {
   "cell_type": "code",
   "execution_count": null,
   "metadata": {
    "collapsed": false
   },
   "outputs": [],
   "source": [
    "average_tps_of_odom_data(odometry_data)"
   ]
  },
  {
   "cell_type": "code",
   "execution_count": null,
   "metadata": {
    "collapsed": false
   },
   "outputs": [],
   "source": [
    "calibration_data"
   ]
  },
  {
   "cell_type": "code",
   "execution_count": null,
   "metadata": {
    "collapsed": false
   },
   "outputs": [],
   "source": [
    "plt.plot(calibration_data[:,0], calibration_data[:, 1])\n",
    "plt.show()"
   ]
  },
  {
   "cell_type": "code",
   "execution_count": null,
   "metadata": {
    "collapsed": false
   },
   "outputs": [],
   "source": [
    "m = (calibration_data[4, 1] - calibration_data[1,1]) / (calibration_data[4,0] - calibration_data[1,0])"
   ]
  },
  {
   "cell_type": "code",
   "execution_count": null,
   "metadata": {
    "collapsed": false
   },
   "outputs": [],
   "source": [
    "m"
   ]
  },
  {
   "cell_type": "code",
   "execution_count": null,
   "metadata": {
    "collapsed": false
   },
   "outputs": [],
   "source": [
    "calibration_data[4,1]"
   ]
  },
  {
   "cell_type": "code",
   "execution_count": null,
   "metadata": {
    "collapsed": true
   },
   "outputs": [],
   "source": [
    "b = calibration_data[4,1] - m*calibration_data[4,0]"
   ]
  },
  {
   "cell_type": "code",
   "execution_count": null,
   "metadata": {
    "collapsed": false
   },
   "outputs": [],
   "source": [
    "b"
   ]
  },
  {
   "cell_type": "code",
   "execution_count": null,
   "metadata": {
    "collapsed": true
   },
   "outputs": [],
   "source": [
    "m = m / 11724"
   ]
  },
  {
   "cell_type": "code",
   "execution_count": null,
   "metadata": {
    "collapsed": true
   },
   "outputs": [],
   "source": [
    "b = b / 11724"
   ]
  },
  {
   "cell_type": "code",
   "execution_count": null,
   "metadata": {
    "collapsed": false
   },
   "outputs": [],
   "source": [
    "m"
   ]
  },
  {
   "cell_type": "code",
   "execution_count": null,
   "metadata": {
    "collapsed": false
   },
   "outputs": [],
   "source": [
    "b"
   ]
  },
  {
   "cell_type": "code",
   "execution_count": null,
   "metadata": {
    "collapsed": false
   },
   "outputs": [],
   "source": [
    "m + b"
   ]
  },
  {
   "cell_type": "code",
   "execution_count": null,
   "metadata": {
    "collapsed": false
   },
   "outputs": [],
   "source": [
    "0.2 / (m + b)"
   ]
  },
  {
   "cell_type": "code",
   "execution_count": 2,
   "metadata": {
    "collapsed": false
   },
   "outputs": [],
   "source": [
    "odometer = sensors.OdometerTicksSensor()\n",
    "robot.add_sensor(odometer)"
   ]
  },
  {
   "cell_type": "code",
   "execution_count": 3,
   "metadata": {
    "collapsed": false,
    "scrolled": true
   },
   "outputs": [
    {
     "name": "stdout",
     "output_type": "stream",
     "text": [
      "(1476380994.9494517, 28003, 37636)\n",
      "(1476380995.9499204, 31693, 41376)\n",
      "(1476380996.9499848, 35516, 45243)\n",
      "(1476380997.9516714, 39458, 49218)\n",
      "(1476380998.951713, 43492, 53284)\n",
      "(1476380999.9529269, 47614, 57432)\n",
      "(1476381000.953964, 51802, 61648)\n",
      "(1476381001.9535997, 56052, 65923)\n",
      "(1476381002.9537857, 60358, 70252)\n",
      "(1476381003.9555862, 64710, 74627)\n",
      "(1476381004.9565277, 69084, 79043)\n",
      "(1476381005.955211, 73457, 83482)\n",
      "(1476381006.9567215, 77827, 87916)\n",
      "(1476381007.9571462, 82200, 92350)\n",
      "(1476381008.9571452, 86568, 96778)\n",
      "(1476381009.9587774, 90936, 101204)\n",
      "(1476381010.95861, 95299, 105628)\n",
      "(1476381011.9790132, 99746, 110136)\n"
     ]
    },
    {
     "ename": "KeyboardInterrupt",
     "evalue": "",
     "output_type": "error",
     "traceback": [
      "\u001B[0;31m---------------------------------------------------------------------------\u001B[0m",
      "\u001B[0;31mKeyboardInterrupt\u001B[0m                         Traceback (most recent call last)",
      "\u001B[0;32m<ipython-input-3-e16aaaab93c0>\u001B[0m in \u001B[0;36m<module>\u001B[0;34m()\u001B[0m\n\u001B[1;32m      2\u001B[0m \u001B[0;34m\u001B[0m\u001B[0m\n\u001B[1;32m      3\u001B[0m \u001B[0;32mwhile\u001B[0m \u001B[0;32mTrue\u001B[0m\u001B[0;34m:\u001B[0m\u001B[0;34m\u001B[0m\u001B[0m\n\u001B[0;32m----> 4\u001B[0;31m     \u001B[0mrobot\u001B[0m\u001B[0;34m.\u001B[0m\u001B[0mlinear_movement\u001B[0m\u001B[0;34m(\u001B[0m\u001B[0;36m0.4\u001B[0m\u001B[0;34m,\u001B[0m \u001B[0;36m1\u001B[0m\u001B[0;34m)\u001B[0m\u001B[0;34m\u001B[0m\u001B[0m\n\u001B[0m\u001B[1;32m      5\u001B[0m     \u001B[0mprint\u001B[0m\u001B[0;34m(\u001B[0m\u001B[0modometer\u001B[0m\u001B[0;34m.\u001B[0m\u001B[0mpeek_data\u001B[0m\u001B[0;34m(\u001B[0m\u001B[0;34m)\u001B[0m\u001B[0;34m)\u001B[0m\u001B[0;34m\u001B[0m\u001B[0m\n",
      "\u001B[0;32m/home/dlandry/repos/glo7021/robmob/robot.py\u001B[0m in \u001B[0;36mlinear_movement\u001B[0;34m(self, speed, duration)\u001B[0m\n\u001B[1;32m     63\u001B[0m \u001B[0;34m\u001B[0m\u001B[0m\n\u001B[1;32m     64\u001B[0m         \u001B[0mself\u001B[0m\u001B[0;34m.\u001B[0m\u001B[0msend_command\u001B[0m\u001B[0;34m(\u001B[0m\u001B[0mcommand\u001B[0m\u001B[0;34m)\u001B[0m\u001B[0;34m\u001B[0m\u001B[0m\n\u001B[0;32m---> 65\u001B[0;31m         \u001B[0mtime\u001B[0m\u001B[0;34m.\u001B[0m\u001B[0msleep\u001B[0m\u001B[0;34m(\u001B[0m\u001B[0mduration\u001B[0m\u001B[0;34m)\u001B[0m\u001B[0;34m\u001B[0m\u001B[0m\n\u001B[0m\u001B[1;32m     66\u001B[0m         \u001B[0mself\u001B[0m\u001B[0;34m.\u001B[0m\u001B[0msend_command\u001B[0m\u001B[0;34m(\u001B[0m\u001B[0mResetCommand\u001B[0m\u001B[0;34m(\u001B[0m\u001B[0;34m)\u001B[0m\u001B[0;34m)\u001B[0m\u001B[0;34m\u001B[0m\u001B[0m\n\u001B[1;32m     67\u001B[0m \u001B[0;34m\u001B[0m\u001B[0m\n",
      "\u001B[0;31mKeyboardInterrupt\u001B[0m: "
     ]
    }
   ],
   "source": [
    "\n",
    "\n",
    "while True:\n",
    "    robot.linear_movement(0.4, 1)\n",
    "    print(odometer.peek_data())"
   ]
  },
  {
   "cell_type": "code",
   "execution_count": null,
   "metadata": {
    "collapsed": false
   },
   "outputs": [],
   "source": [
    "odometer.base_left"
   ]
  },
  {
   "cell_type": "code",
   "execution_count": 4,
   "metadata": {
    "collapsed": true
   },
   "outputs": [],
   "source": [
    "robot.linear_movement(0.0, 0.0)"
   ]
  },
  {
   "cell_type": "code",
   "execution_count": null,
   "metadata": {
    "collapsed": true
   },
   "outputs": [],
   "source": []
  }
 ],
 "metadata": {
  "kernelspec": {
   "display_name": "Python 3",
   "language": "python",
   "name": "python3"
  },
  "language_info": {
   "codemirror_mode": {
    "name": "ipython",
    "version": 3
   },
   "file_extension": ".py",
   "mimetype": "text/x-python",
   "name": "python",
   "nbconvert_exporter": "python",
   "pygments_lexer": "ipython3",
   "version": "3.4.3"
  },
  "widgets": {
   "state": {},
   "version": "1.1.2"
  }
 },
 "nbformat": 4,
 "nbformat_minor": 0
}