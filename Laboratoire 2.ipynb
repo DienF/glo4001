{
 "cells": [
  {
   "cell_type": "markdown",
   "metadata": {},
   "source": [
    "# Laboratoire 2\n",
    "## Gyroscopes à taux (rate gyroscope)\n",
    "\n",
    "**Matériel nécessaire fourni** : table tournante, surface antidérapante,\n",
    "règle de 30 cm, masking tape, LEGOs inclinés.\n",
    "\n",
    "Ce laboratoire utilise le gyro embarqué du robot Kobuki. Il s'agit du STMicroelectronics [L3G4200D](http://www.st.com/content/ccc/resource/technical/document/datasheet/04/46/d6/00/be/d9/46/ae/CD00265057.pdf/files/CD00265057.pdf/jcr:content/translations/en.CD00265057.pdf).\n",
    "\n",
    "![img](img/gyro_schema.png)\n",
    "![img](img/gyro_datasheet.png)\n",
    "\n",
    "### Partie 1 - Familiarisation avec le capteur"
   ]
  },
  {
   "cell_type": "code",
   "execution_count": null,
   "metadata": {
    "collapsed": false
   },
   "outputs": [],
   "source": [
    "# Importation des modules\n",
    "\n",
    "%load_ext autoreload\n",
    "%autoreload 2\n",
    "%matplotlib inline\n",
    "\n",
    "import numpy as np\n",
    "import matplotlib.pyplot as plt\n",
    "from robmob.robot import Robot\n",
    "from robmob.sensors import GyroSensor\n",
    "from robmob.visualization import Visualizer"
   ]
  },
  {
   "cell_type": "markdown",
   "metadata": {},
   "source": [
    "Modifiez la valeur de `ip_robot` selon le robot qui vous a été assigné."
   ]
  },
  {
   "cell_type": "code",
   "execution_count": null,
   "metadata": {
    "collapsed": false
   },
   "outputs": [],
   "source": [
    "# Connexion au robot\n",
    "ip_robot = '192.168.0.100'\n",
    "robot = Robot(ip_robot)\n",
    "robot.connect()"
   ]
  },
  {
   "cell_type": "markdown",
   "metadata": {},
   "source": [
    "Il faut ensuite ajouter le gyroscope aux capteurs écoutés par le robot."
   ]
  },
  {
   "cell_type": "code",
   "execution_count": null,
   "metadata": {
    "collapsed": false
   },
   "outputs": [],
   "source": [
    "gyro = GyroSensor()\n",
    "robot.add_sensor(gyro)"
   ]
  },
  {
   "cell_type": "markdown",
   "metadata": {},
   "source": [
    "En guise de *sanity check*, le code suivant affiche la dernière mesure du gyro. Assurez-vous que le robot est immobile avant de prendre la mesure."
   ]
  },
  {
   "cell_type": "code",
   "execution_count": null,
   "metadata": {
    "collapsed": false
   },
   "outputs": [],
   "source": [
    "gyro.peek_data()"
   ]
  },
  {
   "cell_type": "markdown",
   "metadata": {},
   "source": [
    "Vous devriez remarquer qu'il y a passablement de bruit dans le capteur. Maintenant, installer le robot sur un plateau rotatif et faites le tourner à différentes vitesses. Remarquez le comportement de la mesure en z. Comment se comporte-t-elle à des vitesses de rotation plus élevées?\n",
    "\n",
    "Le code suivant affiche la mesure en temps réel. Appuyer deux fois sur la touche *i* ou appuyez sur le stop dans le haut de la page pour arrêter la boucle."
   ]
  },
  {
   "cell_type": "code",
   "execution_count": null,
   "metadata": {
    "collapsed": false
   },
   "outputs": [],
   "source": [
    "import time\n",
    "from IPython.display import clear_output\n",
    "\n",
    "while True:\n",
    "    mesure = gyro.peek_data()\n",
    "    clear_output(wait=True)\n",
    "    print(\"x: %0.10f deg/sec\" % mesure['x'])\n",
    "    print(\"y: %0.10f deg/sec\" % mesure['y'])\n",
    "    print(\"z: %0.10f deg/sec\" % mesure['z'])\n",
    "    time.sleep(0.05)"
   ]
  },
  {
   "cell_type": "markdown",
   "metadata": {},
   "source": [
    "> **NOTE** Selon la [documentation](http://kobuki.yujinrobot.com/wiki/gyro-details/) de la plateforme Kobuki, le gyroscope est utilisé en mode 250 dps."
   ]
  },
  {
   "cell_type": "markdown",
   "metadata": {},
   "source": [
    "### Partie 2 - Calibration du gyroscope\n",
    "Selon la datasheet, la valeur de DVoff, ou *digital zero-rate level*, se situe entre -10 et 10 dps. Autrement dit, lorsque la plateforme est immobile, la mesure ne sera pas zéro, mais se situera entre -10 et +10 degrés par seconde.\n",
    "\n",
    "\n",
    "Pour cette partie, laissez le robot immobile durant 30 secondes.\n",
    ">**Attention!** Accrocher, faire vibrer (ou même souffler!) sur le capteur faussera le résultat.\n"
   ]
  },
  {
   "cell_type": "code",
   "execution_count": null,
   "metadata": {
    "collapsed": false
   },
   "outputs": [],
   "source": [
    "samples = gyro.sample_data_for_x_sec(30) # samples a 3 colonnes: x, y et z\n",
    "z_samples = samples[:, 2]                # notation numpy pour toutes les lignes, colonne 2\n",
    "print(\"Dimension de z_samples: \", z_samples.shape)"
   ]
  },
  {
   "cell_type": "markdown",
   "metadata": {},
   "source": [
    "### Partie 3 - Intégration des mesures"
   ]
  },
  {
   "cell_type": "code",
   "execution_count": null,
   "metadata": {
    "collapsed": true
   },
   "outputs": [],
   "source": []
  },
  {
   "cell_type": "markdown",
   "metadata": {},
   "source": [
    "### Partie 4 - Influence de l'angle du gyroscope"
   ]
  },
  {
   "cell_type": "code",
   "execution_count": null,
   "metadata": {
    "collapsed": true
   },
   "outputs": [],
   "source": []
  },
  {
   "cell_type": "markdown",
   "metadata": {},
   "source": [
    "### Partie 5 -  Estimation de la dérive du gyroscope"
   ]
  },
  {
   "cell_type": "code",
   "execution_count": null,
   "metadata": {
    "collapsed": true
   },
   "outputs": [],
   "source": []
  },
  {
   "cell_type": "markdown",
   "metadata": {},
   "source": [
    "### Partie 6 – Création d’une carte de l’environnement"
   ]
  },
  {
   "cell_type": "code",
   "execution_count": null,
   "metadata": {
    "collapsed": true
   },
   "outputs": [],
   "source": []
  }
 ],
 "metadata": {
  "kernelspec": {
   "display_name": "Python 3",
   "language": "python",
   "name": "python3"
  },
  "language_info": {
   "codemirror_mode": {
    "name": "ipython",
    "version": 3
   },
   "file_extension": ".py",
   "mimetype": "text/x-python",
   "name": "python",
   "nbconvert_exporter": "python",
   "pygments_lexer": "ipython3",
   "version": "3.5.2"
  }
 },
 "nbformat": 4,
 "nbformat_minor": 0
}
