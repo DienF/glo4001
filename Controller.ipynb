{
 "cells": [
  {
   "cell_type": "markdown",
   "metadata": {},
   "source": [
    "**AVANT EXÉCUTION**\n",
    "\n",
    "Dans la racine du repo jupyter, lancer la commande suivante\n",
    "\n",
    "```\n",
    "$ jupyter nbextension enable --py widgetsnbextension --sys-prefix \n",
    "```\n",
    "\n",
    "Cette commande active une extension de jupyter qui permet d'écrire du javascript au sein d'un notebook IPython. Une fois cette commande exécutée, relancez jupyter au complet (pas seulement le kernel)."
   ]
  },
  {
   "cell_type": "code",
   "execution_count": 1,
   "metadata": {
    "collapsed": false
   },
   "outputs": [],
   "source": [
    "%autoreload 2\n",
    "\n",
    "from IPython.display import display\n",
    "from ipywidgets import widgets\n",
    "from robmob.robot import Robot\n",
    "from robmob.commands import *"
   ]
  },
  {
   "cell_type": "code",
   "execution_count": 2,
   "metadata": {
    "collapsed": false
   },
   "outputs": [],
   "source": [
    "# A bit of robot setup\n",
    "ip_robot = '192.168.0.105' # Entrez l'ip de votre robot ici. Validez deux fois! Ne vous trompez pas de robot...\n",
    "robot = Robot(ip_robot)\n",
    "robot.connect()"
   ]
  },
  {
   "cell_type": "code",
   "execution_count": 3,
   "metadata": {
    "collapsed": false
   },
   "outputs": [
    {
     "name": "stderr",
     "output_type": "stream",
     "text": [
      "The installed widget Javascript is the wrong version.\n",
      "The installed widget Javascript is the wrong version.\n"
     ]
    }
   ],
   "source": [
    "up = widgets.Button(description='Up')\n",
    "down = widgets.Button(description='Down')\n",
    "left = widgets.Button(description='Left')\n",
    "right = widgets.Button(description='Right')\n",
    "kill = widgets.Button(description='KILL', button_style='danger')\n",
    "\n",
    "\n",
    "display(widgets.HBox((left, widgets.VBox((up, down)), right)))\n",
    "display(kill)\n",
    "\n",
    "kill.on_click(lambda _: robot.send_command(ResetCommand()))\n",
    "up.on_click(lambda _: robot.send_command(MoveForwardCommand()))\n",
    "down.on_click(lambda _: robot.send_command(MoveBackwardCommand()))\n",
    "left.on_click(lambda _: robot.send_command(TurnLeftCommand()))\n",
    "right.on_click(lambda _: robot.send_command(TurnRightCommand()))"
   ]
  },
  {
   "cell_type": "code",
   "execution_count": null,
   "metadata": {
    "collapsed": true
   },
   "outputs": [],
   "source": []
  }
 ],
 "metadata": {
  "kernelspec": {
   "display_name": "Python 3",
   "language": "python",
   "name": "python3"
  },
  "language_info": {
   "codemirror_mode": {
    "name": "ipython",
    "version": 3
   },
   "file_extension": ".py",
   "mimetype": "text/x-python",
   "name": "python",
   "nbconvert_exporter": "python",
   "pygments_lexer": "ipython3",
   "version": "3.4.3"
  },
  "widgets": {
   "state": {
    "00226606997d46a09730c2a14021f52c": {
     "views": []
    },
    "01385c03dc9e4adda81100cd9b39084f": {
     "views": []
    },
    "02849e6902a54a10b3d9d378c12aa177": {
     "views": []
    },
    "267aba8254bb49389bdcc7c230b09f2e": {
     "views": []
    },
    "26e8a27c18994c49b05c9c8ddbf736fc": {
     "views": []
    },
    "272d0353300142b9ba83ab1879845028": {
     "views": []
    },
    "27634bb02f884e49ab63080581ba74ef": {
     "views": []
    },
    "279e174131bb4804a8dfd6a51466cb15": {
     "views": []
    },
    "2af85610a1b24a338616ab22be128be7": {
     "views": []
    },
    "3046fddfe8274b918fefa4079f30ff5a": {
     "views": []
    },
    "385b53d4f3a444e7ae23a93a6bacf573": {
     "views": []
    },
    "39b988323c4846fcab432400d3ebbf1a": {
     "views": []
    },
    "3b05df79175a4f4e9290e1ce55049a77": {
     "views": []
    },
    "3f3826d13d20483ca6b3525b2618a275": {
     "views": []
    },
    "44196b6c73c241aa9b6e9b32748e8617": {
     "views": []
    },
    "45d92e49bb77411b8a1d9a4289be58da": {
     "views": []
    },
    "4716693c92fc4e2d853b349615e9a38b": {
     "views": []
    },
    "483cd531fa864667a1c5403af59f6851": {
     "views": []
    },
    "4b7860bc50094028bb6c71e206e72a17": {
     "views": []
    },
    "51051031954a419894bcafc278adce1a": {
     "views": []
    },
    "56d5a4a782ec45b0969d25ff7d73107a": {
     "views": []
    },
    "5b90841280254b6c8a85d50dc6695bf4": {
     "views": [
      {
       "cell_index": 3
      }
     ]
    },
    "6205c972a7b54e5ca98d413e67ef7d03": {
     "views": []
    },
    "652c5a73d1d5432194867cc203a28b45": {
     "views": []
    },
    "66022fc3b654458eb8f5fcca8b0a7f2a": {
     "views": []
    },
    "6ccfef585f294eba9325f93822f48958": {
     "views": []
    },
    "738b6489bac54fb89c0949ab69c8448d": {
     "views": []
    },
    "75836714475149b1a06a2205879ab0e5": {
     "views": []
    },
    "791618ad7f9b4d8b83b5b569f8a687a4": {
     "views": [
      {
       "cell_index": 3
      }
     ]
    },
    "7cbb520f67ad4aa79f3592aa762b29fe": {
     "views": []
    },
    "81231f81251849459e37b14166a83d0d": {
     "views": []
    },
    "8139ab91926f47a98d8fd7dce13eda56": {
     "views": []
    },
    "83c616396f5c4806a5639c358a7773e0": {
     "views": []
    },
    "8c423a90ae9c4b6fbbcd18ce1141000e": {
     "views": []
    },
    "8cb6c9fab3e34b5ab4496d0f3e492026": {
     "views": []
    },
    "91c7a209f50b4dd3b8c69394c1db2dee": {
     "views": []
    },
    "9afb92a378de43b98264e0e7f97dbb41": {
     "views": []
    },
    "9b3aa31df93344d291168752f22daa29": {
     "views": []
    },
    "9ca432756f7b4703bacdda9ebe96ca43": {
     "views": []
    },
    "9f3b83e3073547c385c2a7645c690a78": {
     "views": []
    },
    "a2054801b425443799480b98f5ef599f": {
     "views": []
    },
    "a85ab31c713246c88e82f4fbc36e5e1b": {
     "views": []
    },
    "a87a5d6dc40549f0ac1c68ffa978f65c": {
     "views": []
    },
    "aac36ff09a8140328af1b1a386388d3b": {
     "views": []
    },
    "ac1818ff6281496e98610a895875ac94": {
     "views": []
    },
    "aedd40bce8114f7abad7e54fe0f54300": {
     "views": [
      {
       "cell_index": 3
      }
     ]
    },
    "bdd201be369649cf9c50442d97834c27": {
     "views": []
    },
    "c1804d9ea79e41ecb4167151ac73b9d5": {
     "views": []
    },
    "c1d7731e881c45d1a0e318f8e544138f": {
     "views": [
      {
       "cell_index": 3
      }
     ]
    },
    "c4be8fb74fdb42e5ba7f136646c85185": {
     "views": []
    },
    "ce7f42c3cdd1411a9a0c97cd7c1ff721": {
     "views": []
    },
    "d2ac6fbdbc0f48419f5eb3d29e16ff33": {
     "views": []
    },
    "e41e2af63fb14e0dac09f53e13f9ef2a": {
     "views": []
    },
    "e4bf4de2f77147288aa2a973a5e1128d": {
     "views": []
    },
    "e717791ca2ba4dfe8dbfa6d24883d7d4": {
     "views": [
      {
       "cell_index": 3
      }
     ]
    },
    "f233cff13f094a3fb3b810a376f7e5e7": {
     "views": []
    }
   },
   "version": "1.1.2"
  }
 },
 "nbformat": 4,
 "nbformat_minor": 0
}
