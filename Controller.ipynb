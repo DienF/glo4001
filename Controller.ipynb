{
 "cells": [
  {
   "cell_type": "code",
   "execution_count": 1,
   "metadata": {
    "collapsed": true
   },
   "outputs": [],
   "source": [
    "from IPython.display import display\n",
    "from ipywidgets import widgets"
   ]
  },
  {
   "cell_type": "code",
   "execution_count": 18,
   "metadata": {
    "collapsed": false
   },
   "outputs": [
    {
     "ename": "NameError",
     "evalue": "name 'up_on_click' is not defined",
     "output_type": "error",
     "traceback": [
      "\u001b[0;31m---------------------------------------------------------------------------\u001b[0m",
      "\u001b[0;31mNameError\u001b[0m                                 Traceback (most recent call last)",
      "\u001b[0;32m<ipython-input-18-a1cf1783baad>\u001b[0m in \u001b[0;36m<module>\u001b[0;34m()\u001b[0m\n\u001b[1;32m     13\u001b[0m \u001b[0;34m\u001b[0m\u001b[0m\n\u001b[1;32m     14\u001b[0m \u001b[0mkill\u001b[0m\u001b[0;34m.\u001b[0m\u001b[0mon_click\u001b[0m\u001b[0;34m(\u001b[0m\u001b[0mkill_on_click\u001b[0m\u001b[0;34m)\u001b[0m\u001b[0;34m\u001b[0m\u001b[0m\n\u001b[0;32m---> 15\u001b[0;31m \u001b[0mkill\u001b[0m\u001b[0;34m.\u001b[0m\u001b[0mon_click\u001b[0m\u001b[0;34m(\u001b[0m\u001b[0mup_on_click\u001b[0m\u001b[0;34m)\u001b[0m\u001b[0;34m\u001b[0m\u001b[0m\n\u001b[0m\u001b[1;32m     16\u001b[0m \u001b[0mkill\u001b[0m\u001b[0;34m.\u001b[0m\u001b[0mon_click\u001b[0m\u001b[0;34m(\u001b[0m\u001b[0mdown_on_click\u001b[0m\u001b[0;34m)\u001b[0m\u001b[0;34m\u001b[0m\u001b[0m\n\u001b[1;32m     17\u001b[0m \u001b[0mkill\u001b[0m\u001b[0;34m.\u001b[0m\u001b[0mon_click\u001b[0m\u001b[0;34m(\u001b[0m\u001b[0mleft_on_click\u001b[0m\u001b[0;34m)\u001b[0m\u001b[0;34m\u001b[0m\u001b[0m\n",
      "\u001b[0;31mNameError\u001b[0m: name 'up_on_click' is not defined"
     ]
    }
   ],
   "source": [
    "up = widgets.Button(description='Up')\n",
    "down = widgets.Button(description='Down')\n",
    "left = widgets.Button(description='Left')\n",
    "right = widgets.Button(description='Right')\n",
    "kill = widgets.Button(description='KILL')\n",
    "\n",
    "\n",
    "display(widgets.HBox((left, widgets.VBox((up, down)), right)))\n",
    "display(kill)\n",
    "\n",
    "def button_on_click(b):\n",
    "    print(b.description)\n",
    "\n",
    "kill.on_click(button_on_click)\n",
    "kill.on_click(button_on_click)\n",
    "kill.on_click(button_on_click)\n",
    "kill.on_click(button_on_click)\n",
    "kill.on_click(button_on_click)"
   ]
  },
  {
   "cell_type": "code",
   "execution_count": null,
   "metadata": {
    "collapsed": true
   },
   "outputs": [],
   "source": []
  }
 ],
 "metadata": {
  "kernelspec": {
   "display_name": "Python 3",
   "language": "python",
   "name": "python3"
  },
  "language_info": {
   "codemirror_mode": {
    "name": "ipython",
    "version": 3
   },
   "file_extension": ".py",
   "mimetype": "text/x-python",
   "name": "python",
   "nbconvert_exporter": "python",
   "pygments_lexer": "ipython3",
   "version": "3.5.1"
  },
  "widgets": {
   "state": {
    "04b741fc06554cd79c42a51d84a05c7c": {
     "views": [
      {
       "cell_index": 1
      }
     ]
    },
    "1088c26c42f7430daeb83b4bfa04e974": {
     "views": [
      {
       "cell_index": 1
      }
     ]
    },
    "1729dd26c20347bb87af4e3aa00dfd28": {
     "views": [
      {
       "cell_index": 1
      }
     ]
    },
    "26a91216f91b4f479f4557245da8b94b": {
     "views": [
      {
       "cell_index": 1
      }
     ]
    },
    "42be1f8b8d8a4b629f5492ba6f3bbca7": {
     "views": [
      {
       "cell_index": 1
      }
     ]
    },
    "7488d242553b4f4db45783cd11c302eb": {
     "views": [
      {
       "cell_index": 1
      }
     ]
    },
    "adab4c1fd20843ad9784c5675911d12d": {
     "views": [
      {
       "cell_index": 1
      }
     ]
    },
    "bf5de7fa5d7a47b3b83ee5eb24da1c18": {
     "views": [
      {
       "cell_index": 1
      }
     ]
    },
    "e2d84812a19d4976a5648dbe8bdec565": {
     "views": [
      {
       "cell_index": 1
      }
     ]
    },
    "f8fcb2b5b3da478a9d495987f13f7742": {
     "views": [
      {
       "cell_index": 1
      }
     ]
    },
    "fa59e7e5058d42bdbe406d42c5a29214": {
     "views": [
      {
       "cell_index": 1
      }
     ]
    }
   },
   "version": "1.2.0"
  }
 },
 "nbformat": 4,
 "nbformat_minor": 0
}
