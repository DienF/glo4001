{
 "cells": [
  {
   "cell_type": "markdown",
   "metadata": {},
   "source": [
    "**AVANT EXÉCUTION**\n",
    "\n",
    "Dans la racine du repo jupyter, lancer la commande suivante\n",
    "\n",
    "```\n",
    "$ jupyter nbextension enable --py widgetsnbextension --sys-prefix \n",
    "```\n",
    "\n",
    "Cette commande active une extension de jupyter qui permet d'écrire du javascript au sein d'un notebook IPython. Une fois cette commande exécutée, relancez jupyter au complet (pas seulement le kernel)."
   ]
  },
  {
   "cell_type": "code",
   "execution_count": 4,
   "metadata": {
    "collapsed": false
   },
   "outputs": [],
   "source": [
    "%autoreload 2\n",
    "\n",
    "from IPython.display import display\n",
    "from ipywidgets import widgets\n",
    "from robmob.robot import Robot\n",
    "from robmob.commands import *"
   ]
  },
  {
   "cell_type": "code",
   "execution_count": 5,
   "metadata": {
    "collapsed": false
   },
   "outputs": [],
   "source": [
    "# A bit of robot setup\n",
    "ip_robot = '192.168.0.100' # Entrez l'ip de votre robot ici. Validez deux fois! Ne vous trompez pas de robot...\n",
    "robot = Robot(ip_robot)\n",
    "robot.connect()"
   ]
  },
  {
   "cell_type": "code",
   "execution_count": 6,
   "metadata": {
    "collapsed": false
   },
   "outputs": [
    {
     "name": "stderr",
     "output_type": "stream",
     "text": [
      "The installed widget Javascript is the wrong version.\n",
      "The installed widget Javascript is the wrong version.\n"
     ]
    }
   ],
   "source": [
    "up = widgets.Button(description='Up')\n",
    "down = widgets.Button(description='Down')\n",
    "left = widgets.Button(description='Left')\n",
    "right = widgets.Button(description='Right')\n",
    "kill = widgets.Button(description='KILL', button_style='danger')\n",
    "\n",
    "\n",
    "display(widgets.HBox((left, widgets.VBox((up, down)), right)))\n",
    "display(kill)\n",
    "\n",
    "kill.on_click(lambda _: robot.send_command(ResetCommand()))\n",
    "up.on_click(lambda _: robot.send_command(MoveForwardCommand()))\n",
    "down.on_click(lambda _: robot.send_command(MoveBackwardCommand()))\n",
    "left.on_click(lambda _: robot.send_command(TurnLeftCommand()))\n",
    "right.on_click(lambda _: robot.send_command(TurnRightCommand()))"
   ]
  },
  {
   "cell_type": "code",
   "execution_count": null,
   "metadata": {
    "collapsed": true
   },
   "outputs": [],
   "source": []
  }
 ],
 "metadata": {
  "kernelspec": {
   "display_name": "Python 3",
   "language": "python",
   "name": "python3"
  },
  "language_info": {
   "codemirror_mode": {
    "name": "ipython",
    "version": 3
   },
   "file_extension": ".py",
   "mimetype": "text/x-python",
   "name": "python",
   "nbconvert_exporter": "python",
   "pygments_lexer": "ipython3",
   "version": "3.4.3"
  },
  "widgets": {
   "state": {
    "04e589c1625a4210bba1674e7598ef62": {
     "views": []
    },
    "090c57dd12624c5983f302c60b04982a": {
     "views": []
    },
    "22c17a92632a419cb4c9ab7d587aed7f": {
     "views": []
    },
    "269b9952f1db4d58ac6b5e6d0e53bf54": {
     "views": [
      {
       "cell_index": 2
      }
     ]
    },
    "2b985c5f0d984d478066e1463f438e5c": {
     "views": []
    },
    "3388fc103c714516a6773737cf159f79": {
     "views": []
    },
    "41ae50dd79a8487f88256631aad51054": {
     "views": []
    },
    "42644debed5f41f6a4f5efa1d82f0626": {
     "views": [
      {
       "cell_index": 3
      }
     ]
    },
    "4e44bea0f07d42b3a859954e51ab6715": {
     "views": []
    },
    "5a5d7c19935545488ab9c3cb4937fbce": {
     "views": []
    },
    "5ebd0ffccc164c45a9fb3f711a8e9906": {
     "views": []
    },
    "5f99cdab9d3b4baea303d0f8627df120": {
     "views": []
    },
    "604f56282ce44531b46404f37950f844": {
     "views": [
      {
       "cell_index": 3
      }
     ]
    },
    "629e8b1cc47548b1a4564e98b4369e55": {
     "views": []
    },
    "71141e1f775241a6aa2038baf613b94b": {
     "views": []
    },
    "8587778281c04df3b6de633bc49d00b0": {
     "views": []
    },
    "8d7a6e0e9bc34cdd8b0a15fd9901c9cc": {
     "views": []
    },
    "8e87a9a39c244d04835e5457364a9ef3": {
     "views": []
    },
    "a8bc69886ce748cfad83ccd579dab2be": {
     "views": []
    },
    "b0e265f3bcbd4fcfadb606281bebcf4c": {
     "views": []
    },
    "baf145e2a08f480f9536ba9e18eeade1": {
     "views": []
    },
    "c44c14e2b2c045ff9c11d8c0a6ae2143": {
     "views": []
    },
    "c5d8fa93642d43a69c04c56a3b26678b": {
     "views": []
    },
    "ca71e47b07d04510921d184c47e31d51": {
     "views": []
    },
    "d722751e6f3146ba9b74c22accdbff2f": {
     "views": []
    },
    "e2274ac11c5f4ef396363e443e6a2c0b": {
     "views": []
    },
    "e70892f9f23c41df87684f30639364c6": {
     "views": []
    },
    "e7ce44bc02d247e195c177d8bbc2ba23": {
     "views": []
    }
   },
   "version": "1.1.2"
  }
 },
 "nbformat": 4,
 "nbformat_minor": 0
}
