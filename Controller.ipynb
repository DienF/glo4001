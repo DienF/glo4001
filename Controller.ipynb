{
 "cells": [
  {
   "cell_type": "code",
   "execution_count": null,
   "metadata": {
    "collapsed": false
   },
   "outputs": [],
   "source": [
    "%autoreload 2\n",
    "\n",
    "from IPython.display import display\n",
    "from ipywidgets import widgets\n",
    "from robot import Robot\n",
    "from commands import *"
   ]
  },
  {
   "cell_type": "code",
   "execution_count": null,
   "metadata": {
    "collapsed": false
   },
   "outputs": [],
   "source": [
    "# A bit of robot setup\n",
    "ip_robot = '192.168.0.100'\n",
    "robot = Robot(ip_robot)\n",
    "robot.connect()"
   ]
  },
  {
   "cell_type": "code",
   "execution_count": null,
   "metadata": {
    "collapsed": false
   },
   "outputs": [],
   "source": [
    "up = widgets.Button(description='Up')\n",
    "down = widgets.Button(description='Down')\n",
    "left = widgets.Button(description='Left')\n",
    "right = widgets.Button(description='Right')\n",
    "kill = widgets.Button(description='KILL', button_style='danger')\n",
    "\n",
    "\n",
    "display(widgets.HBox((left, widgets.VBox((up, down)), right)))\n",
    "display(kill)\n",
    "\n",
    "kill.on_click(lambda _: robot.send_command(ResetCommand()))\n",
    "up.on_click(lambda _: robot.send_command(MoveForwardCommand()))\n",
    "down.on_click(lambda _: robot.send_command(MoveBackwardCommand()))\n",
    "left.on_click(lambda _: robot.send_command(TurnLeftCommand()))\n",
    "right.on_click(lambda _: robot.send_command(TurnRightCommand()))"
   ]
  },
  {
   "cell_type": "code",
   "execution_count": null,
   "metadata": {
    "collapsed": true
   },
   "outputs": [],
   "source": []
  }
 ],
 "metadata": {
  "kernelspec": {
   "display_name": "Python 3",
   "language": "python",
   "name": "python3"
  },
  "language_info": {
   "codemirror_mode": {
    "name": "ipython",
    "version": 3
   },
   "file_extension": ".py",
   "mimetype": "text/x-python",
   "name": "python",
   "nbconvert_exporter": "python",
   "pygments_lexer": "ipython3",
   "version": "3.5.1"
  },
  "widgets": {
   "state": {
    "0e26abb83827411a983e4a33f68fd0f2": {
     "views": [
      {
       "cell_index": 3
      }
     ]
    },
    "13b416d98db84585909c7a576ede3924": {
     "views": [
      {
       "cell_index": 2
      }
     ]
    },
    "2d998d92e3904fbc88c324b637b6a7d1": {
     "views": [
      {
       "cell_index": 3
      }
     ]
    },
    "389163a2843c4b8092e8107af479e7c1": {
     "views": [
      {
       "cell_index": 2
      }
     ]
    },
    "553d23fd202a4cb3a8a198c2b067a8e3": {
     "views": [
      {
       "cell_index": 2
      }
     ]
    },
    "613fa73b5aef4003899d99cc53609c0f": {
     "views": [
      {
       "cell_index": 3
      }
     ]
    },
    "7b9af1b74e984283961988098150fa4f": {
     "views": [
      {
       "cell_index": 2
      }
     ]
    },
    "8b1d62f7b15b45138d30d10ecc4579f3": {
     "views": [
      {
       "cell_index": 2
      }
     ]
    },
    "e3288e144b4d48ca8fcc5785c97afb3e": {
     "views": [
      {
       "cell_index": 2
      }
     ]
    }
   },
   "version": "1.2.0"
  }
 },
 "nbformat": 4,
 "nbformat_minor": 0
}
