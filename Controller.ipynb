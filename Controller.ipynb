{
 "cells": [
  {
   "cell_type": "markdown",
   "metadata": {},
   "source": [
    "**AVANT EXÉCUTION**\n",
    "\n",
    "Au même endroit où vous lancez habituellement la commande `jupyter notebook`, exécutez la commande suivante.\n",
    "\n",
    "```\n",
    "$ jupyter nbextension enable --py widgetsnbextension --sys-prefix \n",
    "```\n",
    "\n",
    "Cette commande active une extension de jupyter qui permet d'écrire du javascript au sein d'un notebook IPython. Une fois cette commande exécutée, relancez jupyter au complet (pas seulement le kernel)."
   ]
  },
  {
   "cell_type": "code",
   "execution_count": 1,
   "metadata": {
    "collapsed": false
   },
   "outputs": [],
   "source": [
    "from IPython.display import display\n",
    "from ipywidgets import widgets\n",
    "from robmob.robot import Robot\n",
    "from robmob.commands import *"
   ]
  },
  {
   "cell_type": "code",
   "execution_count": 2,
   "metadata": {
    "collapsed": false
   },
   "outputs": [],
   "source": [
    "# A bit of robot setup\n",
    "ip_robot = '192.168.0.108' # Entrez l'ip de votre robot ici. Validez deux fois! Ne vous trompez pas de robot...\n",
    "robot = Robot(ip_robot)\n",
    "robot.connect()"
   ]
  },
  {
   "cell_type": "code",
   "execution_count": 3,
   "metadata": {
    "collapsed": false
   },
   "outputs": [
    {
     "name": "stderr",
     "output_type": "stream",
     "text": [
      "The installed widget Javascript is the wrong version.\n",
      "The installed widget Javascript is the wrong version.\n"
     ]
    }
   ],
   "source": [
    "up = widgets.Button(description='Up')\n",
    "down = widgets.Button(description='Down')\n",
    "left = widgets.Button(description='Left')\n",
    "right = widgets.Button(description='Right')\n",
    "kill = widgets.Button(description='KILL', button_style='danger')\n",
    "\n",
    "\n",
    "display(widgets.HBox((left, widgets.VBox((up, down)), right)))\n",
    "display(kill)\n",
    "\n",
    "kill.on_click(lambda _: robot.send_command(ResetCommand()))\n",
    "up.on_click(lambda _: robot.send_command(MoveForwardCommand()))\n",
    "down.on_click(lambda _: robot.send_command(MoveBackwardCommand()))\n",
    "left.on_click(lambda _: robot.send_command(TurnLeftCommand()))\n",
    "right.on_click(lambda _: robot.send_command(TurnRightCommand()))"
   ]
  },
  {
   "cell_type": "code",
   "execution_count": null,
   "metadata": {
    "collapsed": true
   },
   "outputs": [],
   "source": []
  }
 ],
 "metadata": {
  "kernelspec": {
   "display_name": "Python 3",
   "language": "python",
   "name": "python3"
  },
  "language_info": {
   "codemirror_mode": {
    "name": "ipython",
    "version": 3
   },
   "file_extension": ".py",
   "mimetype": "text/x-python",
   "name": "python",
   "nbconvert_exporter": "python",
   "pygments_lexer": "ipython3",
   "version": "3.4.3"
  },
  "widgets": {
   "state": {
    "0304e02f3e6e43258961d33fb879ca65": {
     "views": []
    },
    "1a888382e62a45dcb97ec0541ae6e191": {
     "views": []
    },
    "216410fb63104abaa1e7a52bf813dc71": {
     "views": []
    },
    "2e5e840880154833bf5de2c215048a8e": {
     "views": []
    },
    "2f3e5e7faa49411abbddef538f9f64b1": {
     "views": []
    },
    "3914d3bd009249aeb22f0d37eb44f47e": {
     "views": [
      {
       "cell_index": 3
      }
     ]
    },
    "3d293289537849e99e160cd3ca4db149": {
     "views": []
    },
    "3da973ffe3784556abbf23b7fab5322d": {
     "views": []
    },
    "417730d8f6ec46f8bd9b5bb064033086": {
     "views": []
    },
    "46099caf47ff41ccaa07b48963a7927d": {
     "views": []
    },
    "49a7db4c4a514f63b21ead1c80325aaf": {
     "views": []
    },
    "4be029de492b4049957fa6da07bae799": {
     "views": []
    },
    "4d5f07ea3d2d480b81333fc91f645e66": {
     "views": []
    },
    "587193c3e784482ba5cb7e09b3e208de": {
     "views": []
    },
    "59da77701b7b4b07ac7f2d2c12275259": {
     "views": []
    },
    "5b67963f13f64eb584262ff2241f281d": {
     "views": []
    },
    "65c2493805834bef852992ababb14a24": {
     "views": [
      {
       "cell_index": 3
      }
     ]
    },
    "6a683b34166d45bf9b5acebb2ad51f8e": {
     "views": [
      {
       "cell_index": 3
      }
     ]
    },
    "7da988cd4098409cb594db7c0f8cf668": {
     "views": []
    },
    "7edceca56ecc48698eb5217efa04c979": {
     "views": []
    },
    "7fd956db1b13455aafbcd9a4f58c5a5e": {
     "views": []
    },
    "8d99a664f00b4851adf9de50f9c69f13": {
     "views": []
    },
    "a7b9ac4f4171478b94566178d36137b5": {
     "views": []
    },
    "b733b8fd97594fcbb8a8983bbcd7342a": {
     "views": []
    },
    "cbae17ccc2a64e33a11b60753a28188a": {
     "views": []
    },
    "e3907f8e8e164c848f504b37801b3ebe": {
     "views": []
    },
    "e9945365dd8b4f04886ea7a70866f701": {
     "views": []
    },
    "fcaf0440b0d34a9998152add22f3beec": {
     "views": []
    }
   },
   "version": "1.1.2"
  }
 },
 "nbformat": 4,
 "nbformat_minor": 0
}
