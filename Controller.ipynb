{
 "cells": [
  {
   "cell_type": "markdown",
   "metadata": {},
   "source": [
    "**AVANT EXÉCUTION**\n",
    "\n",
    "Au même endroit où vous lancez habituellement la commande `jupyter notebook`, exécutez la commande suivante.\n",
    "\n",
    "```\n",
    "$ jupyter nbextension enable --py widgetsnbextension --sys-prefix \n",
    "```\n",
    "\n",
    "Cette commande active une extension de jupyter qui permet d'écrire du javascript au sein d'un notebook IPython. Une fois cette commande exécutée, relancez jupyter au complet (pas seulement le kernel)."
   ]
  },
  {
   "cell_type": "code",
   "execution_count": null,
   "metadata": {
    "collapsed": false
   },
   "outputs": [],
   "source": [
    "%autoreload 2\n",
    "\n",
    "from IPython.display import display\n",
    "from ipywidgets import widgets\n",
    "from robmob.robot import Robot\n",
    "from robmob.commands import *"
   ]
  },
  {
   "cell_type": "code",
   "execution_count": null,
   "metadata": {
    "collapsed": false
   },
   "outputs": [],
   "source": [
    "# A bit of robot setup\n",
    "ip_robot = '192.168.0.105' # Entrez l'ip de votre robot ici. Validez deux fois! Ne vous trompez pas de robot...\n",
    "robot = Robot(ip_robot)\n",
    "robot.connect()"
   ]
  },
  {
   "cell_type": "code",
   "execution_count": null,
   "metadata": {
    "collapsed": false
   },
   "outputs": [],
   "source": [
    "up = widgets.Button(description='Up')\n",
    "down = widgets.Button(description='Down')\n",
    "left = widgets.Button(description='Left')\n",
    "right = widgets.Button(description='Right')\n",
    "kill = widgets.Button(description='KILL', button_style='danger')\n",
    "\n",
    "\n",
    "display(widgets.HBox((left, widgets.VBox((up, down)), right)))\n",
    "display(kill)\n",
    "\n",
    "kill.on_click(lambda _: robot.send_command(ResetCommand()))\n",
    "up.on_click(lambda _: robot.send_command(MoveForwardCommand()))\n",
    "down.on_click(lambda _: robot.send_command(MoveBackwardCommand()))\n",
    "left.on_click(lambda _: robot.send_command(TurnLeftCommand()))\n",
    "right.on_click(lambda _: robot.send_command(TurnRightCommand()))"
   ]
  },
  {
   "cell_type": "code",
   "execution_count": null,
   "metadata": {
    "collapsed": true
   },
   "outputs": [],
   "source": []
  }
 ],
 "metadata": {
  "kernelspec": {
   "display_name": "Python 3",
   "language": "python",
   "name": "python3"
  },
  "language_info": {
   "codemirror_mode": {
    "name": "ipython",
    "version": 3
   },
   "file_extension": ".py",
   "mimetype": "text/x-python",
   "name": "python",
   "nbconvert_exporter": "python",
   "pygments_lexer": "ipython3",
   "version": "3.4.3"
  },
  "widgets": {
   "state": {
    "01b7ece3b5b944c6bf1e55a635ebb472": {
     "views": []
    },
    "0f50153960d84ab3ade2e988ec68583a": {
     "views": []
    },
    "11935a08251c4bec96c555fd42c693bb": {
     "views": []
    },
    "1674060863af4a55afa0315fca2de88e": {
     "views": []
    },
    "1a48505135524db487c5e8b33540f476": {
     "views": []
    },
    "1e60b3dada924cd08da1838bc8d97b47": {
     "views": [
      {
       "cell_index": 3
      }
     ]
    },
    "228e79ebc4144a8caab66a33c90d33fe": {
     "views": []
    },
    "236efcc96e8544f5b375a2da70c92b36": {
     "views": []
    },
    "23b27aa61ff64a0fb8846562455f7b58": {
     "views": []
    },
    "23dba6a11bf64ba9b859f460ef319cb4": {
     "views": []
    },
    "24d47ed967d94d4db7209163163e3043": {
     "views": []
    },
    "26477bc9f04c4445bd85486a1bad949a": {
     "views": [
      {
       "cell_index": 3
      }
     ]
    },
    "296609548b644160aad7dd389d2bb6d1": {
     "views": []
    },
    "2b2dd94ad7524ab09196709b4bdaff81": {
     "views": []
    },
    "2dac5d208d784e49b24574cc75b7b005": {
     "views": []
    },
    "2e25101ac6ea4649807c4fe5f7c5a661": {
     "views": []
    },
    "33ce145083714cf5a405870b79193f86": {
     "views": []
    },
    "35add66f0a0f4820a680cfac1ef761d5": {
     "views": []
    },
    "38d0fbcc9e944abebd89f4852e857cc5": {
     "views": []
    },
    "3b852c6733274838bb467eccac0a1417": {
     "views": []
    },
    "43f421feffb842dca8779b092b75e8b3": {
     "views": []
    },
    "45dda67bdea74f688f357cff93c64cd3": {
     "views": []
    },
    "47546c5d7129486d867ac965edf59bfc": {
     "views": []
    },
    "4b65ae821e4646719ed0b22634736dc7": {
     "views": []
    },
    "4e8d992323b04079a951b817698890e7": {
     "views": []
    },
    "4f96a82c53f54e829c7a0818e1db9d00": {
     "views": []
    },
    "50c667d20f714a6d90c025a1cfaad8fc": {
     "views": []
    },
    "54a1ab2df1664c93a5031ef114bafc7b": {
     "views": []
    },
    "5520a21495c4448abde0e5957564b0f8": {
     "views": []
    },
    "558bc144177041c094a5a7573e5d54a8": {
     "views": []
    },
    "5be900b36c524714a5a6aa11e62a644b": {
     "views": []
    },
    "5ebd7cdd236c4c31a91bcc91a7c31134": {
     "views": []
    },
    "6010a4e853aa430abb108e80201a0e29": {
     "views": [
      {
       "cell_index": 3
      }
     ]
    },
    "6463b54bf5554e448731ce06869d4f34": {
     "views": []
    },
    "65e92a5a86af461890a891fd3e0afbf4": {
     "views": []
    },
    "6d71dc358a9f4601a9a15536781bfc78": {
     "views": []
    },
    "6ec9c3600fe147a5891da31c93716480": {
     "views": []
    },
    "6f4c2f60eafa4656bc51af90d394d931": {
     "views": []
    },
    "702a5db018434a57bd22719b97f25e3d": {
     "views": []
    },
    "7121f185383e4652ab293936e960d30c": {
     "views": []
    },
    "7270a91fa2e5489cba6f0a8657d741f9": {
     "views": []
    },
    "742b37ccdc8f421680b9284abde45734": {
     "views": []
    },
    "756b14719baa466fa27b40769b6fbb7a": {
     "views": [
      {
       "cell_index": 3
      }
     ]
    },
    "7e1728168a49428089d73d5fb59a711b": {
     "views": []
    },
    "7eb0f99d67254768b927beb4632bafff": {
     "views": []
    },
    "8340432bb466441db535a3d26f99efa2": {
     "views": []
    },
    "87af786586374be1ab10eb8fc6d36eed": {
     "views": []
    },
    "8f2ffc7da78d4a24897cc3ecbe726703": {
     "views": []
    },
    "949883782423470d8680e8561dada24d": {
     "views": []
    },
    "94de11fa20464c6ea8fd833c49a80d54": {
     "views": []
    },
    "978c84e410c944ae80ad7e2186a867e6": {
     "views": []
    },
    "97add1567a6c46acae5d9e6f950981e1": {
     "views": []
    },
    "9976844e737c4eb59a2c727455979a2f": {
     "views": [
      {
       "cell_index": 3
      }
     ]
    },
    "99ff94a19b784dacbfd787d023fb90f1": {
     "views": []
    },
    "a444358b8790492eab7c39e42c43438d": {
     "views": []
    },
    "a6d13686980b48bf8627ba2360ebe4ee": {
     "views": []
    },
    "a895af123b3e44b88ece292bea6f7344": {
     "views": []
    },
    "a999173c25dc46308437e50188a5e932": {
     "views": []
    },
    "ac216510f67b4b4a9eab07cdf61513fd": {
     "views": []
    },
    "ac5db6ed8b9e4f858f6347f72d7692da": {
     "views": []
    },
    "ace1f7b5d9c8495faee2e8dfbb436290": {
     "views": []
    },
    "af1faf3a3e6f47619cfeb6bf19fcd307": {
     "views": []
    },
    "b03a0c26045a48cf8e1cfcadc38aa95b": {
     "views": []
    },
    "b691377e0f144dd0a650cea64f46add3": {
     "views": []
    },
    "bba4dc8cea564ac89be3c709388b5053": {
     "views": []
    },
    "bbc1783730e648f098fb953df7f1cd9e": {
     "views": []
    },
    "bcc591ff2b524dbcb6a32995c6510086": {
     "views": []
    },
    "bccfa8cb3c58433b8b90c2c2522d1b9f": {
     "views": []
    },
    "be76e517dd034837950a042686e6a612": {
     "views": []
    },
    "bf2405e18557442185750801beebdbd2": {
     "views": []
    },
    "c4ad80da7bcc4265945b024d8fa4d061": {
     "views": []
    },
    "c582613e55d64a2b90a540db786cb935": {
     "views": []
    },
    "cac30ea22e6f4dae83b5b407c8b3c255": {
     "views": []
    },
    "cb04e0f0eb73427aa49e4a16e8493fe4": {
     "views": []
    },
    "d3046df5d09a46fbadc3221e8d23ca04": {
     "views": []
    },
    "d469b9d613894565b17d1b5ce31fd11a": {
     "views": []
    },
    "d49e467afc1a47999f9393620e6a2718": {
     "views": []
    },
    "d6800ce504c34173aa4c7679b9bdb9a8": {
     "views": []
    },
    "d71996eb535e44709bee877c7d221aec": {
     "views": []
    },
    "d81b589d41944ddca792dc0ad4cd64a4": {
     "views": []
    },
    "d9cce83762cf44429990a8e89eaac598": {
     "views": []
    },
    "dc4b65af90f042f0b5a02d6bf08be2d7": {
     "views": []
    },
    "df89ce06ea9745b59b679ef2706d2626": {
     "views": []
    },
    "e03152e5bebe4d6bab292c09b8c1be56": {
     "views": []
    },
    "e0dfa505380d480585fcc02ca8a99bf5": {
     "views": []
    },
    "e1d1d993321e459f93291acc33893201": {
     "views": []
    },
    "e3279653b0f542ae82625d522217a3eb": {
     "views": []
    },
    "e503ef7f77794d4dbe9009c5b39bb36d": {
     "views": [
      {
       "cell_index": 3
      }
     ]
    },
    "e557f43128ed4ed98870d9451f707c83": {
     "views": []
    },
    "eafc2ef458a347c6874875c9e8eb606b": {
     "views": []
    },
    "eb1478795a844f67a2218a7d82f3a4c3": {
     "views": []
    },
    "eb2bdf4afea84ab7bb63a7abbd3e3ac8": {
     "views": []
    },
    "f0dd0d79fa0648268242f718d5857616": {
     "views": []
    },
    "f3a0975ce728404199988ab1d693d2e2": {
     "views": []
    },
    "f6f691ee50ff4aa8a24f2a26c89224a3": {
     "views": [
      {
       "cell_index": 3
      }
     ]
    },
    "f96c808e023c4fabb43dbb61541f2830": {
     "views": []
    },
    "fbb39dfa23fb43d1822a4eececbfb555": {
     "views": []
    },
    "fd10cbb74e544eecb65761de6fda1b2b": {
     "views": []
    }
   },
   "version": "1.1.2"
  }
 },
 "nbformat": 4,
 "nbformat_minor": 0
}
