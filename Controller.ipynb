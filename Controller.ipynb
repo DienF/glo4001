{
 "cells": [
  {
   "cell_type": "markdown",
   "metadata": {},
   "source": [
    "**AVANT EXÉCUTION**\n",
    "\n",
    "Au même endroit où vous lancez habituellement la commande `jupyter notebook`, exécutez la commande suivante.\n",
    "\n",
    "```\n",
    "$ jupyter nbextension enable --py widgetsnbextension --sys-prefix \n",
    "```\n",
    "\n",
    "Cette commande active une extension de jupyter qui permet d'écrire du javascript au sein d'un notebook IPython. Une fois cette commande exécutée, relancez jupyter au complet (pas seulement le kernel)."
   ]
  },
  {
   "cell_type": "code",
   "execution_count": null,
   "metadata": {
    "collapsed": false
   },
   "outputs": [],
   "source": [
    "from IPython.display import display\n",
    "from ipywidgets import widgets\n",
    "from robmob.robot import Robot\n",
    "from robmob.commands import *"
   ]
  },
  {
   "cell_type": "code",
   "execution_count": null,
   "metadata": {
    "collapsed": false
   },
   "outputs": [],
   "source": [
    "# A bit of robot setup\n",
    "ip_robot = '192.168.0.108' # Entrez l'ip de votre robot ici. Validez deux fois! Ne vous trompez pas de robot...\n",
    "robot = Robot(ip_robot)\n",
    "robot.connect()"
   ]
  },
  {
   "cell_type": "code",
   "execution_count": null,
   "metadata": {
    "collapsed": false
   },
   "outputs": [],
   "source": [
    "up = widgets.Button(description='Up')\n",
    "down = widgets.Button(description='Down')\n",
    "left = widgets.Button(description='Left')\n",
    "right = widgets.Button(description='Right')\n",
    "kill = widgets.Button(description='KILL', button_style='danger')\n",
    "\n",
    "\n",
    "display(widgets.HBox((left, widgets.VBox((up, down)), right)))\n",
    "display(kill)\n",
    "\n",
    "kill.on_click(lambda _: robot.send_command(ResetCommand()))\n",
    "up.on_click(lambda _: robot.send_command(MoveForwardCommand()))\n",
    "down.on_click(lambda _: robot.send_command(MoveBackwardCommand()))\n",
    "left.on_click(lambda _: robot.send_command(TurnLeftCommand()))\n",
    "right.on_click(lambda _: robot.send_command(TurnRightCommand()))"
   ]
  },
  {
   "cell_type": "code",
   "execution_count": null,
   "metadata": {
    "collapsed": true
   },
   "outputs": [],
   "source": []
  }
 ],
 "metadata": {
  "kernelspec": {
   "display_name": "Python 3",
   "language": "python",
   "name": "python3"
  },
  "language_info": {
   "codemirror_mode": {
    "name": "ipython",
    "version": 3
   },
   "file_extension": ".py",
   "mimetype": "text/x-python",
   "name": "python",
   "nbconvert_exporter": "python",
   "pygments_lexer": "ipython3",
   "version": "3.4.3"
  },
  "widgets": {
   "state": {
    "0170204d8c8848f6a1397b0396c00003": {
     "views": []
    },
    "017f9f079fb5442c9885c0da28716013": {
     "views": []
    },
    "01bd11e836014e77b144353d372c889d": {
     "views": []
    },
    "0a5aa0eba85944d6975d30a8d07a11ed": {
     "views": []
    },
    "0b9e0eea3d7c4af4a350a6ffddfa0545": {
     "views": []
    },
    "19202b2bb6c24dae91bae47fff2185f3": {
     "views": []
    },
    "2083700ba16042b399f3bb1bd52fe90c": {
     "views": []
    },
    "23d266fd1c844efd85a7be346d8a2e5e": {
     "views": [
      {
       "cell_index": 3
      }
     ]
    },
    "25ebf21e757a4de0b96606aa0d24a871": {
     "views": [
      {
       "cell_index": 3
      }
     ]
    },
    "2d0fb29e840241e9904ec13d2eb2c7ac": {
     "views": []
    },
    "2f17e91b5050402d98c718e83ec1ce31": {
     "views": []
    },
    "3f9c120b2c1847bfac523b3a35fb4fa9": {
     "views": []
    },
    "421b404da5644f1dae26fd990222c13b": {
     "views": []
    },
    "42a8d42bb0624f4394ed343c9983d138": {
     "views": []
    },
    "4bcea5b694ec455890ee36b38dc3aaeb": {
     "views": []
    },
    "5d6f4548900041878fc5eaac732ce472": {
     "views": []
    },
    "6016953906c84a4d8e8db82c70639165": {
     "views": []
    },
    "67337722133b4bbcb314052dedcb2ead": {
     "views": []
    },
    "728966da9c194474b2872c0ea131e875": {
     "views": []
    },
    "7438824780e34fcd9f00f25b99d013b1": {
     "views": []
    },
    "7a27442b0f184aefa2370c4361a5051c": {
     "views": []
    },
    "80803852ed3e49beb3eb492f4abfcfc4": {
     "views": []
    },
    "948895e2095546de9d4d51c34639dc05": {
     "views": []
    },
    "994a7260c4f64cd1b47b555003a45ce7": {
     "views": []
    },
    "9acf7d0f116047578a1e9f9eb8a05677": {
     "views": []
    },
    "a1508ce4dac74639b15d51e862e30259": {
     "views": []
    },
    "a3f4108a9dae46e4937e2fb1b62a6ab0": {
     "views": []
    },
    "a53a8da1f283497d8a09f952590e7123": {
     "views": []
    },
    "a6a1ea81383b41c8a1ca980bdc5189f5": {
     "views": []
    },
    "b0693f063dd3455da315a51b91055162": {
     "views": []
    },
    "b18a5971b1b240e0a34d897f07f5d2d7": {
     "views": []
    },
    "b9708796f7764d0b8f2d8ca1a655fd4e": {
     "views": []
    },
    "bc7aafdb9db9485fa139976c9619a31b": {
     "views": []
    },
    "cc474c1783af4e4daa60d51c3aa33eb7": {
     "views": []
    },
    "d6c20927d3f44b5faed230d1d497a05e": {
     "views": [
      {
       "cell_index": 3
      }
     ]
    },
    "dba9b3726dcb40849c8fea68ab0e99e2": {
     "views": []
    },
    "dcdd8dc048f4473a8d472f86a9db24d1": {
     "views": []
    },
    "e462c62f22f848f1b0baee7fe8489de3": {
     "views": []
    },
    "ea975af07d19467f916189812ad64f28": {
     "views": []
    },
    "ed552c4a5a37474daf658c720d719727": {
     "views": [
      {
       "cell_index": 3
      }
     ]
    },
    "edd0e08f706b4eafa82c682b7fc8709a": {
     "views": []
    },
    "fb7cfe16ff374f2c9429c63a0339d99e": {
     "views": []
    }
   },
   "version": "1.1.2"
  }
 },
 "nbformat": 4,
 "nbformat_minor": 0
}
