{
 "cells": [
  {
   "cell_type": "markdown",
   "metadata": {},
   "source": [
    "**AVANT EXÉCUTION**\n",
    "\n",
    "Dans la racine du repo jupyter, lancer la commande suivante\n",
    "\n",
    "```\n",
    "$ jupyter nbextension enable --py widgetsnbextension --sys-prefix \n",
    "```\n",
    "\n",
    "Cette commande active une extension de jupyter qui permet d'écrire du javascript au sein d'un notebook IPython. Une fois cette commande exécutée, relancez jupyter au complet (pas seulement le kernel)."
   ]
  },
  {
   "cell_type": "code",
   "execution_count": 4,
   "metadata": {
    "collapsed": false
   },
   "outputs": [],
   "source": [
    "%autoreload 2\n",
    "\n",
    "from IPython.display import display\n",
    "from ipywidgets import widgets\n",
    "from robmob.robot import Robot\n",
    "from robmob.commands import *"
   ]
  },
  {
   "cell_type": "code",
   "execution_count": 5,
   "metadata": {
    "collapsed": false
   },
   "outputs": [],
   "source": [
    "# A bit of robot setup\n",
    "ip_robot = '192.168.0.100' # Entrez l'ip de votre robot ici. Validez deux fois! Ne vous trompez pas de robot...\n",
    "robot = Robot(ip_robot)\n",
    "robot.connect()"
   ]
  },
  {
   "cell_type": "code",
   "execution_count": 6,
   "metadata": {
    "collapsed": false
   },
   "outputs": [
    {
     "name": "stderr",
     "output_type": "stream",
     "text": [
      "Unhandled exception in thread started by <bound method CommandPublisher._publish_repeatedly of <robmob.commands.CommandPublisher object at 0x7f7ff84fd908>>\n"
     ]
    }
   ],
   "source": [
    "up = widgets.Button(description='Up')\n",
    "down = widgets.Button(description='Down')\n",
    "left = widgets.Button(description='Left')\n",
    "right = widgets.Button(description='Right')\n",
    "kill = widgets.Button(description='KILL', button_style='danger')\n",
    "\n",
    "\n",
    "display(widgets.HBox((left, widgets.VBox((up, down)), right)))\n",
    "display(kill)\n",
    "\n",
    "kill.on_click(lambda _: robot.send_command(ResetCommand()))\n",
    "up.on_click(lambda _: robot.send_command(MoveForwardCommand()))\n",
    "down.on_click(lambda _: robot.send_command(MoveBackwardCommand()))\n",
    "left.on_click(lambda _: robot.send_command(TurnLeftCommand()))\n",
    "right.on_click(lambda _: robot.send_command(TurnRightCommand()))"
   ]
  },
  {
   "cell_type": "code",
   "execution_count": null,
   "metadata": {
    "collapsed": true
   },
   "outputs": [],
   "source": []
  }
 ],
 "metadata": {
  "kernelspec": {
   "display_name": "Python 3",
   "language": "python",
   "name": "python3"
  },
  "language_info": {
   "codemirror_mode": {
    "name": "ipython",
    "version": 3
   },
   "file_extension": ".py",
   "mimetype": "text/x-python",
   "name": "python",
   "nbconvert_exporter": "python",
   "pygments_lexer": "ipython3",
   "version": "3.5.1"
  },
  "widgets": {
   "state": {
    "5d212c555ac84530a79abd64758fc333": {
     "views": [
      {
       "cell_index": 3
      }
     ]
    },
    "713413f0f545463db61b78cbfb5332b8": {
     "views": [
      {
       "cell_index": 3
      }
     ]
    },
    "d8d522b55c1f44ac96214ed8963bfa3b": {
     "views": [
      {
       "cell_index": 3
      }
     ]
    }
   },
   "version": "1.2.0"
  }
 },
 "nbformat": 4,
 "nbformat_minor": 0
}
