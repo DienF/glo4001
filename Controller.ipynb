{
 "cells": [
  {
   "cell_type": "markdown",
   "metadata": {},
   "source": [
    "**AVANT EXÉCUTION**\n",
    "\n",
    "Au même endroit où vous lancez habituellement la commande `jupyter notebook`, exécutez la commande suivante.\n",
    "\n",
    "```\n",
    "$ jupyter nbextension enable --py widgetsnbextension --sys-prefix \n",
    "```\n",
    "\n",
    "Cette commande active une extension de jupyter qui permet d'écrire du javascript au sein d'un notebook IPython. Une fois cette commande exécutée, relancez jupyter au complet (pas seulement le kernel)."
   ]
  },
  {
   "cell_type": "code",
   "execution_count": 2,
   "metadata": {
    "collapsed": false
   },
   "outputs": [],
   "source": [
    "%autoreload 2\n",
    "\n",
    "from IPython.display import display\n",
    "from ipywidgets import widgets\n",
    "from robmob.robot import Robot\n",
    "from robmob.commands import *"
   ]
  },
  {
   "cell_type": "code",
   "execution_count": 3,
   "metadata": {
    "collapsed": false
   },
   "outputs": [],
   "source": [
    "# A bit of robot setup\n",
    "ip_robot = '192.168.0.108' # Entrez l'ip de votre robot ici. Validez deux fois! Ne vous trompez pas de robot...\n",
    "robot = Robot(ip_robot)\n",
    "robot.connect()"
   ]
  },
  {
   "cell_type": "code",
   "execution_count": 4,
   "metadata": {
    "collapsed": false
   },
   "outputs": [
    {
     "name": "stderr",
     "output_type": "stream",
     "text": [
      "The installed widget Javascript is the wrong version.\n",
      "The installed widget Javascript is the wrong version.\n"
     ]
    }
   ],
   "source": [
    "up = widgets.Button(description='Up')\n",
    "down = widgets.Button(description='Down')\n",
    "left = widgets.Button(description='Left')\n",
    "right = widgets.Button(description='Right')\n",
    "kill = widgets.Button(description='KILL', button_style='danger')\n",
    "\n",
    "\n",
    "display(widgets.HBox((left, widgets.VBox((up, down)), right)))\n",
    "display(kill)\n",
    "\n",
    "kill.on_click(lambda _: robot.send_command(ResetCommand()))\n",
    "up.on_click(lambda _: robot.send_command(MoveForwardCommand()))\n",
    "down.on_click(lambda _: robot.send_command(MoveBackwardCommand()))\n",
    "left.on_click(lambda _: robot.send_command(TurnLeftCommand()))\n",
    "right.on_click(lambda _: robot.send_command(TurnRightCommand()))"
   ]
  },
  {
   "cell_type": "code",
   "execution_count": null,
   "metadata": {
    "collapsed": true
   },
   "outputs": [],
   "source": []
  }
 ],
 "metadata": {
  "kernelspec": {
   "display_name": "Python 3",
   "language": "python",
   "name": "python3"
  },
  "language_info": {
   "codemirror_mode": {
    "name": "ipython",
    "version": 3
   },
   "file_extension": ".py",
   "mimetype": "text/x-python",
   "name": "python",
   "nbconvert_exporter": "python",
   "pygments_lexer": "ipython3",
   "version": "3.4.3"
  },
  "widgets": {
   "state": {
    "03a4d95515bd4703ae9ba1611bbfaf50": {
     "views": []
    },
    "14722d7ca3c74615b971fb9afb7bc025": {
     "views": []
    },
    "1a2e0ec4e7554bc6be7594ed4f4e7231": {
     "views": [
      {
       "cell_index": 3
      }
     ]
    },
    "3e2e1ff5241b46a2a89af73b04e58963": {
     "views": []
    },
    "458d4bc93d88417b96420723609b25a5": {
     "views": []
    },
    "5fd258a822a74ed9ba4b04d82a3ca452": {
     "views": []
    },
    "66bf2194b2c14bcea2a465ea8e6f1c70": {
     "views": []
    },
    "7fd875768e504fea8453f3e6cc8fc734": {
     "views": []
    },
    "a7d715a855e9402bb30997cedc8a6c68": {
     "views": []
    },
    "b41307dcbad2461daf41bc6fc31735cb": {
     "views": []
    },
    "cb0c2a4028d8471e83620347d41a56d5": {
     "views": []
    },
    "cc445cff9d994bafa71cbf932f6438e6": {
     "views": []
    },
    "d4a42bc492e14251a90ddd6c534254cd": {
     "views": [
      {
       "cell_index": 3
      }
     ]
    },
    "f5fd6ba92e3f4f8ebde412ccebcda6c9": {
     "views": []
    }
   },
   "version": "1.1.2"
  }
 },
 "nbformat": 4,
 "nbformat_minor": 0
}
