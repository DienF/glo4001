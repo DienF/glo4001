{
 "cells": [
  {
   "cell_type": "code",
   "execution_count": null,
   "id": "1a3f645f",
   "metadata": {
    "pycharm": {
     "name": "#%%\n"
    }
   },
   "outputs": [],
   "source": [
    "using PyCall\n",
    "push!(pyimport(\"sys\").\"path\", \".\")\n",
    "robmob = pyimport(\"robmob\")\n",
    "robot = pyimport(\"robmob.robot\")\n",
    "sensors = pyimport(\"robmob.sensors\")"
   ]
  },
  {
   "cell_type": "code",
   "execution_count": null,
   "id": "44704594",
   "metadata": {
    "pycharm": {
     "name": "#%%\n"
    }
   },
   "outputs": [],
   "source": [
    "robot_ip = \"localhost\"\n",
    "robot = robot.Robot(robot_ip)\n",
    "\n",
    "robot.connect()"
   ]
  },
  {
   "cell_type": "code",
   "execution_count": null,
   "id": "990afa89",
   "metadata": {
    "pycharm": {
     "name": "#%%\n"
    }
   },
   "outputs": [],
   "source": [
    "sharp_sensor_id = 0\n",
    "sharp_sensor = sensors.SharpSensor(sharp_sensor_id)\n",
    "\n",
    "oracle_sensor = sensors.OracleSharpSensor()\n",
    "\n",
    "robot.add_sensor(sharp_sensor)\n",
    "robot.add_sensor(oracle_sensor)"
   ]
  },
  {
   "cell_type": "code",
   "execution_count": null,
   "id": "a611d99e",
   "metadata": {
    "pycharm": {
     "name": "#%%\n"
    }
   },
   "outputs": [],
   "source": [
    "using Statistics\n",
    "\n",
    "data = sharp_sensor.read_buffer()\n",
    "println(data)\n",
    "\n",
    "println(\"La lecture moyenne est de $(Statistics.mean(data)) volts\")\n",
    "\n",
    "data = oracle_sensor.read_buffer()\n",
    "println(data)\n",
    "\n",
    "println(\"La vraie distance est de $(Statistics.mean(data)) cm\")"
   ]
  }
 ],
 "metadata": {
  "kernelspec": {
   "display_name": "Julia 1.4.1",
   "language": "julia",
   "name": "julia-1.4"
  },
  "language_info": {
   "file_extension": ".jl",
   "mimetype": "application/julia",
   "name": "julia",
   "version": "1.4.1"
  }
 },
 "nbformat": 4,
 "nbformat_minor": 5
}