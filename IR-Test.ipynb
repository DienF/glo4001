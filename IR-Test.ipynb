{
 "cells": [
  {
   "cell_type": "code",
   "execution_count": 3,
   "metadata": {
    "collapsed": false
   },
   "outputs": [
    {
     "name": "stdout",
     "output_type": "stream",
     "text": [
      "The autoreload extension is already loaded. To reload it, use:\n",
      "  %reload_ext autoreload\n"
     ]
    }
   ],
   "source": [
    "# Importation des modules\n",
    "\n",
    "%load_ext autoreload\n",
    "%autoreload 2\n",
    "%matplotlib inline\n",
    "\n",
    "import numpy as np\n",
    "import matplotlib.pyplot as plt\n",
    "import time\n",
    "from robmob.robot import Robot\n",
    "from websocket import WebSocketConnectionClosedException\n",
    "from robmob.sensors import SharpSensor\n",
    "from IPython.display import clear_output"
   ]
  },
  {
   "cell_type": "code",
   "execution_count": 4,
   "metadata": {
    "collapsed": false
   },
   "outputs": [
    {
     "name": "stdout",
     "output_type": "stream",
     "text": [
      "Testing ip 192.168.0.112:\n",
      "id0: 2.6224\n",
      "id1: 0.4528\n",
      "q\n"
     ]
    }
   ],
   "source": [
    "ip_list = [('192.168.0.1%02d' % x) for x in range(15)]\n",
    "\n",
    "for ip in ip_list:\n",
    "    try:\n",
    "        robot = Robot(ip)\n",
    "        robot.connect()\n",
    "        time.sleep(0.3) #wait connection\n",
    "\n",
    "        sharp_sensor_0 = SharpSensor(0)\n",
    "        sharp_sensor_1 = SharpSensor(1)\n",
    "        robot.add_sensor(sharp_sensor_0)\n",
    "        robot.add_sensor(sharp_sensor_1)\n",
    "        time.sleep(0.8) #let buffer fill with data\n",
    "        \n",
    "        key_in = ''\n",
    "        \n",
    "        while key_in not in ['n', 'q']:\n",
    "            clear_output()\n",
    "            print(\"Testing ip %s:\\nid0: %0.4f\\nid1: %0.4f\" % (ip, \n",
    "                                                              sharp_sensor_0.peek_data(), \n",
    "                                                              sharp_sensor_1.peek_data()))\n",
    "            key_in = input()\n",
    "        \n",
    "        robot.disconnect()\n",
    "        \n",
    "        if key_in == 'q':\n",
    "            break\n",
    "            \n",
    "            \n",
    "    except (WebSocketConnectionClosedException, IndexError):\n",
    "        clear_output()\n",
    "        print('ip %s is not reachable' % ip)\n",
    "        input()      "
   ]
  },
  {
   "cell_type": "code",
   "execution_count": null,
   "metadata": {
    "collapsed": true
   },
   "outputs": [],
   "source": [
    "\n",
    "\n",
    "\n"
   ]
  },
  {
   "cell_type": "code",
   "execution_count": null,
   "metadata": {
    "collapsed": true
   },
   "outputs": [],
   "source": []
  }
 ],
 "metadata": {
  "kernelspec": {
   "display_name": "Python 3",
   "language": "python",
   "name": "python3"
  },
  "language_info": {
   "codemirror_mode": {
    "name": "ipython",
    "version": 3
   },
   "file_extension": ".py",
   "mimetype": "text/x-python",
   "name": "python",
   "nbconvert_exporter": "python",
   "pygments_lexer": "ipython3",
   "version": "3.5.2"
  }
 },
 "nbformat": 4,
 "nbformat_minor": 0
}
