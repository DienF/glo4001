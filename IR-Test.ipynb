{
 "cells": [
  {
   "cell_type": "code",
   "execution_count": null,
   "metadata": {
    "collapsed": false
   },
   "outputs": [],
   "source": [
    "# Importation des modules\n",
    "\n",
    "%load_ext autoreload\n",
    "%autoreload 2\n",
    "%matplotlib inline\n",
    "\n",
    "import numpy as np\n",
    "import matplotlib.pyplot as plt\n",
    "import time\n",
    "from robmob.robot import Robot\n",
    "from websocket import WebSocketConnectionClosedException\n",
    "from robmob.sensors import SharpSensor\n",
    "from IPython.display import clear_output"
   ]
  },
  {
   "cell_type": "code",
   "execution_count": null,
   "metadata": {
    "collapsed": false
   },
   "outputs": [],
   "source": [
    "ip_list = [('192.168.0.1%02d' % x) for x in range(15)]\n",
    "\n",
    "for ip in ip_list:\n",
    "    try:\n",
    "        robot = Robot(ip)\n",
    "        robot.connect()\n",
    "        time.sleep(0.2) #wait connection\n",
    "        \n",
    "        sharp_sensor_0 = SharpSensor(0)\n",
    "        sharp_sensor_1 = SharpSensor(1)\n",
    "        robot.add_sensor(sharp_sensor_0)\n",
    "        robot.add_sensor(sharp_sensor_1)\n",
    "        time.sleep(0.2) #let buffer fill with data\n",
    "        \n",
    "        key_in = ''\n",
    "        \n",
    "        while key_in != 'n':\n",
    "            clear_output(wait=True)\n",
    "            print(\"Testing ip %s:\\nid0: %0.4d\\nid1: %0.4d\" % (ip, \n",
    "                                                              sharp_sensor_0.peek_data(), \n",
    "                                                              sharp_sensor_1.peek_data()))\n",
    "            key_in = input()\n",
    "            \n",
    "    except WebSocketConnectionClosedException:\n",
    "        print('ip %s is not reachable' % ip)\n",
    "        input()\n",
    "        clear_output()"
   ]
  },
  {
   "cell_type": "code",
   "execution_count": null,
   "metadata": {
    "collapsed": true
   },
   "outputs": [],
   "source": []
  }
 ],
 "metadata": {
  "kernelspec": {
   "display_name": "Python 3",
   "language": "python",
   "name": "python3"
  },
  "language_info": {
   "codemirror_mode": {
    "name": "ipython",
    "version": 3
   },
   "file_extension": ".py",
   "mimetype": "text/x-python",
   "name": "python",
   "nbconvert_exporter": "python",
   "pygments_lexer": "ipython3",
   "version": "3.5.2"
  }
 },
 "nbformat": 4,
 "nbformat_minor": 0
}
