{
 "cells": [
  {
   "cell_type": "markdown",
   "metadata": {},
   "source": [
    "# Laboratoire 6\n",
    "## Filtre de Kalman\n",
    "\n",
    "### Partie 1 - Calibration du capteur"
   ]
  },
  {
   "cell_type": "code",
   "execution_count": 2,
   "metadata": {
    "collapsed": true
   },
   "outputs": [],
   "source": [
    "# Importation des modules\n",
    "\n",
    "%load_ext autoreload\n",
    "%autoreload 2\n",
    "%matplotlib inline\n",
    "\n",
    "import os.path\n",
    "import numpy as np\n",
    "import matplotlib.pyplot as plt\n",
    "from robmob.robot import Robot\n",
    "from robmob.sensors import SharpSensor\n",
    "from IPython.display import clear_output"
   ]
  },
  {
   "cell_type": "markdown",
   "metadata": {},
   "source": [
    "Modifiez la valeur de `ip_robot` selon le robot qui vous a été assigné."
   ]
  },
  {
   "cell_type": "code",
   "execution_count": 1,
   "metadata": {
    "collapsed": false
   },
   "outputs": [
    {
     "ename": "NameError",
     "evalue": "name 'Robot' is not defined",
     "output_type": "error",
     "traceback": [
      "\u001b[0;31m---------------------------------------------------------------------------\u001b[0m",
      "\u001b[0;31mNameError\u001b[0m                                 Traceback (most recent call last)",
      "\u001b[0;32m<ipython-input-1-08fdb15a37f4>\u001b[0m in \u001b[0;36m<module>\u001b[0;34m()\u001b[0m\n\u001b[1;32m      1\u001b[0m \u001b[0;31m# Connexion au robot\u001b[0m\u001b[0;34m\u001b[0m\u001b[0;34m\u001b[0m\u001b[0m\n\u001b[1;32m      2\u001b[0m \u001b[0mip_robot\u001b[0m \u001b[0;34m=\u001b[0m \u001b[0;34m'192.168.0.114'\u001b[0m\u001b[0;34m\u001b[0m\u001b[0m\n\u001b[0;32m----> 3\u001b[0;31m \u001b[0mrobot\u001b[0m \u001b[0;34m=\u001b[0m \u001b[0mRobot\u001b[0m\u001b[0;34m(\u001b[0m\u001b[0mip_robot\u001b[0m\u001b[0;34m)\u001b[0m\u001b[0;34m\u001b[0m\u001b[0m\n\u001b[0m\u001b[1;32m      4\u001b[0m \u001b[0mrobot\u001b[0m\u001b[0;34m.\u001b[0m\u001b[0mconnect\u001b[0m\u001b[0;34m(\u001b[0m\u001b[0;34m)\u001b[0m\u001b[0;34m\u001b[0m\u001b[0m\n",
      "\u001b[0;31mNameError\u001b[0m: name 'Robot' is not defined"
     ]
    }
   ],
   "source": [
    "# Connexion au robot\n",
    "ip_robot = '192.168.0.114'\n",
    "robot = Robot(ip_robot)\n",
    "robot.connect()"
   ]
  },
  {
   "cell_type": "code",
   "execution_count": null,
   "metadata": {
    "collapsed": true
   },
   "outputs": [],
   "source": [
    "sharp_sensor_id = 0 # 0 ou 1 selon votre robot\n",
    "sharp_sensor = SharpSensor(sharp_sensor_id)\n",
    "robot.add_sensor(sharp_sensor)"
   ]
  },
  {
   "cell_type": "markdown",
   "metadata": {},
   "source": [
    "Utilisez cette cellule pour vérifier que vous avez bien choisis le bon capeut IR"
   ]
  },
  {
   "cell_type": "code",
   "execution_count": null,
   "metadata": {
    "collapsed": true
   },
   "outputs": [],
   "source": [
    "data = sharp_sensor.read_buffer()\n",
    "print(data)\n",
    "print(\"La lecture moyenne est de %0.2f volts\" % np.average(data))"
   ]
  },
  {
   "cell_type": "markdown",
   "metadata": {},
   "source": [
    "#### Calibration\n",
    "Prenez une série de mesures séparées de 5 cm, entre 30 cm et 120 cm. Prenez note que le buffer prend environ 2 secondes à ce remplir, donc prenez votre temps entre les mesurese.\n",
    "Soyez attentifs, car ces mesures\n",
    "serviront à calibrer votre capteur infrarouge et aussi à tester votre filtre de Kalman.\n",
    "\n",
    "Dans la cellule suivante, utilisez ```t``` (take) pour prendre la mesure et ```r``` (retry) pour reprendre la mesure. "
   ]
  },
  {
   "cell_type": "code",
   "execution_count": null,
   "metadata": {
    "collapsed": true
   },
   "outputs": [],
   "source": [
    "xs = np.array([x for x in range(0.30, 1.25, 0.05)]) * 0.01 #Distances à calibrer en mètres\n",
    "zs = []"
   ]
  },
  {
   "cell_type": "code",
   "execution_count": null,
   "metadata": {
    "collapsed": true
   },
   "outputs": [],
   "source": [
    "# Capture des données de calibration\n",
    "\n",
    "for x in xs:\n",
    "    key_in = ''\n",
    "    while key_in != 't':\n",
    "        buf = sharp_sensor.read_buffer()\n",
    "        z = np.mean(buf)\n",
    "        print(\"moyenne de %d mesures: %f\" % (len(buf), z))\n",
    "        print(\"(t)ake / (r)etry\")\n",
    "    zs.append(z)\n",
    "    clear_output()\n",
    "\n",
    "zs = np.asarray(zs)"
   ]
  },
  {
   "cell_type": "code",
   "execution_count": null,
   "metadata": {
    "collapsed": true
   },
   "outputs": [],
   "source": [
    "# Sauvegarde des zs de calibration sur le disque (au cas où vous redémarriez le notebook)\n",
    "np.savetxt(\"./lab6_calib_zs.txt\", zs)"
   ]
  },
  {
   "cell_type": "code",
   "execution_count": null,
   "metadata": {
    "collapsed": true
   },
   "outputs": [],
   "source": [
    "zs = np.loadtxt(\"./lab6_calib_zs.txt\")"
   ]
  },
  {
   "cell_type": "code",
   "execution_count": 19,
   "metadata": {
    "collapsed": true
   },
   "outputs": [],
   "source": [
    "def calibrate(xs, zs):\n",
    "    \"\"\"\n",
    "    Args:\n",
    "      - xs: distances en mètres des mesures zs\n",
    "      - zs: mesures en Volts\n",
    "    Return:\n",
    "      - Fonction linéaire qui prend en entrée l'inverse de la distance en mètres et retourne une mesure en Volts \n",
    "        (c'est la fonction de capteur)\n",
    "      - Les coefficients de K_1 et K_2 de la fonction linéaire de capteur\n",
    "    \"\"\"\n",
    "    xs_inverse_meters = 1.0 / xs\n",
    "    coeffs = np.polyfit(xs_inverse_meters, zs, deg=1)\n",
    "    sensor_function = np.poly1d(coeffs)\n",
    "    return sensor_function, coeffs"
   ]
  },
  {
   "cell_type": "code",
   "execution_count": 30,
   "metadata": {
    "collapsed": false
   },
   "outputs": [
    {
     "data": {
      "text/plain": [
       "True"
      ]
     },
     "execution_count": 30,
     "metadata": {},
     "output_type": "execute_result"
    }
   ],
   "source": [
    "#TODO remove this (only there to test the plot)\n",
    "xs = np.array([x for x in range(30, 125, 5)]) * 0.01\n",
    "zs = np.asarray([2, 1.52, 1.2, 1.11, 1.05, 1, 0.96, 0.88, 0.79, 0.75, 0.71, 0.65, 0.64, 0.62, 0.59, 0.57, 0.52, 0.5, 0.47])\n",
    "xs.shape == zs.shape"
   ]
  },
  {
   "cell_type": "code",
   "execution_count": 29,
   "metadata": {
    "collapsed": false
   },
   "outputs": [
    {
     "name": "stdout",
     "output_type": "stream",
     "text": [
      "K_1: 0.033304\n",
      "K_2: 0.532526\n"
     ]
    },
    {
     "data": {
      "text/plain": [
       "<matplotlib.text.Text at 0x7f2301252710>"
      ]
     },
     "execution_count": 29,
     "metadata": {},
     "output_type": "execute_result"
    },
    {
     "data": {
      "image/png": "[encoded data removed]",
      "text/plain": [
       "<matplotlib.figure.Figure at 0x7f23011ee198>"
      ]
     },
     "metadata": {},
     "output_type": "display_data"
    }
   ],
   "source": [
    "sensor_fn, coeffs = calibrate(xs, zs)\n",
    "print(\"K_1: %f\" % coeffs[1])\n",
    "print(\"K_2: %f\" % coeffs[0])\n",
    "\n",
    "#Plot calibration\n",
    "xs_inv = 1.0 / xs\n",
    "plt.scatter(xs_inv, zs)\n",
    "plt.plot(xs_inv, sensor_fn(xs_inv))\n",
    "plt.xlabel(\"1 / x\")\n",
    "plt.ylabel(\"z\")\n"
   ]
  },
  {
   "cell_type": "markdown",
   "metadata": {},
   "source": [
    "## TODO insérer l'image\n",
    "Comme illustré à l’image ci-haut, le capteur infrarouge fonctionne essentiellement avec l’inverse de la\n",
    "distance. Il sera donc approximé par la fonction suivante :\n",
    "\n",
    "$$\n",
    "f_{infrarouge}(x) = K_{1 Sharp} + \\frac{K_{2 Sharp}}{x}, x > 30\n",
    "$$\n",
    "\n",
    "Comme cette fonction est\n",
    "bijective, on peut trouver un estimé de distance $x$ directement à partir de la mesure infrarouge $z$, avec\n",
    "l’inverse de la fonction :\n",
    "\n",
    "$$\n",
    "f^{-1}_{infrarouge}(z) = \\frac{K_{2 Sharp}}{z - K_{1 Sharp}}\n",
    "$$\n",
    "\n",
    "Vous aurez besoin de cette fonction pour initialiser l’estimé $X$ d’un filtre quand vous ne connaissez pas\n",
    "la position de départ du système. Elle sera aussi utilisée par le script pour comparer directement les\n",
    "mesures du capteur infrarouge avec vos estimés. **Notez que ces équations (1) et (2) ne sont valides que\n",
    "pour $x$ > 0.30 m : votre robot ne pourra donc jamais être à moins de 0.30 m du mur**."
   ]
  },
  {
   "cell_type": "markdown",
   "metadata": {},
   "source": [
    "### Partie 2 - Modèle du système\n",
    "Comme estimé de bruit sur le capteur infrarouge, nous allons prendre la valeur de $\\sigma^2_{infrarouge} = (0.02V)^2$, ce qui correspond approximativement à un palier du convertisseur analogique-numérique. Le bruit de\n",
    "déplacement sera $\\sigma^2_{pas} = (0.002 m)^2$, ce qui donne essentiellement un écart-type de 2 mm sur un pas du\n",
    "robot. Fait à noter, le choix de ces valeurs influencera grandement le comportement du filtre. Ainsi, si\n",
    "vous choisissez un estimé de bruit de capteur $\\sigma^2_{infrarouge}$\n",
    "plus petit, vous indiquez au filtre qu’il doit\n",
    "augmenter sa confiance envers les mesures du capteur. De la même manière, si vous diminuez la valeur\n",
    "estimée du bruit sur les commandes $\\sigma^2_{pas}$, il augmentera sa confiance envers l’estimé $x(k+1\\,|\\,k)$ obtenu lors\n",
    "de la phase de prédiction. Nous y reviendrons lors des manipulations.\n",
    "\n",
    "La dynamique du système et la commande sont linéaires pour ce système:\n",
    "\n",
    "$$\n",
    "x(k + 1\\,|\\,k) = x(k) + u(k)\n",
    "$$\n",
    "\n",
    "> **NOTE** Le bruit associé à la conversion analogique-numérique est généralement modélisé comme une distribution uniforme entre\n",
    "±un demi-palier de conversion. Pour les curieux, une discussion complète de ce sujet est disponible sur wikipedia :\n",
    "http://en.wikipedia.org/wiki/Quantization_error"
   ]
  },
  {
   "cell_type": "code",
   "execution_count": null,
   "metadata": {
    "collapsed": true
   },
   "outputs": [],
   "source": []
  }
 ],
 "metadata": {
  "kernelspec": {
   "display_name": "Python 3",
   "language": "python",
   "name": "python3"
  },
  "language_info": {
   "codemirror_mode": {
    "name": "ipython",
    "version": 3
   },
   "file_extension": ".py",
   "mimetype": "text/x-python",
   "name": "python",
   "nbconvert_exporter": "python",
   "pygments_lexer": "ipython3",
   "version": "3.5.2"
  }
 },
 "nbformat": 4,
 "nbformat_minor": 1
}
